{
 "cells": [
  {
   "cell_type": "markdown",
   "metadata": {},
   "source": [
    "# 15 Ejercicios cortos"
   ]
  },
  {
   "cell_type": "markdown",
   "metadata": {},
   "source": [
    "Este es un popurrí de ejercicios cortos sobre diseño de funciones y clases para coger algo de soltura.\n",
    "\n",
    "Cada ejercicio es independiente y no tiene relación con los anteriores (como norma general). Siéntete libre de importar las bibliotecas que quieras.\n",
    "\n",
    "En cada ejercicio deberás escribir la función/clase requerida, y probar a llamarla (o a crear una instancia) con valores de prueba."
   ]
  },
  {
   "cell_type": "markdown",
   "metadata": {},
   "source": [
    "#### 1. Escribe una función `hipotenusa` que tome como argumentos posicionales los dos catetos de un triángulo rectángulo y devuelva la hipotenusa de dicho triángulo."
   ]
  },
  {
   "cell_type": "code",
   "execution_count": 3,
   "metadata": {
    "collapsed": true
   },
   "outputs": [],
   "source": [
    "import math"
   ]
  },
  {
   "cell_type": "code",
   "execution_count": 4,
   "metadata": {
    "collapsed": true
   },
   "outputs": [],
   "source": [
    "def hipotenusa(a,b):\n",
    "    return math.sqrt(a**2+b**2)"
   ]
  },
  {
   "cell_type": "code",
   "execution_count": 5,
   "metadata": {
    "collapsed": false
   },
   "outputs": [
    {
     "data": {
      "text/plain": [
       "5.0"
      ]
     },
     "execution_count": 5,
     "metadata": {},
     "output_type": "execute_result"
    }
   ],
   "source": [
    "hipotenusa(3,4)"
   ]
  },
  {
   "cell_type": "markdown",
   "metadata": {},
   "source": [
    "#### 2. Define una clase que tenga al menos dos métodos: `setString`, que fija un string pasado como argumento como *instance variable*; y `getString`, que devuelve dicho string:"
   ]
  },
  {
   "cell_type": "code",
   "execution_count": 100,
   "metadata": {
    "collapsed": true
   },
   "outputs": [],
   "source": [
    "class Cadena(object):\n",
    "    tipo_entrada=\"texto\"\n",
    "    \n",
    "    def __init__(self, contiene_mayusculas, contiene_tildes):\n",
    "        self.mayusculas=contiene_mayusculas\n",
    "        self.tildes=contiene_tildes\n",
    "        \n",
    "    def setString(self, entrada_texto):\n",
    "        self.entrada=entrada_texto\n",
    "        \n",
    "    def getString(self):\n",
    "        print(\"Atributos:\"+self.tipo_entrada+\"; contiene mayúsculas:\"+str(self.mayusculas)+\", contiene tildes:\"+str(self.tildes)+\".\\n\\n\"+self.entrada)\n",
    "        return None"
   ]
  },
  {
   "cell_type": "code",
   "execution_count": 101,
   "metadata": {
    "collapsed": false
   },
   "outputs": [],
   "source": [
    "dicho=Cadena(True,False)"
   ]
  },
  {
   "cell_type": "code",
   "execution_count": 102,
   "metadata": {
    "collapsed": true
   },
   "outputs": [],
   "source": [
    "dicho.setString(\"Hola. Me llamo Pablo.\")"
   ]
  },
  {
   "cell_type": "code",
   "execution_count": 103,
   "metadata": {
    "collapsed": false
   },
   "outputs": [
    {
     "name": "stdout",
     "output_type": "stream",
     "text": [
      "Atributos:texto; contiene mayúsculas:True, contiene tildes:False.\n",
      "\n",
      "Hola. Me llamo Pablo.\n"
     ]
    }
   ],
   "source": [
    "dicho.getString()"
   ]
  },
  {
   "cell_type": "markdown",
   "metadata": {},
   "source": [
    "#### 3. Escribe una función llamada `wordcount` que tome como argumento un solo string con varias palabras (separadas por espacios en blanco) y devuelva el número de palabras del string pasado:"
   ]
  },
  {
   "cell_type": "code",
   "execution_count": 143,
   "metadata": {
    "collapsed": true
   },
   "outputs": [],
   "source": [
    "def wordcount(a):\n",
    "    listado1=a.split(\" \")\n",
    "    return len(listado1)"
   ]
  },
  {
   "cell_type": "code",
   "execution_count": 148,
   "metadata": {
    "collapsed": false
   },
   "outputs": [
    {
     "data": {
      "text/plain": [
       "3"
      ]
     },
     "execution_count": 148,
     "metadata": {},
     "output_type": "execute_result"
    }
   ],
   "source": [
    "wordcount(\"Me llamo Pablo\")"
   ]
  },
  {
   "cell_type": "markdown",
   "metadata": {},
   "source": [
    "#### 4. Escribe una función llamada `divisibles_por_7` que tome como argumentos un número arbitrario de números enteros y devuelva una lista con solo aquellos que sean divisibles por 7 (sin dar decimales):"
   ]
  },
  {
   "cell_type": "code",
   "execution_count": 8,
   "metadata": {
    "collapsed": true
   },
   "outputs": [],
   "source": [
    "def divisibles_por_7(entrada):\n",
    "    siete=[elemento for elemento in entrada if elemento%7==0]\n",
    "    return siete"
   ]
  },
  {
   "cell_type": "code",
   "execution_count": 9,
   "metadata": {
    "collapsed": false
   },
   "outputs": [
    {
     "data": {
      "text/plain": [
       "[7, 28, 35, 56]"
      ]
     },
     "execution_count": 9,
     "metadata": {},
     "output_type": "execute_result"
    }
   ],
   "source": [
    "divisibles_por_7([7,-4,5,28,35,29,56])"
   ]
  },
  {
   "cell_type": "markdown",
   "metadata": {},
   "source": [
    "#### 5. Escribe una función `factorial` que devuelva el factorial de un número entero."
   ]
  },
  {
   "cell_type": "code",
   "execution_count": 10,
   "metadata": {
    "collapsed": true
   },
   "outputs": [],
   "source": [
    "import math"
   ]
  },
  {
   "cell_type": "code",
   "execution_count": 11,
   "metadata": {
    "collapsed": true
   },
   "outputs": [],
   "source": [
    "factorial=lambda n:math.factorial(n)"
   ]
  },
  {
   "cell_type": "code",
   "execution_count": 12,
   "metadata": {
    "collapsed": false
   },
   "outputs": [
    {
     "data": {
      "text/plain": [
       "24"
      ]
     },
     "execution_count": 12,
     "metadata": {},
     "output_type": "execute_result"
    }
   ],
   "source": [
    "factorial(4)"
   ]
  },
  {
   "cell_type": "markdown",
   "metadata": {},
   "source": [
    "####  6. Escribe una función `manhattan` que compute la distancia de Manhattan entre dos puntos bidimensionales (donde cada uno de estos puntos tiene coordenadas de la forma `(x,y)`):"
   ]
  },
  {
   "cell_type": "code",
   "execution_count": 149,
   "metadata": {
    "collapsed": true
   },
   "outputs": [],
   "source": [
    "manhattan=lambda x,y,a,b:abs(x-a)+abs(y-b)"
   ]
  },
  {
   "cell_type": "code",
   "execution_count": 150,
   "metadata": {
    "collapsed": false
   },
   "outputs": [
    {
     "data": {
      "text/plain": [
       "7"
      ]
     },
     "execution_count": 150,
     "metadata": {},
     "output_type": "execute_result"
    }
   ],
   "source": [
    "manhattan(8,14,5,10) # Los puntos son A(8,14) y B(5,10)"
   ]
  },
  {
   "cell_type": "markdown",
   "metadata": {},
   "source": [
    "#### 7. Define una función `overlapping` que tome como argumento dos colecciones. Si ambas colecciones tienen al menos un elemento en común, debe devolver `True`. Si no es así, debe devolver `False`:"
   ]
  },
  {
   "cell_type": "code",
   "execution_count": 55,
   "metadata": {
    "collapsed": true
   },
   "outputs": [],
   "source": [
    "def overlapping(x,y):\n",
    "    for el in x:\n",
    "        if el in y:\n",
    "            print(el in listaf)\n",
    "            break # Se interrumpe la ejecución. Se escribe una sola vez True.\n",
    "    else:         # Indentado a nivel del for. Se escribe una sola vez False.\n",
    "        print(1==2)"
   ]
  },
  {
   "cell_type": "code",
   "execution_count": 53,
   "metadata": {
    "collapsed": true
   },
   "outputs": [],
   "source": [
    "listae=[2,9,\"ana\"]\n",
    "listaf=[3,2,\"ana\"]\n",
    "listag=[1,4,\"luis\"]\n",
    "listah=[6,5,\"ana\"]\n",
    "tuplae=(2,9,\"ana\")\n",
    "tuplaf=(3,2,\"ana\")\n",
    "tuplag=(1,4,\"luis\")\n",
    "tuplah=(6,5,\"ana\")"
   ]
  },
  {
   "cell_type": "code",
   "execution_count": 54,
   "metadata": {
    "collapsed": false
   },
   "outputs": [
    {
     "name": "stdout",
     "output_type": "stream",
     "text": [
      "True\n",
      "False\n",
      "True\n",
      "True\n",
      "False\n",
      "False\n"
     ]
    }
   ],
   "source": [
    "overlapping(listae,listaf)\n",
    "overlapping(listae,listag)\n",
    "overlapping(listae,listah)\n",
    "overlapping(tuplae,tuplaf)\n",
    "overlapping(tuplae,tuplag)\n",
    "overlapping(tuplag,tuplah)"
   ]
  },
  {
   "cell_type": "markdown",
   "metadata": {},
   "source": [
    "#### 8. Define una función `filtrar_palabras_largas` que tome como argumento una lista de palabras (strings), y una longitud máxima `n`. Esta función debe devolver una lista solo con las palabras que son más cortas que `n`:"
   ]
  },
  {
   "cell_type": "code",
   "execution_count": 16,
   "metadata": {
    "collapsed": true
   },
   "outputs": [],
   "source": [
    "def filtrar_palabras_largas(x,n):\n",
    "    listado=[elem for elem in x if len(elem)<=n]\n",
    "    return listado"
   ]
  },
  {
   "cell_type": "code",
   "execution_count": 19,
   "metadata": {
    "collapsed": false
   },
   "outputs": [
    {
     "data": {
      "text/plain": [
       "['ana', 'maraña', 'calcio']"
      ]
     },
     "execution_count": 19,
     "metadata": {},
     "output_type": "execute_result"
    }
   ],
   "source": [
    "filtrar_palabras_largas([\"ana\",\"maraña\",\"calcio\",\"escobilla\"],6)"
   ]
  },
  {
   "cell_type": "code",
   "execution_count": 20,
   "metadata": {
    "collapsed": false
   },
   "outputs": [
    {
     "data": {
      "text/plain": [
       "['ana']"
      ]
     },
     "execution_count": 20,
     "metadata": {},
     "output_type": "execute_result"
    }
   ],
   "source": [
    "filtrar_palabras_largas([\"ana\",\"maraña\",\"calcio\",\"escobilla\"],5)"
   ]
  },
  {
   "cell_type": "markdown",
   "metadata": {},
   "source": [
    "#### 9. Escribe una función `desv_tipica` que tome como argumento una distribución (lista) de números y devuelva la desviación típica. *Nota: aquí no vale utilizar Numpy ni pandas*:"
   ]
  },
  {
   "cell_type": "code",
   "execution_count": 21,
   "metadata": {
    "collapsed": true
   },
   "outputs": [],
   "source": [
    "from math import sqrt"
   ]
  },
  {
   "cell_type": "code",
   "execution_count": 22,
   "metadata": {
    "collapsed": true
   },
   "outputs": [],
   "source": [
    "def desv_tipica(x):\n",
    "    acum=0\n",
    "    acum2=0\n",
    "    for elem in x:\n",
    "        acum=acum+elem\n",
    "    media=acum/len(x)\n",
    "    for el in x:\n",
    "        acum2=acum2+(el-media)**2\n",
    "    desviacion=sqrt(acum2/len(x))\n",
    "    return desviacion"
   ]
  },
  {
   "cell_type": "code",
   "execution_count": 23,
   "metadata": {
    "collapsed": false
   },
   "outputs": [
    {
     "data": {
      "text/plain": [
       "3.1622776601683795"
      ]
     },
     "execution_count": 23,
     "metadata": {},
     "output_type": "execute_result"
    }
   ],
   "source": [
    "desv_tipica([2,4,8,10])"
   ]
  },
  {
   "cell_type": "markdown",
   "metadata": {},
   "source": [
    "#### 10. Escribe una función `suma_hasta_el_primo` que tome como argumento una lista de números y:\n",
    "+ Vaya recorriendo la lista de izquierda a derecha.\n",
    "+ Si un número no es primo, lo sumará a una `suma_acumulada`.\n",
    "+ Si un número es primo, se interrumpe la ejecución y se devuelve la `suma_acumulada` (sin sumar el número primo) hasta el momento.\n",
    "\n",
    "*Pista:* igual te resulta más sencillo escribir dos funciones: una que chequee si un número es primo o no, y luego ya `suma_hasta_el_primo`, y que utilice internamente esa función de chequear primos."
   ]
  },
  {
   "cell_type": "code",
   "execution_count": 3,
   "metadata": {
    "collapsed": true
   },
   "outputs": [],
   "source": [
    "from math import sqrt"
   ]
  },
  {
   "cell_type": "code",
   "execution_count": 4,
   "metadata": {
    "collapsed": true
   },
   "outputs": [],
   "source": [
    "def suma_hasta_el_primo(x):\n",
    "    suma=0\n",
    "    suma_acumulada=0\n",
    "    for el in x:\n",
    "        cota=int(sqrt(el)) # Acota los posibles divisores primos.\n",
    "        #print(\"La cota para posibles factores primos de %s es %s\" %(el,cota))         \n",
    "        lista=list(range(2,cota+1))\n",
    "        #print(\"La lista de posibles factores primos de %s es %s\" %(el,lista))\n",
    "        contador=0\n",
    "        for num in lista:\n",
    "            if el%num==0:\n",
    "                contador+=1\n",
    "            else:\n",
    "                contador=contador+0       \n",
    "        suma=el\n",
    "        if contador==0:\n",
    "            print(\"El número %s es primo\" %(el))\n",
    "            suma=suma+0\n",
    "            break            # Se interrumpe la ejecución.\n",
    "        suma_acumulada=suma_acumulada+suma\n",
    "    return print(\"La suma acumulada de números no primos hasta el momento es %s\" %(suma_acumulada)) "
   ]
  },
  {
   "cell_type": "code",
   "execution_count": 8,
   "metadata": {
    "collapsed": false
   },
   "outputs": [
    {
     "name": "stdout",
     "output_type": "stream",
     "text": [
      "El número 7 es primo\n",
      "La suma acumulada de números no primos hasta el momento es 30\n"
     ]
    }
   ],
   "source": [
    "suma_hasta_el_primo([4,10,16,7,9])"
   ]
  },
  {
   "cell_type": "code",
   "execution_count": 6,
   "metadata": {
    "collapsed": false
   },
   "outputs": [
    {
     "name": "stdout",
     "output_type": "stream",
     "text": [
      "El número 5 es primo\n",
      "La suma acumulada de números no primos hasta el momento es 0\n"
     ]
    }
   ],
   "source": [
    "suma_hasta_el_primo([5,12,16,7,9])"
   ]
  },
  {
   "cell_type": "code",
   "execution_count": 7,
   "metadata": {
    "collapsed": false
   },
   "outputs": [
    {
     "name": "stdout",
     "output_type": "stream",
     "text": [
      "El número 7 es primo\n",
      "La suma acumulada de números no primos hasta el momento es 42\n"
     ]
    }
   ],
   "source": [
    "suma_hasta_el_primo([4,12,16,10,7])"
   ]
  },
  {
   "cell_type": "code",
   "execution_count": 10,
   "metadata": {
    "collapsed": false
   },
   "outputs": [
    {
     "name": "stdout",
     "output_type": "stream",
     "text": [
      "El número 727 es primo\n",
      "La suma acumulada de números no primos hasta el momento es 20\n"
     ]
    }
   ],
   "source": [
    "suma_hasta_el_primo([6,4,10,727,9,14])"
   ]
  },
  {
   "cell_type": "code",
   "execution_count": 9,
   "metadata": {
    "collapsed": false
   },
   "outputs": [
    {
     "name": "stdout",
     "output_type": "stream",
     "text": [
      "La suma acumulada de números no primos hasta el momento es 51\n"
     ]
    }
   ],
   "source": [
    "suma_hasta_el_primo([4,12,16,10,9])"
   ]
  },
  {
   "cell_type": "markdown",
   "metadata": {},
   "source": [
    "####  11. Escribe una función `juego_de_numero` que:\n",
    "+ Tome como argumento un número (entero).\n",
    "+ Si el número es par, divídelo por 2.\n",
    "+ Si es impar, multiplícalo por 3 y súmale 1.\n",
    "+ Continúa haciéndolo hasta que tu resultado sea 1.\n",
    "+ Devuelve el número de \"números visitados\", incluyendo el inicial y el 1.\n",
    "\n",
    "Por ejemplo: si llamamos a `juego_de_numero(3)`, la secuencia es 3-10-5-16-8-4-2-1."
   ]
  },
  {
   "cell_type": "code",
   "execution_count": 11,
   "metadata": {
    "collapsed": true
   },
   "outputs": [],
   "source": [
    "def juego_de_numero(z): # El número introducido debe ser un natural (1 incluido y 0 excluido)\n",
    "    n=z       \n",
    "    lista=[n]\n",
    "    while n!=1:\n",
    "        if n%2==0:\n",
    "            n=n//2\n",
    "        else:\n",
    "            n=3*n+1\n",
    "        lista.append(n)\n",
    "    return lista"
   ]
  },
  {
   "cell_type": "code",
   "execution_count": 12,
   "metadata": {
    "collapsed": false
   },
   "outputs": [
    {
     "data": {
      "text/plain": [
       "[3, 10, 5, 16, 8, 4, 2, 1]"
      ]
     },
     "execution_count": 12,
     "metadata": {},
     "output_type": "execute_result"
    }
   ],
   "source": [
    "juego_de_numero(3)"
   ]
  },
  {
   "cell_type": "code",
   "execution_count": 13,
   "metadata": {
    "collapsed": false
   },
   "outputs": [
    {
     "data": {
      "text/plain": [
       "[12, 6, 3, 10, 5, 16, 8, 4, 2, 1]"
      ]
     },
     "execution_count": 13,
     "metadata": {},
     "output_type": "execute_result"
    }
   ],
   "source": [
    "juego_de_numero(12)"
   ]
  },
  {
   "cell_type": "code",
   "execution_count": 14,
   "metadata": {
    "collapsed": false
   },
   "outputs": [
    {
     "data": {
      "text/plain": [
       "[11, 34, 17, 52, 26, 13, 40, 20, 10, 5, 16, 8, 4, 2, 1]"
      ]
     },
     "execution_count": 14,
     "metadata": {},
     "output_type": "execute_result"
    }
   ],
   "source": [
    "juego_de_numero(11)"
   ]
  },
  {
   "cell_type": "code",
   "execution_count": 15,
   "metadata": {
    "collapsed": false
   },
   "outputs": [
    {
     "data": {
      "text/plain": [
       "[1]"
      ]
     },
     "execution_count": 15,
     "metadata": {},
     "output_type": "execute_result"
    }
   ],
   "source": [
    "juego_de_numero(1)"
   ]
  },
  {
   "cell_type": "markdown",
   "metadata": {},
   "source": [
    "#### 12. Si probamos `juego_de_numero` con todos los números del 1 al 100, ¿cuál es el que da más \"números visitados\"?"
   ]
  },
  {
   "cell_type": "code",
   "execution_count": 21,
   "metadata": {
    "collapsed": true
   },
   "outputs": [],
   "source": [
    "import pandas as pd"
   ]
  },
  {
   "cell_type": "code",
   "execution_count": 30,
   "metadata": {
    "collapsed": false
   },
   "outputs": [
    {
     "name": "stdout",
     "output_type": "stream",
     "text": [
      "El número 97 es el que da más números visitados. Da 119 visitas.\n"
     ]
    }
   ],
   "source": [
    "rango=list(range(1,101))\n",
    "listaa=list(map(juego_de_numero,rango))\n",
    "#print(listaa)\n",
    "#len(listaa)\n",
    "seriea=pd.Series(listaa)\n",
    "#print(seriea)\n",
    "lista100=list(seriea.apply(lambda x: len(x)))\n",
    "#print(lista100)\n",
    "maximo=max(lista100)\n",
    "#print(maximo)\n",
    "sol=lista100.index(maximo)+1\n",
    "print(\"El número %s es el que da más números visitados. Da %s visitas.\" %(sol,maximo))"
   ]
  },
  {
   "cell_type": "markdown",
   "metadata": {},
   "source": [
    "#### 13. Consigue en una sola línea de código averiguar cuántos elementos distintos hay en la siguiente lista de 300 elementos:"
   ]
  },
  {
   "cell_type": "code",
   "execution_count": 32,
   "metadata": {
    "collapsed": false
   },
   "outputs": [],
   "source": [
    "la_lista = ['da', 'e', 'e', 'eccebd', 'fdfdce', 'ad', 'dadcd', 'baadede', 'ebb', 'f', 'acbdf', 'eeccb', 'fe', \n",
    "            'fcffbcc', 'dffadd', 'cbdeca', 'ff', 'aa', 'cbfe', 'aedaaf', 'd', 'efbfd', 'efaaee', 'dae', \n",
    "            'befdeb', 'daaecd', 'b', 'dddd', 'cae', 'ac', 'fee', 'ada', 'dbae', 'adfedd', 'e', 'ddaefca', \n",
    "            'bf', 'ddeceee', 'aae', 'bedbe', 'caafddf', 'ba', 'dcdf', 'edefcbd', 'cfdcb', 'dcbf', \n",
    "            'cfccefe', 'fd', 'fdae', 'eb', 'add', 'afaa', 'cdedabf', 'fdbebe', 'dfeae', 'debcca', \n",
    "            'eae', 'bfeddec', 'ccbbbb', 'af', 'c', 'ddcea', 'dabddf', 'efcaec', 'cec', 'bdfce', \n",
    "            'bacccdd', 'af', 'dd', 'c', 'acfdea', 'bacfc', 'bedaf', 'dfc', 'cefdbc', 'ebefc', 'cee', \n",
    "            'decacef', 'cfccddb', 'c', 'ebfb', 'acfb', 'c', 'aeede', 'fed', 'fabc', 'fcfb', 'ad', 'bc', \n",
    "            'aaadcd', 'cf', 'a', 'bc', 'ecaabcc', 'eeebce', 'eba', 'dfcaf', 'f', 'bcd', 'cc', 'daecffd', \n",
    "            'f', 'def', 'ebc', 'bcbcd', 'a', 'dbae', 'a', 'dbfdd', 'bdbbff', 'bacacdc', 'd', 'acfaab', 'f', \n",
    "            'dccfeba', 'dccf', 'defcce', 'cbbfbce', 'abddf', 'aaed', 'abfc', 'acab', 'bdceae', 'fc', 'cfdb', \n",
    "            'adbdb', 'e', 'cdbabf', 'fbaae', 'eaabda', 'bcdfea', 'bdcfaeb', 'afaccb', 'aa', 'fbdd', 'bae', \n",
    "            'b', 'ccdefc', 'c', 'fcffaa', 'aadeeb', 'ea', 'fcdfbf', 'fa', 'eccf', 'dcbcee', 'cbbd', 'fedcd', \n",
    "            'eeeec', 'aaafcbb', 'fafa', 'beaab', 'ecdf', 'cceaaf', 'dafdcf', 'cbfe', 'ff', 'd', 'e', 'ebcdb', \n",
    "            'ecb', 'f', 'bafb', 'dacdbf', 'ccd', 'abcc', 'ed', 'ddcdeb', 'bcb', 'cefbec', 'e', 'cddeb', \n",
    "            'eacccea', 'f', 'faeaaef', 'ddd', 'dfb', 'bda', 'acdf', 'fcffa', 'a', 'fc', 'baffac', 'efadfca', \n",
    "            'e', 'fb', 'bedfbd', 'eb', 'ceaece', 'fdcbfea', 'fda', 'fbbebf', 'cecbffa', 'beabecc', 'eddfc', \n",
    "            'bab', 'abfe', 'ab', 'bdada', 'ccdf', 'bfeaeaa', 'ac', 'eb', 'fbbbf', 'ddab', 'baddadd', 'bcbebec', \n",
    "            'afbaca', 'aa', 'db', 'aafcff', 'eabcadb', 'fe', 'adc', 'eabacbd', 'ffccdd', 'dbfdcc', 'cff', 'fbb', \n",
    "            'fadd', 'cbcb', 'bfeacde', 'feed', 'fbae', 'debb', 'dffe', 'de', 'eaeefc', 'ccedfb', 'eefb', \n",
    "            'fdddfd', 'fdfee', 'cbecfd', 'f', 'e', 'e', 'bcfafe', 'fdfaef', 'ddbad', 'cbee', 'a', 'dec', 'fd', \n",
    "            'd', 'dee', 'daadcd', 'fbaaab', 'b', 'f', 'cabffd', 'edfd', 'fafccbc', 'cbdbad', 'ceaadae', \n",
    "            'eafdfd', 'abebfc', 'b', 'bdbeffe', 'aabcabd', 'fcbaab', 'dae', 'd', 'fdccbd', 'eaedfd', 'dbbc', \n",
    "            'fb', 'bcddb', 'abddac', 'da', 'abedf', 'fa', 'ccbaa', 'efae', 'abd', 'aebe', 'cdcd', 'd', 'abcc', \n",
    "            'edccba', 'dedd', 'a', 'b', 'a', 'd', 'fbbdefd', 'ccfdcae', 'aaabd', 'cdbffb', 'fcdfcef', 'cfbae', \n",
    "            'a', 'ebe', 'c', 'b', 'afdcacb', 'ad', 'ffaeb', 'a', 'dfffdea', 'bfa']\n",
    "\n",
    "# En una sola línea, ¿eh?:\n"
   ]
  },
  {
   "cell_type": "code",
   "execution_count": 40,
   "metadata": {
    "collapsed": false
   },
   "outputs": [
    {
     "data": {
      "text/plain": [
       "241"
      ]
     },
     "execution_count": 40,
     "metadata": {},
     "output_type": "execute_result"
    }
   ],
   "source": [
    "len(set(la_lista))"
   ]
  },
  {
   "cell_type": "markdown",
   "metadata": {},
   "source": [
    "#### 14. Escribe una función `word_frequency` en la que, dada una colección (lista) de palabras (que pueden repetirse), devuelva un conjunto de pares (`palabra`, `número de veces que aparece dicha palabra en la colección`):"
   ]
  },
  {
   "cell_type": "code",
   "execution_count": 45,
   "metadata": {
    "collapsed": false
   },
   "outputs": [],
   "source": [
    "def word_frequency(x):\n",
    "    listab=[]\n",
    "    for el in x:\n",
    "        contador=x.count(el)\n",
    "        if [el,contador] not in listab:\n",
    "            listab.append([el,contador])\n",
    "    return listab"
   ]
  },
  {
   "cell_type": "code",
   "execution_count": 46,
   "metadata": {
    "collapsed": false
   },
   "outputs": [
    {
     "data": {
      "text/plain": [
       "[['da', 2],\n",
       " ['e', 9],\n",
       " ['eccebd', 1],\n",
       " ['fdfdce', 1],\n",
       " ['ad', 3],\n",
       " ['dadcd', 1],\n",
       " ['baadede', 1],\n",
       " ['ebb', 1],\n",
       " ['f', 8],\n",
       " ['acbdf', 1],\n",
       " ['eeccb', 1],\n",
       " ['fe', 2],\n",
       " ['fcffbcc', 1],\n",
       " ['dffadd', 1],\n",
       " ['cbdeca', 1],\n",
       " ['ff', 2],\n",
       " ['aa', 3],\n",
       " ['cbfe', 2],\n",
       " ['aedaaf', 1],\n",
       " ['d', 7],\n",
       " ['efbfd', 1],\n",
       " ['efaaee', 1],\n",
       " ['dae', 2],\n",
       " ['befdeb', 1],\n",
       " ['daaecd', 1],\n",
       " ['b', 6],\n",
       " ['dddd', 1],\n",
       " ['cae', 1],\n",
       " ['ac', 2],\n",
       " ['fee', 1],\n",
       " ['ada', 1],\n",
       " ['dbae', 2],\n",
       " ['adfedd', 1],\n",
       " ['ddaefca', 1],\n",
       " ['bf', 1],\n",
       " ['ddeceee', 1],\n",
       " ['aae', 1],\n",
       " ['bedbe', 1],\n",
       " ['caafddf', 1],\n",
       " ['ba', 1],\n",
       " ['dcdf', 1],\n",
       " ['edefcbd', 1],\n",
       " ['cfdcb', 1],\n",
       " ['dcbf', 1],\n",
       " ['cfccefe', 1],\n",
       " ['fd', 2],\n",
       " ['fdae', 1],\n",
       " ['eb', 3],\n",
       " ['add', 1],\n",
       " ['afaa', 1],\n",
       " ['cdedabf', 1],\n",
       " ['fdbebe', 1],\n",
       " ['dfeae', 1],\n",
       " ['debcca', 1],\n",
       " ['eae', 1],\n",
       " ['bfeddec', 1],\n",
       " ['ccbbbb', 1],\n",
       " ['af', 2],\n",
       " ['c', 6],\n",
       " ['ddcea', 1],\n",
       " ['dabddf', 1],\n",
       " ['efcaec', 1],\n",
       " ['cec', 1],\n",
       " ['bdfce', 1],\n",
       " ['bacccdd', 1],\n",
       " ['dd', 1],\n",
       " ['acfdea', 1],\n",
       " ['bacfc', 1],\n",
       " ['bedaf', 1],\n",
       " ['dfc', 1],\n",
       " ['cefdbc', 1],\n",
       " ['ebefc', 1],\n",
       " ['cee', 1],\n",
       " ['decacef', 1],\n",
       " ['cfccddb', 1],\n",
       " ['ebfb', 1],\n",
       " ['acfb', 1],\n",
       " ['aeede', 1],\n",
       " ['fed', 1],\n",
       " ['fabc', 1],\n",
       " ['fcfb', 1],\n",
       " ['bc', 2],\n",
       " ['aaadcd', 1],\n",
       " ['cf', 1],\n",
       " ['a', 9],\n",
       " ['ecaabcc', 1],\n",
       " ['eeebce', 1],\n",
       " ['eba', 1],\n",
       " ['dfcaf', 1],\n",
       " ['bcd', 1],\n",
       " ['cc', 1],\n",
       " ['daecffd', 1],\n",
       " ['def', 1],\n",
       " ['ebc', 1],\n",
       " ['bcbcd', 1],\n",
       " ['dbfdd', 1],\n",
       " ['bdbbff', 1],\n",
       " ['bacacdc', 1],\n",
       " ['acfaab', 1],\n",
       " ['dccfeba', 1],\n",
       " ['dccf', 1],\n",
       " ['defcce', 1],\n",
       " ['cbbfbce', 1],\n",
       " ['abddf', 1],\n",
       " ['aaed', 1],\n",
       " ['abfc', 1],\n",
       " ['acab', 1],\n",
       " ['bdceae', 1],\n",
       " ['fc', 2],\n",
       " ['cfdb', 1],\n",
       " ['adbdb', 1],\n",
       " ['cdbabf', 1],\n",
       " ['fbaae', 1],\n",
       " ['eaabda', 1],\n",
       " ['bcdfea', 1],\n",
       " ['bdcfaeb', 1],\n",
       " ['afaccb', 1],\n",
       " ['fbdd', 1],\n",
       " ['bae', 1],\n",
       " ['ccdefc', 1],\n",
       " ['fcffaa', 1],\n",
       " ['aadeeb', 1],\n",
       " ['ea', 1],\n",
       " ['fcdfbf', 1],\n",
       " ['fa', 2],\n",
       " ['eccf', 1],\n",
       " ['dcbcee', 1],\n",
       " ['cbbd', 1],\n",
       " ['fedcd', 1],\n",
       " ['eeeec', 1],\n",
       " ['aaafcbb', 1],\n",
       " ['fafa', 1],\n",
       " ['beaab', 1],\n",
       " ['ecdf', 1],\n",
       " ['cceaaf', 1],\n",
       " ['dafdcf', 1],\n",
       " ['ebcdb', 1],\n",
       " ['ecb', 1],\n",
       " ['bafb', 1],\n",
       " ['dacdbf', 1],\n",
       " ['ccd', 1],\n",
       " ['abcc', 2],\n",
       " ['ed', 1],\n",
       " ['ddcdeb', 1],\n",
       " ['bcb', 1],\n",
       " ['cefbec', 1],\n",
       " ['cddeb', 1],\n",
       " ['eacccea', 1],\n",
       " ['faeaaef', 1],\n",
       " ['ddd', 1],\n",
       " ['dfb', 1],\n",
       " ['bda', 1],\n",
       " ['acdf', 1],\n",
       " ['fcffa', 1],\n",
       " ['baffac', 1],\n",
       " ['efadfca', 1],\n",
       " ['fb', 2],\n",
       " ['bedfbd', 1],\n",
       " ['ceaece', 1],\n",
       " ['fdcbfea', 1],\n",
       " ['fda', 1],\n",
       " ['fbbebf', 1],\n",
       " ['cecbffa', 1],\n",
       " ['beabecc', 1],\n",
       " ['eddfc', 1],\n",
       " ['bab', 1],\n",
       " ['abfe', 1],\n",
       " ['ab', 1],\n",
       " ['bdada', 1],\n",
       " ['ccdf', 1],\n",
       " ['bfeaeaa', 1],\n",
       " ['fbbbf', 1],\n",
       " ['ddab', 1],\n",
       " ['baddadd', 1],\n",
       " ['bcbebec', 1],\n",
       " ['afbaca', 1],\n",
       " ['db', 1],\n",
       " ['aafcff', 1],\n",
       " ['eabcadb', 1],\n",
       " ['adc', 1],\n",
       " ['eabacbd', 1],\n",
       " ['ffccdd', 1],\n",
       " ['dbfdcc', 1],\n",
       " ['cff', 1],\n",
       " ['fbb', 1],\n",
       " ['fadd', 1],\n",
       " ['cbcb', 1],\n",
       " ['bfeacde', 1],\n",
       " ['feed', 1],\n",
       " ['fbae', 1],\n",
       " ['debb', 1],\n",
       " ['dffe', 1],\n",
       " ['de', 1],\n",
       " ['eaeefc', 1],\n",
       " ['ccedfb', 1],\n",
       " ['eefb', 1],\n",
       " ['fdddfd', 1],\n",
       " ['fdfee', 1],\n",
       " ['cbecfd', 1],\n",
       " ['bcfafe', 1],\n",
       " ['fdfaef', 1],\n",
       " ['ddbad', 1],\n",
       " ['cbee', 1],\n",
       " ['dec', 1],\n",
       " ['dee', 1],\n",
       " ['daadcd', 1],\n",
       " ['fbaaab', 1],\n",
       " ['cabffd', 1],\n",
       " ['edfd', 1],\n",
       " ['fafccbc', 1],\n",
       " ['cbdbad', 1],\n",
       " ['ceaadae', 1],\n",
       " ['eafdfd', 1],\n",
       " ['abebfc', 1],\n",
       " ['bdbeffe', 1],\n",
       " ['aabcabd', 1],\n",
       " ['fcbaab', 1],\n",
       " ['fdccbd', 1],\n",
       " ['eaedfd', 1],\n",
       " ['dbbc', 1],\n",
       " ['bcddb', 1],\n",
       " ['abddac', 1],\n",
       " ['abedf', 1],\n",
       " ['ccbaa', 1],\n",
       " ['efae', 1],\n",
       " ['abd', 1],\n",
       " ['aebe', 1],\n",
       " ['cdcd', 1],\n",
       " ['edccba', 1],\n",
       " ['dedd', 1],\n",
       " ['fbbdefd', 1],\n",
       " ['ccfdcae', 1],\n",
       " ['aaabd', 1],\n",
       " ['cdbffb', 1],\n",
       " ['fcdfcef', 1],\n",
       " ['cfbae', 1],\n",
       " ['ebe', 1],\n",
       " ['afdcacb', 1],\n",
       " ['ffaeb', 1],\n",
       " ['dfffdea', 1],\n",
       " ['bfa', 1]]"
      ]
     },
     "execution_count": 46,
     "metadata": {},
     "output_type": "execute_result"
    }
   ],
   "source": [
    "word_frequency(la_lista)"
   ]
  },
  {
   "cell_type": "markdown",
   "metadata": {},
   "source": [
    "#### 15. Crea una clase llamada `CarritoDeLaCompra` que satisfaga las siguientes condiciones:\n",
    "+ Un carrito, nada más creado (es decir, al crear una instancia), está vacío.\n",
    "+ El carrito tiene un método llamado `anadir_producto`, que toma como argumentos un string que es el nombre de un artículo (por ejemplo: `\"plátanos\"`) y la cantidad. Este método añade dicho producto y cantidad al carrito.\n",
    "+ Asimismo, tiene otro método llamado `quitar_producto`, que toma los mismos argumentos (producto y cantidad); pero los quita del carrito en vez de añadirlos. Si se \"pide\" quitar mayor cantidad que la que hay en el carrito, o de un producto que no está en el carrito, no se hace la operación, y se imprime un string de error.\n",
    "+ En cualquier momento debe poder utilizarse el método `ver_carrito`, y debe devolver los productos presentes en el carrito, así como su cantidad. Solo debe devolver cada producto una vez, es decir: si hicimos `anadir_producto(\"tomates\", 2)` y luego `anadir_producto(\"tomates\", 3)`, `ver_carrito` solo debe devolver algo similar a `[(\"tomates\", 5)]`.\n",
    "\n",
    "Una vez definida la clase, crea una instancia de ella y prueba a ir añadiendo, quitando y mirando el carrito."
   ]
  },
  {
   "cell_type": "code",
   "execution_count": 123,
   "metadata": {
    "collapsed": true
   },
   "outputs": [],
   "source": [
    "class CarritoDeLaCompra(object):\n",
    "    listaCompra={}\n",
    "    def anadir_producto(self,entrada_producto,entrada_cantidad):\n",
    "        self.articulo_in=entrada_producto\n",
    "        self.cantidad_in=entrada_cantidad\n",
    "        \n",
    "        if self.articulo_in in self.listaCompra:\n",
    "            self.listaCompra[self.articulo_in]=self.listaCompra[self.articulo_in]+self.cantidad_in\n",
    "        else:\n",
    "            self.listaCompra[self.articulo_in]=self.cantidad_in\n",
    "        \n",
    "    def quitar_producto(self,salida_producto,salida_cantidad):\n",
    "        self.articulo_out=salida_producto\n",
    "        self.cantidad_out=salida_cantidad\n",
    "   \n",
    "        if self.articulo_out not in self.listaCompra:\n",
    "            print(\"Dicho artículo no existe en el carrito.\")\n",
    "        \n",
    "        elif self.articulo_out in self.listaCompra and self.cantidad_out> self.listaCompra[self.articulo_out]:\n",
    "            print(\"Ese artículo se encuentra en el carrito en menor cantidad que la especificada.\")\n",
    "        \n",
    "        elif self.articulo_out in self.listaCompra and self.cantidad_out< self.listaCompra[self.articulo_out]:\n",
    "            self.listaCompra[self.articulo_out]=self.listaCompra[self.articulo_out]-self.cantidad_out\n",
    "            \n",
    "        else:\n",
    "            del self.listaCompra[self.articulo_out]\n",
    "          \n",
    "    def ver_carrito(self):\n",
    "       \n",
    "        for clave, valor in self.listaCompra.items():\n",
    "            print((clave,valor))"
   ]
  },
  {
   "cell_type": "code",
   "execution_count": 124,
   "metadata": {
    "collapsed": true
   },
   "outputs": [],
   "source": [
    "carrito=CarritoDeLaCompra()"
   ]
  },
  {
   "cell_type": "code",
   "execution_count": 125,
   "metadata": {
    "collapsed": true
   },
   "outputs": [],
   "source": [
    "carrito.ver_carrito()"
   ]
  },
  {
   "cell_type": "code",
   "execution_count": 126,
   "metadata": {
    "collapsed": true
   },
   "outputs": [],
   "source": [
    "carrito.anadir_producto(\"yogures\",8)"
   ]
  },
  {
   "cell_type": "code",
   "execution_count": 127,
   "metadata": {
    "collapsed": false
   },
   "outputs": [
    {
     "name": "stdout",
     "output_type": "stream",
     "text": [
      "('yogures', 8)\n"
     ]
    }
   ],
   "source": [
    "carrito.ver_carrito()"
   ]
  },
  {
   "cell_type": "code",
   "execution_count": 128,
   "metadata": {
    "collapsed": true
   },
   "outputs": [],
   "source": [
    "carrito.anadir_producto(\"yogures\",5)"
   ]
  },
  {
   "cell_type": "code",
   "execution_count": 129,
   "metadata": {
    "collapsed": false
   },
   "outputs": [
    {
     "name": "stdout",
     "output_type": "stream",
     "text": [
      "('yogures', 13)\n"
     ]
    }
   ],
   "source": [
    "carrito.ver_carrito()"
   ]
  },
  {
   "cell_type": "code",
   "execution_count": 130,
   "metadata": {
    "collapsed": false
   },
   "outputs": [
    {
     "name": "stdout",
     "output_type": "stream",
     "text": [
      "Dicho artículo no existe en el carrito.\n"
     ]
    }
   ],
   "source": [
    "carrito.quitar_producto(\"leche\",2)"
   ]
  },
  {
   "cell_type": "code",
   "execution_count": 131,
   "metadata": {
    "collapsed": false
   },
   "outputs": [
    {
     "name": "stdout",
     "output_type": "stream",
     "text": [
      "('yogures', 13)\n"
     ]
    }
   ],
   "source": [
    "carrito.ver_carrito()"
   ]
  },
  {
   "cell_type": "code",
   "execution_count": 132,
   "metadata": {
    "collapsed": false
   },
   "outputs": [
    {
     "name": "stdout",
     "output_type": "stream",
     "text": [
      "Ese artículo se encuentra en el carrito en menor cantidad que la especificada.\n"
     ]
    }
   ],
   "source": [
    "carrito.quitar_producto(\"yogures\",18)"
   ]
  },
  {
   "cell_type": "code",
   "execution_count": 133,
   "metadata": {
    "collapsed": false
   },
   "outputs": [
    {
     "name": "stdout",
     "output_type": "stream",
     "text": [
      "('yogures', 13)\n"
     ]
    }
   ],
   "source": [
    "carrito.ver_carrito()"
   ]
  },
  {
   "cell_type": "code",
   "execution_count": 134,
   "metadata": {
    "collapsed": true
   },
   "outputs": [],
   "source": [
    "carrito.quitar_producto(\"yogures\",7)"
   ]
  },
  {
   "cell_type": "code",
   "execution_count": 135,
   "metadata": {
    "collapsed": false
   },
   "outputs": [
    {
     "name": "stdout",
     "output_type": "stream",
     "text": [
      "('yogures', 6)\n"
     ]
    }
   ],
   "source": [
    "carrito.ver_carrito()"
   ]
  },
  {
   "cell_type": "code",
   "execution_count": 136,
   "metadata": {
    "collapsed": true
   },
   "outputs": [],
   "source": [
    "carrito.anadir_producto(\"leche\",5)"
   ]
  },
  {
   "cell_type": "code",
   "execution_count": 137,
   "metadata": {
    "collapsed": false
   },
   "outputs": [
    {
     "name": "stdout",
     "output_type": "stream",
     "text": [
      "('yogures', 6)\n",
      "('leche', 5)\n"
     ]
    }
   ],
   "source": [
    "carrito.ver_carrito()"
   ]
  },
  {
   "cell_type": "code",
   "execution_count": 138,
   "metadata": {
    "collapsed": true
   },
   "outputs": [],
   "source": [
    "carrito.quitar_producto(\"leche\",1)"
   ]
  },
  {
   "cell_type": "code",
   "execution_count": 139,
   "metadata": {
    "collapsed": false
   },
   "outputs": [
    {
     "name": "stdout",
     "output_type": "stream",
     "text": [
      "('yogures', 6)\n",
      "('leche', 4)\n"
     ]
    }
   ],
   "source": [
    "carrito.ver_carrito()"
   ]
  },
  {
   "cell_type": "code",
   "execution_count": 140,
   "metadata": {
    "collapsed": true
   },
   "outputs": [],
   "source": [
    "carrito.quitar_producto(\"leche\",4)"
   ]
  },
  {
   "cell_type": "code",
   "execution_count": 142,
   "metadata": {
    "collapsed": false
   },
   "outputs": [
    {
     "name": "stdout",
     "output_type": "stream",
     "text": [
      "('yogures', 6)\n"
     ]
    }
   ],
   "source": [
    "carrito.ver_carrito() # el artículo con 0 desaparece del carrito."
   ]
  }
 ],
 "metadata": {
  "anaconda-cloud": {},
  "kernelspec": {
   "display_name": "Python [default]",
   "language": "python",
   "name": "python3"
  },
  "language_info": {
   "codemirror_mode": {
    "name": "ipython",
    "version": 3
   },
   "file_extension": ".py",
   "mimetype": "text/x-python",
   "name": "python",
   "nbconvert_exporter": "python",
   "pygments_lexer": "ipython3",
   "version": "3.5.2"
  }
 },
 "nbformat": 4,
 "nbformat_minor": 0
}
