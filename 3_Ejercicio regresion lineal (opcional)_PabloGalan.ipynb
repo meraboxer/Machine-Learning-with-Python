{
 "cells": [
  {
   "cell_type": "markdown",
   "metadata": {},
   "source": [
    "# Ejercicio de Numpy + Matplotlib: La regresión lineal"
   ]
  },
  {
   "cell_type": "markdown",
   "metadata": {},
   "source": [
    "Ahora que ya hemos explorado las funcionalidades de Numpy vamos a resolver un problema clásico de machine learning: la regresión lineal. Comencemos, como siempre, importando las bibliotecas básicas que vamos a usar:"
   ]
  },
  {
   "cell_type": "code",
   "execution_count": 1,
   "metadata": {
    "collapsed": false
   },
   "outputs": [],
   "source": [
    "import numpy as np\n",
    "%matplotlib inline\n",
    "import matplotlib.pyplot as plt"
   ]
  },
  {
   "cell_type": "markdown",
   "metadata": {},
   "source": [
    "Para realizar el ejercicio, lo siguiente será descargarnos los datos que vamos a utilizar.\n",
    "\n",
    "Los datos los obtendremos de [aquí](http://openclassroom.stanford.edu/MainFolder/DocumentPage.php?course=MachineLearning&doc=exercises/ex2/ex2.html): se trata de un ejercicio de la Open Classroom de la Universidad de Stanford sobre cómo hacer una regresión lineal. El ejercicio forma parte de uno de los cursos creados por Andrew Ng.\n",
    "\n",
    "Andrew es uno de los fundadores de Coursera, y probablemente la figura más conocida en el mundo del aprendizaje automático. Su curso de Machine Learning de Coursera es el más famoso del mundo, y recomiendo encarecidamente echarle un vistazo.\n",
    "\n",
    "Si miramos el link, veremos que nos ofrece descargar el dataset para poder realizar el ejercicio. En el curso, Andrew recomienda utilizar MATLAB u Octave para hacer los ejercicios. No obstante, estamos con Python, y será lo que utilizaremos para resolverlo."
   ]
  },
  {
   "cell_type": "markdown",
   "metadata": {},
   "source": [
    "Si descargamos el archivo .zip, lo guardamos en nuestro ordenador y lo extraemos, podremos ver que son dos archivos: uno con las coordenadas $x$ de una serie de puntos, y otro con las coordenadas $y$. Si mezclamos una a una las líneas de ambos archivos, obtendremos los puntos, es decir: el primer número del archivo de las $x$ junto con el primer número del archivo de las $y$, nos da el primer punto de nuestro dataset, y así sucesivamente. Son 50 puntos en total."
   ]
  },
  {
   "cell_type": "markdown",
   "metadata": {},
   "source": [
    "Podríamos hacer justo eso: descargar el .zip manualmente, mover los dos archivos extraídos a una carpeta, y leerlos desde ahí con Python. No obstante, la biblioteca estándar de Python nos permite hacer todos estos pasos directamente programando, y como estamos en el módulo de Python... Vamos a intentar hacerlo así: todo desde Python."
   ]
  },
  {
   "cell_type": "markdown",
   "metadata": {},
   "source": [
    "## Descarga del dataset desde Python"
   ]
  },
  {
   "cell_type": "markdown",
   "metadata": {},
   "source": [
    "El primer paso es descargar el archivo .zip desde Python. Pues bien, resulta que existen varias bibliotecas que nos permiten hacer esto. En este caso vamos a utilizar [urllib](https://docs.python.org/3/library/urllib.html#module-urllib) de la biblioteca estándar. `urllib` es una biblioteca que hace justo lo que sugiere su nombre: gestionar conexión con Internet, siempre y cuando utilicemos urls. Podríamos utilizar `Requests` también para hacerlo, pero quería añadir variedad...\n",
    "\n",
    "Resulta que `urllib.request` nos ofrece una función llamada [`urlretrieve`](https://docs.python.org/3/library/urllib.request.html#urllib.request.urlretrieve), la cual vamos a utilizar para descargar el archivo zip. Al llamar a la función y pasarle como argumento la url del archivo a descargar, nos devuelve una tupla con dos elementos: uno es la ruta donde se ha descargado el archivo (puesto que al llamar a la función, se lo descarga automáticamente en una carpeta temporal del sistema operativo). El otro es la información del resultado de dicha descarga del archivo:"
   ]
  },
  {
   "cell_type": "code",
   "execution_count": 2,
   "metadata": {
    "collapsed": false
   },
   "outputs": [],
   "source": [
    "from urllib.request import urlretrieve\n",
    "datos, respuesta = urlretrieve(\"http://openclassroom.stanford.edu/MainFolder/courses/MachineLearning/exercises/ex2materials/ex2Data.zip\")"
   ]
  },
  {
   "cell_type": "markdown",
   "metadata": {},
   "source": [
    "Hemos utilizado una asignación doble de variables (lo que se llama [*tuple unpacking*](https://www.youtube.com/watch?v=m91jfl7JYLk)), para poder asignar ambas en una sola línea. `respuesta` es la información del resultado de la descarga; y `datos` es un string que nos dice la ubicación del .zip descargado:"
   ]
  },
  {
   "cell_type": "code",
   "execution_count": 3,
   "metadata": {
    "collapsed": false
   },
   "outputs": [
    {
     "name": "stdout",
     "output_type": "stream",
     "text": [
      "Date: Thu, 08 Dec 2016 11:05:28 GMT\n",
      "Server: Apache/2.2.15 (CentOS)\n",
      "Last-Modified: Tue, 28 Dec 2010 22:06:34 GMT\n",
      "ETag: \"726c14c8-351-4987faa672e80\"\n",
      "Accept-Ranges: bytes\n",
      "Content-Length: 849\n",
      "Connection: close\n",
      "Content-Type: application/zip\n",
      "\n",
      "\n",
      "\n",
      "Archivo descargado en: C:\\Users\\Casy\\AppData\\Local\\Temp\\tmpe66nd9cp\n"
     ]
    }
   ],
   "source": [
    "print(respuesta)\n",
    "print(\"\")\n",
    "print(\"Archivo descargado en: \" + datos)"
   ]
  },
  {
   "cell_type": "markdown",
   "metadata": {},
   "source": [
    "Ya tenemos nuestro archivo .zip descargado; ahora tenemos que descomprimir el zip. Podemos hacerlo fácilmente con la bilbioteca estándar de Python, gracias a [zipfile](https://docs.python.org/2/library/zipfile.html)."
   ]
  },
  {
   "cell_type": "markdown",
   "metadata": {},
   "source": [
    "## Descompresión del .zip y rutas del sistema operativo"
   ]
  },
  {
   "cell_type": "markdown",
   "metadata": {},
   "source": [
    "Python nos ofrece en la bilbioteca estándar un módulo llamado [`os`](https://docs.python.org/3/library/os.html#module-os). Dicho módulo nos permite realizar muchas cosas relacionadas con nuestro sistema operativo. Un ejemplo de lo que podemos hacer con `os` es movernos por los directorios de nuestro ordenador, tal y como haríamos a golpe de ratón y haciendo click en carpetas... Solo que desde Python.\n",
    "\n",
    "[`os.path.abspath`](https://docs.python.org/3/library/os.path.html#os.path.abspath) nos da la ruta completa de un directorio; mientras que [`os.curdir`](https://docs.python.org/3/library/os.html#os.curdir) nos da \"el directorio donde está Python actualmente\".\n",
    "\n",
    "Python, a ojos de nuestro sistema operativo, es un proceso. Dicho proceso se inicia en algún directorio (o carpeta). Si nos vamos a una terminal (o cmd.exe), tecleamos `python` y pulsamos Enter, se iniciará un proceso de Python, en la ruta desde la que hemos tecleado dicha sentencia. Desde ahí, podemos utilizar `os` para que nuestro proceso Python se \"mueva\" por las carpetas de nuestro ordenador.\n",
    "\n",
    "Puesto que estamos en un notebook, puede resultar menos obvio saber \"en qué directorio está nuestro proceso de Python ahora mismo\". Para eso utilizamos `os.path.abspath(os.curdir)`, para preguntárselo. Una vez que lo sabemos, podremos continuar:"
   ]
  },
  {
   "cell_type": "code",
   "execution_count": 4,
   "metadata": {
    "collapsed": false
   },
   "outputs": [
    {
     "name": "stdout",
     "output_type": "stream",
     "text": [
      "El directorio en el que está Python ahora mismo es C:\\Users\\Casy\\Documents\\CURSO PYTHON DATAHACK\n"
     ]
    }
   ],
   "source": [
    "import os\n",
    "\n",
    "directorio_actual = os.path.abspath(os.curdir)\n",
    "\n",
    "print(\"El directorio en el que está Python ahora mismo es \" + directorio_actual)"
   ]
  },
  {
   "cell_type": "markdown",
   "metadata": {},
   "source": [
    "`directorio_actual` es un string con dicho directorio (ruta). Y tenemos la ruta de nuestro .zip descargado en la variable `datos`. Así que vamos a utilizar la bilbioteca [`zipfile`](https://docs.python.org/3/library/zipfile.html#module-zipfile) (también de la biblioteca estándar) para extraer los datos del .zip, y guardarlos en nuestro directorio actual.\n",
    "\n",
    "Para hacerlo, primero vamos a leer el archivo de la forma normal en la que lo hacemos en Python, con `open()`, y en este caso en el modo `rb` (read binary). Con el archivo abierto, aplicamos `zipfile.ZipFile(archivo)` para decirle a Python que el archivo es un .zip (creando una instancia de la clase `ZipFile`).\n",
    "\n",
    "Hecho esto, podemos aplicar el método `.printdir()` para imprimir los contenidos del zip. Vemos que, efectivamente, son dos: uno con los datos de las $x$ y otro con los datos de las $y$.\n",
    "\n",
    "Tras verlo, aplicamos `.extractall(directorio)` para extraer los archivos en el directorio que queramos. Como queremos hacerlo en \"el directorio actual de Python\", le pasamos dicha variable:"
   ]
  },
  {
   "cell_type": "code",
   "execution_count": 5,
   "metadata": {
    "collapsed": false
   },
   "outputs": [
    {
     "name": "stdout",
     "output_type": "stream",
     "text": [
      "File Name                                             Modified             Size\n",
      "ex2x.dat                                       2010-10-14 10:57:02          850\n",
      "ex2y.dat                                       2010-10-14 10:57:02          850\n"
     ]
    }
   ],
   "source": [
    "import zipfile\n",
    "\n",
    "archivo_zip = open(datos, \"rb\")\n",
    "\n",
    "archivo_zip_instanciado = zipfile.ZipFile(archivo_zip)\n",
    "archivo_zip_instanciado.printdir()\n",
    "archivo_zip_instanciado.extractall(directorio_actual)\n",
    "\n",
    "# ¡Nunca olvides cerrar los archivos leídos!\n",
    "archivo_zip.close()"
   ]
  },
  {
   "cell_type": "markdown",
   "metadata": {},
   "source": [
    "Ya están los datos extraídos. Podemos irnos al navegador de carpetas de nuestro sistema operativo y verlos si queremos: ahí están. \n",
    "\n",
    "Ahora vamos a usar [`os.path.join`](https://docs.python.org/3/library/os.path.html#os.path.join) nos permite concatenar rutas. Es decir: supongamos que tenemos un directorio:\n",
    "\n",
    "`/sistema/usuario`\n",
    "\n",
    "Y dentro de esa carpeta `usuario`, un archivo llamado `hola.txt`. Pues bien, a pocos conocimientos que tengamos de sistemas operativos, sabremos que la ruta absoluta de `hola.txt` será algo como:\n",
    "\n",
    "`/sistema/usuario/hola.txt`\n",
    "\n",
    "No obstante, `os.path.join()` nos permite hacer esto de forma segura; sin que nos equivoquemos. ¿Por qué? Porque las rutas son muy distintas en los distintos sistemas operativos. Por ejemplo: las barras para indicar un cambio de directorio en Windows son `\\`, mientras que en Linux y Mac son al revés: `/`\n",
    "\n",
    "Para evitar este tipo de problemas, y que el código sea portable y compartible entre plataformas, podemos utilizar `os.path.join()`, para que Python se encargue automáticamente de unir \"con la barrita adecuada\" las rutas:"
   ]
  },
  {
   "cell_type": "code",
   "execution_count": 6,
   "metadata": {
    "collapsed": false
   },
   "outputs": [
    {
     "name": "stdout",
     "output_type": "stream",
     "text": [
      "C:\\Users\\Casy\\Documents\\CURSO PYTHON DATAHACK\\ex2x.dat\n",
      "C:\\Users\\Casy\\Documents\\CURSO PYTHON DATAHACK\\ex2y.dat\n"
     ]
    }
   ],
   "source": [
    "ruta_archivo_x = os.path.join(directorio_actual, \"ex2x.dat\")\n",
    "ruta_archivo_y = os.path.join(directorio_actual, \"ex2y.dat\")\n",
    "print(ruta_archivo_x)\n",
    "print(ruta_archivo_y)"
   ]
  },
  {
   "cell_type": "markdown",
   "metadata": {},
   "source": [
    "Ahora `ruta_archivo_x` y `ruta_archivo_y` son las rutas absolutas de los dos archivos descargados. Ya podemos leerlos fácilmente con Python. Para leer cada archivo del tirón, y que cree una lista con cada línea del archivo como un elemento de la misma, poedmos utilizar `archivo.readlines()`:"
   ]
  },
  {
   "cell_type": "code",
   "execution_count": 7,
   "metadata": {
    "collapsed": false
   },
   "outputs": [
    {
     "name": "stdout",
     "output_type": "stream",
     "text": [
      "['   2.0658746e+00\\n', '   2.3684087e+00\\n', '   2.5399929e+00\\n', '   2.5420804e+00\\n', '   2.5490790e+00\\n', '   2.7866882e+00\\n', '   2.9116825e+00\\n', '   3.0356270e+00\\n', '   3.1146696e+00\\n', '   3.1582389e+00\\n']\n"
     ]
    }
   ],
   "source": [
    "archivo_x = open(ruta_archivo_x, \"r\")\n",
    "x_leido = archivo_x.readlines()\n",
    "archivo_x.close()\n",
    "\n",
    "archivo_y = open(ruta_archivo_y, \"r\")\n",
    "y_leido = archivo_y.readlines()\n",
    "archivo_y.close()\n",
    "    \n",
    "# Vamos a imprimir unos cuantos elementos\n",
    "# de la lista x_leido:\n",
    "print(x_leido[:10])"
   ]
  },
  {
   "cell_type": "markdown",
   "metadata": {},
   "source": [
    "## Limpieza y transformación de los datos"
   ]
  },
  {
   "cell_type": "markdown",
   "metadata": {},
   "source": [
    "Podemos ver que el formato de los números es extraño, y que tenemos unos cuantos espacios antes de que empiece cada número; y al final de cada uno tenemos el caracter de salto de línea `\\n`. Cada elemento de la lista es de momento un string, y debemos:\n",
    "+ Limpiar esos espacios y caracteres `\\n`\n",
    "+ Convertirlos a `float`s\n",
    "\n",
    "Para la limpieza, podemos utilizar el método `.strip()` sobre cada string, el cual nos hace automáticamente esa limpieza. Es muy similar al método `.trim()` de Java, el cual hace básicamente la misma limpieza. [Aquí](https://docs.python.org/2/library/string.html#string.strip) puedes leer sobre `.strip()`.\n",
    "\n",
    "Para convertir los números a `float`s, simplemente hacemos `float(el_string_limpio)`. Python es muy listo, y sabe leer bien la notación exponencial de los números.\n",
    "\n",
    "Podemos realizar las dos transformaciones de cada elemento de cada lista utilizando una *list comprehension*. Vamos a hacerlo:"
   ]
  },
  {
   "cell_type": "code",
   "execution_count": 8,
   "metadata": {
    "collapsed": false
   },
   "outputs": [
    {
     "name": "stdout",
     "output_type": "stream",
     "text": [
      "[2.0658746, 2.3684087, 2.5399929, 2.5420804, 2.549079, 2.7866882, 2.9116825, 3.035627, 3.1146696, 3.1582389]\n",
      "[0.77918926, 0.91596757, 0.90538354, 0.90566138, 0.9389889, 0.9668474, 0.96436824, 0.91445939, 0.93933944, 0.96074971]\n"
     ]
    }
   ],
   "source": [
    "x = [float(elemento.strip()) for elemento in x_leido]\n",
    "y = [float(elemento.strip()) for elemento in y_leido]\n",
    "\n",
    "# Comprobamos:\n",
    "print(x[:10])\n",
    "print(y[:10])"
   ]
  },
  {
   "cell_type": "markdown",
   "metadata": {},
   "source": [
    "Parece que todo ha salido bien: ya tenemos dos listas, `x` e `y`, con los datos descargados, limpios y en formato decimal. Podemos eliminar los archivos descomprimidos de nuestro ordenador. En el caso de que algo salga mal, no tenemos más que volver a ejecutar las celdas del Notebook, y se realizará todo el proceso de descarga, extracción y limpieza de los datos de forma automática.\n",
    "\n",
    "Para borrar los archivos de nuestro ordenador, podemos utilizar [`os.remove(la_ruta_del_archivo_a_borrar)`](https://docs.python.org/3/library/os.html#os.remove):"
   ]
  },
  {
   "cell_type": "code",
   "execution_count": 9,
   "metadata": {
    "collapsed": false
   },
   "outputs": [],
   "source": [
    "os.remove(ruta_archivo_x)\n",
    "os.remove(ruta_archivo_y)\n",
    "os.remove(datos)"
   ]
  },
  {
   "cell_type": "markdown",
   "metadata": {},
   "source": [
    "## La regresión lineal con Numpy"
   ]
  },
  {
   "cell_type": "markdown",
   "metadata": {},
   "source": [
    "Por fin podemos empezar a utilizar Numpy.\n",
    "\n",
    "El primer paso es sencilo: convertir las listas de Python a arrays de Numpy. A ello:"
   ]
  },
  {
   "cell_type": "code",
   "execution_count": 10,
   "metadata": {
    "collapsed": false
   },
   "outputs": [
    {
     "name": "stdout",
     "output_type": "stream",
     "text": [
      "Primeras líneas de cada array:\n",
      "x: \n",
      "[ 2.0658746  2.3684087  2.5399929  2.5420804  2.549079   2.7866882\n",
      "  2.9116825  3.035627   3.1146696  3.1582389]\n",
      "y: \n",
      "[ 0.77918926  0.91596757  0.90538354  0.90566138  0.9389889   0.9668474\n",
      "  0.96436824  0.91445939  0.93933944  0.96074971]\n"
     ]
    }
   ],
   "source": [
    "# Ejercicio01: convertir las listas x e y\n",
    "# a arrays de Numpy:\n",
    "\n",
    "array_x = np.array(x)\n",
    "array_y = np.array(y)\n",
    "\n",
    "print(\"Primeras líneas de cada array:\")\n",
    "print(\"x: \\n\" + str(array_x[:10]))\n",
    "print(\"y: \\n\" + str(array_y[:10]))"
   ]
  },
  {
   "cell_type": "code",
   "execution_count": 11,
   "metadata": {
    "collapsed": false
   },
   "outputs": [
    {
     "name": "stdout",
     "output_type": "stream",
     "text": [
      "¡Correcto!\n"
     ]
    }
   ],
   "source": [
    "# Test01\n",
    "assert np.allclose(np.array([array_x.sum()]), np.array([246.17859859999999])), \"Test fallido: array_x\"\n",
    "assert np.allclose(np.array([array_y.sum()]), np.array([53.234302730000003])), \"Test fallido: array_y\"\n",
    "print(\"¡Correcto!\")"
   ]
  },
  {
   "cell_type": "markdown",
   "metadata": {},
   "source": [
    "Tenemos las coordenadas de las $x$ en un array unidimensional de longitud 50 (la variable que hemos llamado `array_x`); y las coordenadas de las $y$ en otro array igual (`array_y`).\n",
    "\n",
    "No obstante, no es lo mismo un array unidimensional de longitud $50$, que un array de dimensiones $50 \\times 1$. Para continuar con el ejercicio, nos va a ser más conveniente hacer dicha conversión. Podemos hacerlo sencillamente aplicando el método `.reshape()` a ambos arrays:"
   ]
  },
  {
   "cell_type": "code",
   "execution_count": 12,
   "metadata": {
    "collapsed": false
   },
   "outputs": [
    {
     "name": "stdout",
     "output_type": "stream",
     "text": [
      "Primeras líneas de cada array:\n",
      "x: \n",
      "[[ 2.0658746]\n",
      " [ 2.3684087]\n",
      " [ 2.5399929]\n",
      " [ 2.5420804]\n",
      " [ 2.549079 ]\n",
      " [ 2.7866882]\n",
      " [ 2.9116825]\n",
      " [ 3.035627 ]\n",
      " [ 3.1146696]\n",
      " [ 3.1582389]]\n",
      "y: \n",
      "[[ 0.77918926]\n",
      " [ 0.91596757]\n",
      " [ 0.90538354]\n",
      " [ 0.90566138]\n",
      " [ 0.9389889 ]\n",
      " [ 0.9668474 ]\n",
      " [ 0.96436824]\n",
      " [ 0.91445939]\n",
      " [ 0.93933944]\n",
      " [ 0.96074971]]\n"
     ]
    }
   ],
   "source": [
    "# Ejercicio02: redimensionar los arrays,\n",
    "# para que dejen de ser de dimensiones (50,)\n",
    "# y pasen a ser (50,1):\n",
    "\n",
    "array_x_redimen = array_x.reshape(50,1)\n",
    "array_y_redimen = array_y.reshape(50,1)\n",
    "\n",
    "print(\"Primeras líneas de cada array:\")\n",
    "print(\"x: \\n\" + str(array_x_redimen[:10]))\n",
    "print(\"y: \\n\" + str(array_y_redimen[:10]))"
   ]
  },
  {
   "cell_type": "code",
   "execution_count": 13,
   "metadata": {
    "collapsed": false
   },
   "outputs": [
    {
     "name": "stdout",
     "output_type": "stream",
     "text": [
      "¡Correcto!\n"
     ]
    }
   ],
   "source": [
    "# Test02\n",
    "assert array_x_redimen.shape == (50,1), \"Error en las dimensiones de array_x_redimen\"\n",
    "assert array_y_redimen.shape == (50,1), \"Error en las dimensiones de array_y_redimen\"\n",
    "print(\"¡Correcto!\")"
   ]
  },
  {
   "cell_type": "markdown",
   "metadata": {},
   "source": [
    "Ahora ya podemos concatenar ambos arrays, para obtener una matriz con las coordenadas de cada uno de los cincuenta puntos que componen nuestro dataset. Para hacerlo, debemos utilizar la función `np.concatenate`. ¡Manos a la obra!"
   ]
  },
  {
   "cell_type": "code",
   "execution_count": 19,
   "metadata": {
    "collapsed": false
   },
   "outputs": [
    {
     "name": "stdout",
     "output_type": "stream",
     "text": [
      "Dataset (columna x, columna y):\n",
      "[[ 2.0658746   0.77918926]\n",
      " [ 2.3684087   0.91596757]\n",
      " [ 2.5399929   0.90538354]\n",
      " [ 2.5420804   0.90566138]\n",
      " [ 2.549079    0.9389889 ]\n",
      " [ 2.7866882   0.9668474 ]\n",
      " [ 2.9116825   0.96436824]\n",
      " [ 3.035627    0.91445939]\n",
      " [ 3.1146696   0.93933944]\n",
      " [ 3.1582389   0.96074971]]\n",
      "[ 2.0658746  2.3684087  2.5399929  2.5420804  2.549079   2.7866882\n",
      "  2.9116825  3.035627   3.1146696  3.1582389  3.3275944  3.3793165\n",
      "  3.4122006  3.4215823  3.5315732  3.6393002  3.6732537  3.9256462\n",
      "  4.0498646  4.2483348  4.3440052  4.3826531  4.4230602  4.6102443\n",
      "  4.6881183  4.9777333  5.0359967  5.0684536  5.4161491  5.4395623\n",
      "  5.4563207  5.5698458  5.6015729  5.6877617  5.7215602  5.8538914\n",
      "  6.1978026  6.3510941  6.4797033  6.7383791  6.8637686  7.0223387\n",
      "  7.0782373  7.1514232  7.4664023  7.5973874  7.7440717  7.7729662\n",
      "  7.8264514  7.9306356]\n"
     ]
    },
    {
     "data": {
      "text/plain": [
       "array([ 0.77918926,  0.91596757,  0.90538354,  0.90566138,  0.9389889 ,\n",
       "        0.9668474 ,  0.96436824,  0.91445939,  0.93933944,  0.96074971,\n",
       "        0.89837094,  0.91209739,  0.94238499,  0.96624578,  1.05265   ,\n",
       "        1.0143791 ,  0.95969426,  0.96853716,  1.0766065 ,  1.1454978 ,\n",
       "        1.0340625 ,  1.0070009 ,  0.96683648,  1.0895919 ,  1.0634462 ,\n",
       "        1.1237239 ,  1.0323374 ,  1.0874452 ,  1.0702988 ,  1.1606493 ,\n",
       "        1.0778037 ,  1.1069758 ,  1.0971875 ,  1.1648603 ,  1.1411796 ,\n",
       "        1.0844156 ,  1.1252493 ,  1.1168341 ,  1.1970789 ,  1.2069462 ,\n",
       "        1.1251046 ,  1.1235672 ,  1.2132829 ,  1.2522652 ,  1.2497065 ,\n",
       "        1.1799706 ,  1.1897299 ,  1.3029934 ,  1.2601134 ,  1.2562267 ])"
      ]
     },
     "execution_count": 19,
     "metadata": {},
     "output_type": "execute_result"
    }
   ],
   "source": [
    "# Ejercicio03: concatenar los arrays x e y en una matriz\n",
    "# a la que llamaremos dataset, cuyas dimensiones han \n",
    "# de ser 50 x 2.\n",
    "\n",
    "dataset = np.concatenate((array_x_redimen,array_y_redimen),axis=1)\n",
    "\n",
    "print(\"Dataset (columna x, columna y):\\n\" + str(dataset[:10]))\n",
    "\n",
    "print(dataset[:,0])\n",
    "dataset[:,1]"
   ]
  },
  {
   "cell_type": "code",
   "execution_count": 17,
   "metadata": {
    "collapsed": false
   },
   "outputs": [
    {
     "name": "stdout",
     "output_type": "stream",
     "text": [
      "¡Correcto!\n"
     ]
    }
   ],
   "source": [
    "# Test03\n",
    "assert dataset.shape == (50,2), \"Error en las dimensiones de la matriz.\"\n",
    "assert np.allclose(dataset.sum(axis=0), np.array([246.1785986, 53.23430273])), (\"Test fallido: matriz. Comprueba que la primera columna es la de las x y la segunda la de las y\")\n",
    "print(\"¡Correcto!\")"
   ]
  },
  {
   "cell_type": "markdown",
   "metadata": {},
   "source": [
    "Vamos a comenzar por hacer un gráfico de dispersión (scatterplot) de los datos, para ver qué pinta tienen. Podríamos hacerlo tal y como hemos visto, con `plt.plot()`, pero existe una forma más sencilla (y muy similar) de hacer gráficos de dispersión: `plt.scatter()`. Admite prácticamente los mismos argumentos que `plt.plot()`: primero los datos del eje x, luego los del y, y en este caso vamos a utilizar el argumento `s=tamaño` para darle un tamaño de 50 a los puntos de nuestro gráfico.\n",
    "\n",
    "Para separar los datos de los ejes x e y a partir de nuestro `dataset`, podemos hacerlo con slicing, tal y como aparece en la teoría."
   ]
  },
  {
   "cell_type": "code",
   "execution_count": 20,
   "metadata": {
    "collapsed": false
   },
   "outputs": [
    {
     "data": {
      "text/plain": [
       "<matplotlib.collections.PathCollection at 0x4d80278>"
      ]
     },
     "execution_count": 20,
     "metadata": {},
     "output_type": "execute_result"
    },
    {
     "data": {
      "image/png": "[encoded data removed]",
      "text/plain": [
       "<matplotlib.figure.Figure at 0x8361a58>"
      ]
     },
     "metadata": {},
     "output_type": "display_data"
    }
   ],
   "source": [
    "# Ejercicio04: rellenar con los datos de los ejes\n",
    "# x e y a partir de nuestro dataset haciendo slicing.\n",
    "# Así, podrás dibujar con plt.scatter:\n",
    "plt.figure(figsize=(8,6))\n",
    "\n",
    "# Para más información sobre plt.scatter, consultar:\n",
    "# http://matplotlib.org/api/pyplot_api.html#matplotlib.pyplot.scatter\n",
    "plt.scatter(dataset[:,0], dataset[:,1], s=50)"
   ]
  },
  {
   "cell_type": "markdown",
   "metadata": {},
   "source": [
    "Si miramos en la [web del ejercicio](http://openclassroom.stanford.edu/MainFolder/DocumentPage.php?course=MachineLearning&doc=exercises/ex2/ex2.html) y vamos al gráfico, veremos que lo hemos dibujado bien y que tiene la misma pinta (con otra herramienta distinta, pero el resultado debe ser el mismo evidentemente)."
   ]
  },
  {
   "cell_type": "markdown",
   "metadata": {},
   "source": [
    "A estas alturas ya merece la pena explicar el dataset. Cada punto del gráfico que acabamos de hacer es una observación. En el eje de las $x$, tenemos la edad de distintos niños tomados de una muestra. En el eje $y$, tenemos su altura en metros. De forma que si miramos el primer punto en el gráfico (el que está más abajo a la izquierda), podemos ver que se trata de un niño de unos dos años de edad que mide algo menos de ochenta centímetros (0,8m). Vamos a realizar una regresión lineal para crear un modelo predictivo con el que intentemos predecir la altura de un niño, dada su edad.\n",
    "\n",
    "\n",
    "Una vez que tenemos el `dataset` en una matriz, vamos a comenzar con una poca teoría sobre la regresión lineal.\n",
    "\n",
    "Lo que vamos a hacer en el ejercicio es la regresión lineal simple univariante, utilizando el método de Mínimos Cuadrados Ordinarios (OLS en inglés). Se trata de un modelo muy simple, que nos permitirá predecir valores de $y$ (altura) dados nuevos valores de $x$ (edad).\n",
    "\n",
    "El modelo de OLS tiene una particularidad muy importante. A diferencia de la mayoría de algoritmos de machine learning, que son iterativos, OLS tiene lo que se llama una *closed form solution*: una solución cerrada, que siempre es la misma, y a la que podemos llegar sin necesidad de realizar iteraciones sobre nuestro dataset (es decir, sin bucles `for` ni similares). La explicación matemática de por qué OLS tiene esta solución cerrada es aburrida, pero básicamente dice que la función de reducción (*loss function* en inglés) es convexa, de forma que la optimización de la misma se puede realizar de forma determinística y, en este caso, utilizando sencillo álgebra lineal.\n",
    "\n",
    "Formulemos el problema: tenemos nuestra variable, columna, matriz o vector $X$, que representa la edad de los niños en este caso. Tenemos 50 observaciones, así que $N$ (letra que se suele utilizar como número de observaciones) es $50$:\n",
    "\n",
    "$$X = \\begin{bmatrix}x_{observacion 1}\\\\x_{observacion 2}\\\\x_{observacion 3}\\\\\\vdots\\\\x_{observacion N}\\end{bmatrix}$$\n",
    "\n",
    "Donde $x_{observacion 1}$ (o simplemente $x_1$) es la edad de la primera observación (primer niño), $x_2$ la del segundo niño, etcétera.\n",
    "\n",
    "También tenemos la altura de los niños $y$, que en este caso es *lo que vamos a querer predecir*, por lo que será nuestra variable dependiente, variable objetivo o *target variable*:\n",
    "\n",
    "$$y = \\begin{bmatrix}y_{observacion1}\\\\y_{observacion2}\\\\y_{observacion3}\\\\\\vdots\\\\y_{observacionN}\\end{bmatrix}$$"
   ]
  },
  {
   "cell_type": "markdown",
   "metadata": {},
   "source": [
    "Lo que nosotros queremos obtener es una *ley* (una función para ser más precisos) que nos permita explicar la $y$ en función de la $x$, mediante la multiplicación por un parámetro $\\beta$, que es realmente lo que tenemos que estimar:\n",
    "\n",
    "$$y = \\beta \\cdot X$$\n",
    "\n",
    "Bueno, pues resulta que en el caso de OLS, podemos obtener este parámetro $\\beta$ a través de la siguiente expresión:\n",
    "\n",
    "$$\\beta = (X^{T}X)^{-1}X^{T}y$$\n",
    "\n",
    "Así que para obtener $\\beta$, solo tenemos que realizar las operaciones de álgebra lineal mostradas. El resultado, en este caso, será un número para $\\beta$ (más sobre eso luego). Vamos a ello:"
   ]
  },
  {
   "cell_type": "code",
   "execution_count": 21,
   "metadata": {
    "collapsed": false
   },
   "outputs": [
    {
     "name": "stdout",
     "output_type": "stream",
     "text": [
      "X (primeras 10 observaciones):\n",
      "[[ 2.0658746]\n",
      " [ 2.3684087]\n",
      " [ 2.5399929]\n",
      " [ 2.5420804]\n",
      " [ 2.549079 ]\n",
      " [ 2.7866882]\n",
      " [ 2.9116825]\n",
      " [ 3.035627 ]\n",
      " [ 3.1146696]\n",
      " [ 3.1582389]]\n",
      "\n",
      "y (primeras 10 observaciones):\n",
      "[[ 0.77918926]\n",
      " [ 0.91596757]\n",
      " [ 0.90538354]\n",
      " [ 0.90566138]\n",
      " [ 0.9389889 ]\n",
      " [ 0.9668474 ]\n",
      " [ 0.96436824]\n",
      " [ 0.91445939]\n",
      " [ 0.93933944]\n",
      " [ 0.96074971]]\n"
     ]
    }
   ],
   "source": [
    "# Por temas de sencillez, vamos a re-asignar a la\n",
    "# variable X la columna de las xs de nuestro dataset;\n",
    "# y la variable y a la columna de las ys:\n",
    "X = dataset[:,0].reshape(50,1)\n",
    "y = dataset[:,1].reshape(50,1)\n",
    "\n",
    "print(\"X (primeras 10 observaciones):\\n\" + str(X[:10])+\"\\n\")\n",
    "print(\"y (primeras 10 observaciones):\\n\" + str(y[:10]))"
   ]
  },
  {
   "cell_type": "code",
   "execution_count": 23,
   "metadata": {
    "collapsed": false
   },
   "outputs": [
    {
     "name": "stdout",
     "output_type": "stream",
     "text": [
      "Beta:\n",
      "[[ 0.19984032]]\n"
     ]
    }
   ],
   "source": [
    "# Ejercicio05: Realizar el cómputo de\n",
    "# beta, a partir de la fórmula de la\n",
    "# closed form solution para OLS,\n",
    "# dados X e y:\n",
    "\n",
    "beta = np.linalg.inv(X.T.dot(X)).dot(X.T).dot(y)\n",
    "\n",
    "print(\"Beta:\\n\" + str(beta))"
   ]
  },
  {
   "cell_type": "code",
   "execution_count": 24,
   "metadata": {
    "collapsed": false
   },
   "outputs": [
    {
     "name": "stdout",
     "output_type": "stream",
     "text": [
      "Correcto!\n"
     ]
    }
   ],
   "source": [
    "# Test05\n",
    "assert np.allclose(beta, np.array([[0.19984032]])), \"Error: valor inválido de beta\"\n",
    "print(\"Correcto!\")"
   ]
  },
  {
   "cell_type": "markdown",
   "metadata": {},
   "source": [
    "Si antes formulamos que:\n",
    "$$y = \\beta \\cdot X$$\n",
    "Y ya tenemos $\\beta$, podemos escribir nuestra *función hipótesis*, o modelo:"
   ]
  },
  {
   "cell_type": "code",
   "execution_count": 25,
   "metadata": {
    "collapsed": false
   },
   "outputs": [
    {
     "name": "stdout",
     "output_type": "stream",
     "text": [
      "Hipótesis:\n",
      "y = 0.199840319894 x\n"
     ]
    }
   ],
   "source": [
    "# Ejecutar esta celda:\n",
    "beta = beta[0,0]\n",
    "print(\"Hipótesis:\\n\" + \"y = \" + str(beta) + \" x\")"
   ]
  },
  {
   "cell_type": "markdown",
   "metadata": {},
   "source": [
    "En la regresión lineal univariante, vemos que el resultado no es más que una función de una recta. Ya sabemos dibujar eso en Matplotlib: de hecho, vamos a dibujar el scatterplot y la función de nuestra recta en el mismo gráfico:"
   ]
  },
  {
   "cell_type": "code",
   "execution_count": 28,
   "metadata": {
    "collapsed": false
   },
   "outputs": [
    {
     "data": {
      "text/plain": [
       "[<matplotlib.lines.Line2D at 0x4f46438>]"
      ]
     },
     "execution_count": 28,
     "metadata": {},
     "output_type": "execute_result"
    },
    {
     "data": {
      "image/png": "[encoded data removed]",
      "text/plain": [
       "<matplotlib.figure.Figure at 0x4f4cac8>"
      ]
     },
     "metadata": {},
     "output_type": "display_data"
    }
   ],
   "source": [
    "# Ejercicio06: dibujar el scatterplot\n",
    "# de nuevo, mas nuestra funcion de la recta:\n",
    "plt.figure(figsize=(8,6))\n",
    "\n",
    "# Primero el scatterplot (igual que el anterior,\n",
    "# con los mismos datos en cada eje):\n",
    "plt.scatter(X, y, s=50)\n",
    "\n",
    "# Y ahora la recta:\n",
    "plt.plot([2.3684087,7.8264514],[beta*2.3684087,beta*7.8264514],\n",
    "         \"g--\") # g-- = Linea verde con rayitas"
   ]
  },
  {
   "cell_type": "markdown",
   "metadata": {},
   "source": [
    "¡Vaya! Parece que nuestra recta no capta demasiado bien la tendencia de los datos. Debería estar probablemente más \"encima de ellos\", y su inclinación debería ajustarse más a la tendencia creciente de la altura con la edad de los niños. Algo está pasando...\n",
    "\n",
    "Bueno: resulta que en casi todos los modelos lineales de machine learning, existe una variable que merece la pena incluir en nuestro dataset. Dicha variable se llama sesgo, *bias* o *intercept*. En nuestra función hemos estimado el número para $\\beta$:\n",
    "\n",
    "$$y = \\beta \\cdot X$$\n",
    "\n",
    "Que multiplica a nuestras $X$. No obstante, si sabemos algo de geometría, podemos ver que nuestra recta no tiene ordenada en en origen, es decir, que sale desde en punto (0,0) del eje de coordenadas (aunque no sea muy evidente en el gráfico anterior, es así).\n",
    "\n",
    "El *bias* es básicamente eso: añadir la ordenada en el origen a nuestro modelo a resolver. ¿Cómo podemos hacer esto? Bueno, resulta que la notación de $X$ mayúscula, $y$ minúscula y $\\beta$ minúscula (aunque no lo parezca), no era capricho. En notación algebraica:\n",
    "\n",
    "+ Las letras latinas mayúsculas se suelen utilizar para matrices conocidas.\n",
    "+ Las letras latinas minúsculas se suelen utilizar para escalares o vectores conocidos.\n",
    "+ Las letras griegas mayúsculas se suelen utilizar para matrices desconocidas, o a estimar.\n",
    "+ Las letras griegas minúsculas se suelen utilizar para escalares o vectores desconocidos, o a estimar.\n",
    "\n",
    "¿Cómo añadimos el *bias*? Bueno, supongamos por un momento que nuestra matriz $X$ tiene $N$ filas y $M$ columnas, donde cada columna es una variable distinta (además de edad, supongamos peso, longitud de los dedos, longitud de las piernas... así hasta $M$ variables), y cada fila una observación distinta:\n",
    "\n",
    "$$X = \\begin{bmatrix}x_{11} & x_{12} & x_{13} & \\dots & x_{1M}\\\\x_{21} & x_{22} & x_{23} & \\dots & x_{2M}\\\\ x_{31} & x_{32} & x_{33} & \\dots & x_{3M}\\\\\\vdots & \\vdots & \\vdots & \\ddots & \\vdots\\\\x_{N1} & x_{N2} & x_{N3} &  \\dots & x_{NM}\\end{bmatrix}$$\n",
    "\n",
    "Haciendo esto, lo que antes era únicamente $N$ observaciones de una variable, ahora serían $N$ observaciones de $M$ variables; y a todo eso le llamamos nuestra *feature matrix* $X$.\n",
    "\n",
    "¿Qué vamos a hacer con el *bias*? Añadirlo como una segunda variable. Normalmente esto se hace cambiando un poco la notación sobre la mostrada en la matriz de arriba. Al *bias* se la suele llamar como variable/columna $0$, es decir, empezando a contar las columnas desde $0$ en vez de desde $1$. Entonces, nuestra *feature matrix* $X$ específica para este problema (donde hasta ahora solo teníamos la variable/columna edad) quedaría así:\n",
    "\n",
    "$$X = \\begin{bmatrix}x_{10} & x_{11}\\\\x_{20} & x_{21}\\\\ x_{30} & x_{31}\\\\\\vdots & \\vdots \\\\x_{N0} & x_{N1}\\end{bmatrix}$$\n",
    "\n",
    "Donde la columna $0$ será nuestra variable *bias*, y la columna $1$ nuestra variable edad.\n",
    "\n",
    "Bueno, ¿y qué valores tendrá la columna $0$? En la literatura podrás ver que para añadir el *bias* se suele generar una columna de todo unos (por razones que veremos luego). Una ocasión magnífica para utilizar `np.ones()`. De forma que será:\n",
    "\n",
    "$$X = \\begin{bmatrix}1 & x_{11}\\\\1 & x_{21}\\\\1 & x_{31}\\\\\\vdots & \\vdots \\\\1 & x_{N1}\\end{bmatrix}$$"
   ]
  },
  {
   "cell_type": "markdown",
   "metadata": {},
   "source": [
    "Resulta que el resto de nuestra notación apenas cambia. Comprobémoslo. Teníamos:\n",
    "\n",
    "$$y = \\beta \\cdot X$$\n",
    "\n",
    "Y para calcular $\\beta$:\n",
    "\n",
    "$$\\beta = (X^{T}X)^{-1}X^{T}y$$\n",
    "\n",
    "\n",
    "\n",
    "Donde ahora:\n",
    "\n",
    "+ $X$ es una matriz $50 \\times 2$\n",
    "+ $y$ sigue siendo una sola columna: $50 \\times 1$\n",
    "\n",
    "Si hacemos algo de cálculo algebraico a ojo, veremos que $\\beta$ quedará como una matriz de dimensiones $2 \\times 1$:\n",
    "\n",
    "$$\\beta = \\begin{bmatrix}\\beta_{0}\\\\\\beta_{1}\\end{bmatrix}$$\n",
    "\n",
    "De forma que ahora que el parámetro $\\beta$ no es un único número, sino un vector con dos valores. Escrito en forma de ecuación de recta, será, para una fila/observación $i$ cualquiera del dataset:\n",
    "\n",
    "$$y_i = \\beta_0 \\cdot x_{i0} + \\beta_1 \\cdot x_{i1}$$\n",
    "\n",
    "Y gracias a que la columna de la *feature matrix* $X$ son todo unos (en todas las observaciones), podemos sustituir por unos: \n",
    "\n",
    "$$y_i = \\beta_0 \\cdot 1 + \\beta_1 \\cdot x_{i1}$$\n",
    "\n",
    "Y si lo ordenamos un poquito:\n",
    "\n",
    "$$y_i =  \\beta_1 \\cdot x_{i1} + \\beta_0$$\n",
    "\n",
    "Y si la ponemos de forma general (quitando las $i$s que indican la fila), y el subíndice 1 de las $x$ (puesto que tenemos solo una variable dada en este caso, edad):\n",
    "\n",
    "$$y =  \\beta_1 \\cdot x + \\beta_0$$\n",
    "\n",
    "Conclusión: añadiendo un *bias*, obtenemos una nueva fórmula de nuestra recta, ahora con ordenada en el origen $\\beta_0$; lo cual nos va a ofrecer un mejor ajuste en nuestro modelo. A toda esta operación de añadir una columna de unos a nuestra *feature matrix* se le suele llamar *añadir threshold o intercept* al modelo. Así lo veremos cuando utilicemos Scikit-Learn (que llama a esta columna de unos *intercept*). \n",
    "\n",
    "Siempre que nuestros datos no estén centrados (es decir, que no tengan media 0), se recomienda añadir *intercept*, para un mejor ajuste.\n",
    "\n",
    "Puede parecer complicado, pero en definitiva: solo tenemos que añadir una columna de unos a nuestro dataset, y realizar las mismas operaciones algebraicas para sacar nuestro, ahora, vector $\\beta$."
   ]
  },
  {
   "cell_type": "markdown",
   "metadata": {},
   "source": [
    "Recordemos que tenemos definida una variable `X`, que son las observaciones de edad:"
   ]
  },
  {
   "cell_type": "code",
   "execution_count": 29,
   "metadata": {
    "collapsed": false
   },
   "outputs": [
    {
     "data": {
      "text/plain": [
       "array([[ 2.0658746],\n",
       "       [ 2.3684087],\n",
       "       [ 2.5399929],\n",
       "       [ 2.5420804],\n",
       "       [ 2.549079 ],\n",
       "       [ 2.7866882],\n",
       "       [ 2.9116825],\n",
       "       [ 3.035627 ],\n",
       "       [ 3.1146696],\n",
       "       [ 3.1582389]])"
      ]
     },
     "execution_count": 29,
     "metadata": {},
     "output_type": "execute_result"
    }
   ],
   "source": [
    "# Ejecutar para ver las primeras 10 observaciones de nuestra feature matrix X:\n",
    "X[:10]"
   ]
  },
  {
   "cell_type": "markdown",
   "metadata": {},
   "source": [
    "Y nuestro vector `y`:"
   ]
  },
  {
   "cell_type": "code",
   "execution_count": 30,
   "metadata": {
    "collapsed": false
   },
   "outputs": [
    {
     "data": {
      "text/plain": [
       "array([[ 0.77918926],\n",
       "       [ 0.91596757],\n",
       "       [ 0.90538354],\n",
       "       [ 0.90566138],\n",
       "       [ 0.9389889 ],\n",
       "       [ 0.9668474 ],\n",
       "       [ 0.96436824],\n",
       "       [ 0.91445939],\n",
       "       [ 0.93933944],\n",
       "       [ 0.96074971]])"
      ]
     },
     "execution_count": 30,
     "metadata": {},
     "output_type": "execute_result"
    }
   ],
   "source": [
    "# Ejecutar para ver las primeras 10 observaciones de y:\n",
    "y[:10]"
   ]
  },
  {
   "cell_type": "markdown",
   "metadata": {},
   "source": [
    "Vamos a crear una nueva variable llamada `X_con_intercept`, añadiendo una columna de unos sobre nuestra antigua *feature matrix* $X$. Lo haremos con `np.ones((filas, columnas))`, y luego con un `np.concatenate()`:"
   ]
  },
  {
   "cell_type": "code",
   "execution_count": 32,
   "metadata": {
    "collapsed": false
   },
   "outputs": [
    {
     "name": "stdout",
     "output_type": "stream",
     "text": [
      "[[ 1.         2.0658746]\n",
      " [ 1.         2.3684087]\n",
      " [ 1.         2.5399929]\n",
      " [ 1.         2.5420804]\n",
      " [ 1.         2.549079 ]\n",
      " [ 1.         2.7866882]\n",
      " [ 1.         2.9116825]\n",
      " [ 1.         3.035627 ]\n",
      " [ 1.         3.1146696]\n",
      " [ 1.         3.1582389]]\n"
     ]
    }
   ],
   "source": [
    "# Ejercicio07: añadir una columna de\n",
    "# unos en nuestra feature matrix X:\n",
    "columna_unos = np.ones((50,1))\n",
    "\n",
    "X_con_intercept = np.concatenate((columna_unos,X),axis=1)\n",
    "\n",
    "print(X_con_intercept[:10])"
   ]
  },
  {
   "cell_type": "code",
   "execution_count": 33,
   "metadata": {
    "collapsed": false
   },
   "outputs": [
    {
     "name": "stdout",
     "output_type": "stream",
     "text": [
      "Correcto!\n"
     ]
    }
   ],
   "source": [
    "# Test07\n",
    "assert X_con_intercept.shape == (50,2), \"Error: las dimensiones de X_con_intercept están mal. Debería ser una matriz 50 x 2\"\n",
    "assert np.allclose(X_con_intercept.sum(axis=0), np.array([50. , 246.1785986])), \"Error: matriz X_con_intercept no válida. ¿Seguro que has añadido la columna de unos, y ésta es la primera de todas?\"\n",
    "print(\"Correcto!\")"
   ]
  },
  {
   "cell_type": "markdown",
   "metadata": {},
   "source": [
    "Ahora ya tenemos nuestro *feature matrix* $X$ con la columna *bias*/*intercept* de unos. Ya podemos volver a calcular:\n",
    "\n",
    "$$\\beta = (X^{T}X)^{-1}X^{T}y$$"
   ]
  },
  {
   "cell_type": "code",
   "execution_count": 35,
   "metadata": {
    "collapsed": false
   },
   "outputs": [
    {
     "name": "stdout",
     "output_type": "stream",
     "text": [
      "Vector beta:\n",
      "[[ 0.75016254]\n",
      " [ 0.06388117]]\n"
     ]
    }
   ],
   "source": [
    "# Ejercicio08: calcular el nuevo vector beta,\n",
    "# donde nuestra matriz X es la X_con_threshold\n",
    "# que acabamos de hacer:\n",
    "\n",
    "beta = np.linalg.inv(X_con_intercept.T.dot(X_con_intercept)).dot(X_con_intercept.T).dot(y)\n",
    "\n",
    "print(\"Vector beta:\\n\" + str(beta))"
   ]
  },
  {
   "cell_type": "code",
   "execution_count": null,
   "metadata": {
    "collapsed": false
   },
   "outputs": [],
   "source": [
    "# Test08\n",
    "assert beta.shape == (2,1)\n",
    "assert np.allclose(beta, np.array([[0.75016254],[0.06388117]]))\n",
    "print(\"¡Correcto!\")"
   ]
  },
  {
   "cell_type": "markdown",
   "metadata": {},
   "source": [
    "Ya tenemos nuestra nueva estimación de parámetros del vector $\\beta$. Si lo ponemos en nuestra ecuación de la recta:"
   ]
  },
  {
   "cell_type": "code",
   "execution_count": 36,
   "metadata": {
    "collapsed": false
   },
   "outputs": [
    {
     "name": "stdout",
     "output_type": "stream",
     "text": [
      "Nuestra función ahora es:\n",
      "y = 0.0638811658258 x + 0.750162537001\n"
     ]
    }
   ],
   "source": [
    "# Por motivos de simplicidad,\n",
    "# vamos a separar los dos valores\n",
    "# del vector en beta_0 (threshold/bias)\n",
    "# y beta_1 (parámetro que multiplica a la edad).\n",
    "# Ejecuta esta celda para hacerlo:\n",
    "beta_0 = beta[0,0]\n",
    "beta_1 = beta[1,0]\n",
    "print(\"Nuestra función ahora es:\")\n",
    "print(\"y = \" + str(beta_1) + \" x + \" + str(beta_0))"
   ]
  },
  {
   "cell_type": "markdown",
   "metadata": {},
   "source": [
    "Y este es nuestro nuevo modelo. Vamos a dibujar de nuevo el scatterplot, y la nueva recta:"
   ]
  },
  {
   "cell_type": "code",
   "execution_count": 40,
   "metadata": {
    "collapsed": false
   },
   "outputs": [
    {
     "data": {
      "text/plain": [
       "[<matplotlib.lines.Line2D at 0x8954780>]"
      ]
     },
     "execution_count": 40,
     "metadata": {},
     "output_type": "execute_result"
    },
    {
     "data": {
      "image/png": "[encoded data removed]",
      "text/plain": [
       "<matplotlib.figure.Figure at 0x8e805c0>"
      ]
     },
     "metadata": {},
     "output_type": "display_data"
    }
   ],
   "source": [
    "# Ejercicio09: dibujar de nuevo el scatterplot\n",
    "# y la nueva recta:\n",
    "plt.figure(figsize=(8,6))\n",
    "\n",
    "# Como en los anteriores, primero el scatterplot:\n",
    "plt.scatter(X, y, s=50)\n",
    "\n",
    "# Y ahora la nueva recta\n",
    "plt.plot([1.5,8.5],[beta_1*1.5+beta_0,beta_1*8.5+beta_0], \"r--\")"
   ]
  },
  {
   "cell_type": "markdown",
   "metadata": {},
   "source": [
    "Gracias que hemos añadido el *intercept* nuestra recta ahora tiene ordenada en el origen; y el ajuste es mucho mejor como podemos ver."
   ]
  },
  {
   "cell_type": "markdown",
   "metadata": {},
   "source": [
    "# Comprobación con scikit-learn\n",
    "Voy a comprobar con la librería scikit-learn que el cálculo algebraico de las betas que se ha realizado anteriormente es correcto."
   ]
  },
  {
   "cell_type": "code",
   "execution_count": 42,
   "metadata": {
    "collapsed": true
   },
   "outputs": [],
   "source": [
    "from sklearn.linear_model import LinearRegression"
   ]
  },
  {
   "cell_type": "markdown",
   "metadata": {},
   "source": [
    "Hago la regresión lineal por mínimos cuadrados ordinarios. Para ello creo una instancia de la clase LinearRegression:"
   ]
  },
  {
   "cell_type": "code",
   "execution_count": 43,
   "metadata": {
    "collapsed": false
   },
   "outputs": [],
   "source": [
    "lineal=LinearRegression()"
   ]
  },
  {
   "cell_type": "markdown",
   "metadata": {},
   "source": [
    "Y ajusto a una recta pasándole todos los valores (son solo 50). Quiero la pendiente y la ordenada en el origen para todo el conjunto de datos. No tiene sentido dividir el conjunto de datos en subconjunto de entrenamiento y de testing:"
   ]
  },
  {
   "cell_type": "code",
   "execution_count": 44,
   "metadata": {
    "collapsed": false
   },
   "outputs": [
    {
     "data": {
      "text/plain": [
       "LinearRegression(copy_X=True, fit_intercept=True, n_jobs=1, normalize=False)"
      ]
     },
     "execution_count": 44,
     "metadata": {},
     "output_type": "execute_result"
    }
   ],
   "source": [
    "lineal.fit(X=X,y=y)"
   ]
  },
  {
   "cell_type": "code",
   "execution_count": 46,
   "metadata": {
    "collapsed": false
   },
   "outputs": [
    {
     "name": "stdout",
     "output_type": "stream",
     "text": [
      "Vector beta:\n",
      "\n",
      "[ 0.75016254]\n",
      "[[ 0.06388117]]\n"
     ]
    }
   ],
   "source": [
    "print(\"Vector beta:\\n\")\n",
    "print(lineal.intercept_)\n",
    "print(lineal.coef_)"
   ]
  },
  {
   "cell_type": "markdown",
   "metadata": {},
   "source": [
    "Vemos que, efectivamente, los valores de beta_0 y beta_1 son los mismos que los obtenidos anteriormente."
   ]
  }
 ],
 "metadata": {
  "anaconda-cloud": {},
  "kernelspec": {
   "display_name": "Python [default]",
   "language": "python",
   "name": "python3"
  },
  "language_info": {
   "codemirror_mode": {
    "name": "ipython",
    "version": 3
   },
   "file_extension": ".py",
   "mimetype": "text/x-python",
   "name": "python",
   "nbconvert_exporter": "python",
   "pygments_lexer": "ipython3",
   "version": "3.5.2"
  }
 },
 "nbformat": 4,
 "nbformat_minor": 0
}
