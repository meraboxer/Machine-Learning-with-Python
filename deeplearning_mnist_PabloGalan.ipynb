{
 "cells": [
  {
   "cell_type": "markdown",
   "metadata": {
    "nbgrader": {
     "grade": false,
     "locked": false,
     "solution": false
    }
   },
   "source": [
    "# Lab assignment: classifying digits with Deep Networks"
   ]
  },
  {
   "cell_type": "markdown",
   "metadata": {
    "nbgrader": {
     "grade": false,
     "locked": false,
     "solution": false
    }
   },
   "source": [
    "<img src=\"img/mnist.jpeg\" style=\"width:480px;\">"
   ]
  },
  {
   "cell_type": "markdown",
   "metadata": {
    "nbgrader": {
     "grade": false,
     "locked": false,
     "solution": false
    }
   },
   "source": [
    "In this assignment we will face the problem of recognizing handwritten digits. We will see how in order to achieve maximum effectiveness we will need to resort to several Deep Learning techniques."
   ]
  },
  {
   "cell_type": "markdown",
   "metadata": {
    "nbgrader": {
     "grade": false,
     "locked": false,
     "solution": false
    }
   },
   "source": [
    "## Guidelines"
   ]
  },
  {
   "cell_type": "markdown",
   "metadata": {
    "nbgrader": {
     "grade": false,
     "locked": false,
     "solution": false
    }
   },
   "source": [
    "Throughout this notebook you will find empty cells that you will need to fill with your own code. Follow the instructions in the notebook and pay special attention to the following symbols.\n",
    "\n",
    "<table>\n",
    " <tr><td><img src=\"img/question.png\" style=\"width:80px;height:80px;\"></td><td>You will need to solve a question by writing your own code or answer in the cell immediately below, or in a different file as instructed.</td></tr>\n",
    " <tr><td><img src=\"img/exclamation.png\" style=\"width:80px;height:80px;\"></td><td>This is a hint or useful observation that can help you solve this assignment. You are not expected to write any solution, but you should pay attention to them to understand the assignment.</td></tr>\n",
    " <tr><td><img src=\"img/pro.png\" style=\"width:80px;height:80px;\"></td><td>This is an advanced and voluntary exercise that can help you gain a deeper knowledge into the topic. Good luck!</td></tr>\n",
    "</table>\n",
    "\n",
    "During the assigment you will make use of several Python packages that might not be installed in your machine. If that is the case, you can install new Python packages with\n",
    "\n",
    "    conda install PACKAGENAME\n",
    "    \n",
    "if you are using Python Anaconda. Else you should use\n",
    "\n",
    "    pip install PACKAGENAME\n",
    "\n",
    "You will need the following packages for this particular assignment. Make sure they are available before proceeding:\n",
    "\n",
    "* **numpy**\n",
    "* **keras**\n",
    "* **matplotlib**"
   ]
  },
  {
   "cell_type": "markdown",
   "metadata": {},
   "source": [
    "The following code will embed any plots into the notebook instead of generating a new window:"
   ]
  },
  {
   "cell_type": "code",
   "execution_count": 1,
   "metadata": {
    "collapsed": false
   },
   "outputs": [],
   "source": [
    "import matplotlib.pyplot as plt\n",
    "%matplotlib inline"
   ]
  },
  {
   "cell_type": "markdown",
   "metadata": {},
   "source": [
    "Lastly, if you need any help on the usage of a Python function you can place the writing cursor over its name and press Caps+Shift to produce a pop-out with related documentation. This will only work inside code cells. \n",
    "\n",
    "Let's go!"
   ]
  },
  {
   "cell_type": "markdown",
   "metadata": {},
   "source": [
    "# <span style=\"color:blue\">Introducción</span>"
   ]
  },
  {
   "cell_type": "markdown",
   "metadata": {},
   "source": [
    "<span style=\"color:blue\">Para familiarizarme con el funcionamiento de las redes neuronales voy a empezar viendo tres ejemplos de redes sencillas con conexiones hacia adelante (*feedforward*), es decir, redes en las que ninguna salida de las neuronas es entrada de neuronas del mismo nivel o niveles precedentes, sino que todas las neuronas de una capa reciben señales de entrada de otra capa anterior, más cercana a las entradas de la red, y envían las señales de salida a una capa posterior, más cercana a la salida de la red. Se trata por tanto de grafos dirigidos. Las redes con conexiones hacia atrás (*feedback*) que tienen lazos cerrados son sistemas recurrentes y no se trabajará con ellas en esta práctica.  \n",
    "Los tres ejemplos son las redes *feedforward* más conocidas: el perceptrón, la red ADALINE (ADAptative LINear Element) y *backpropagation*.</span>"
   ]
  },
  {
   "cell_type": "markdown",
   "metadata": {},
   "source": [
    "## <span style=\"color:blue\">Perceptrón</span>\n",
    "\n",
    "<span style=\"color:blue\">Un tipo de aprendizaje supervisado es el aprendizaje por corrección del error, que consiste en ajustar los pesos de las conexiones de la red en función de la diferencia entre los valores deseados (de los cuales se dispone) y los obtenidos en la salida de la red; es decir, en función del error cometido en la salida. Un ejemplo de algoritmo simple de aprendizaje por corrección del error lo constituye la regla de aprendizaje del perceptrón (Rosenblatt, 1958):  </span>\n",
    "\n",
    "<span style=\"color:blue\">\\begin{equation}\\Delta w_b(t+1) = \\alpha x_b(t)[y(t)-f(t)]\\end{equation}</span>\n",
    "\n",
    "<span style=\"color:blue\">Siendo  \n",
    "$\\Delta w_b$: la variación en el peso de la conexión entre la neurona $b$ de entrada y la neurona de salida,  \n",
    "$x_b$: el valor ingresado en la neurona de entrada $b$,  \n",
    "$y$: el valor de salida deseado (el valor de la label),  \n",
    "$f$ : el valor de salida obtenido,  \n",
    "$\\alpha$ : el factor de aprendizaje ($0<\\alpha\\leq 1$) que regula la velocidad del aprendizaje,  \n",
    "$t$ : el número de paso; es una especie de tiempo discreto que toma valores naturales.</span>\n",
    "\n",
    "<span style=\"color:blue\">El preceptrón es el caso más simple de red neuronal: solo una capa de entrada y una de salida. Está formado por varias neuronas para recibir las entradas a la red y una neurona de salida. Es capaz de decidir cuándo una entrada presentada a la red pertenece a una de las dos clases que es capaz de reconocer. La única neurona de salida del perceptrón realiza la suma ponderada (combinación lineal) de las entradas (más un término independiente o *bias*, $w_0$) y pasa el resultado a una función de transferencia de tipo escalón:  \\begin{equation}f(z)=\\left\\{\\begin{array}{ll}\n",
    " 1 & \\mbox{ si $z\\geq 0$} \\\\\n",
    " 0 & \\mbox{ si $z< 0$} \\end{array} \\right. \\end{equation} </span>\n",
    " \n",
    "<span style=\"color:blue\">Se trata, por tanto, de un dispositivo de entradas y salidas digitales. Al ser tan simple, el perceptrón tiene una capacidad de representación bastante limitada; solo es capaz de discriminar patrones muy sencillos, linealmente separables.  \n",
    "Como ejemplo de funcionamiento de una red neuronal de tipo perceptrón voy a resolver el problema de la función OR. Para esta función la red debe ser capaz de devolver, a partir de los 4 patrones de entrada, {00, 01, 10, 11}, a qué clase pertenece cada uno. Esto es, para el patrón de entrada 00 debe devolver la clase 0 y para los restantes la clase 1. Las entradas (*features*) $x_1$ y $x_2$ serán dos valores binarios y la salida es:  \n",
    "\\begin{equation}a = f(w_0+w_1x_1+w_2x_2)=f\\left(\\sum_{b=0}^2 w_bx_b\\right),\\end{equation}  \n",
    "donde se ha compactado la notación haciendo $x_0=1.$ El esquema del perceptrón es el siguiente:</span>\n",
    "\n",
    "![perceptron](./Practica_AlgoritmosAvanzados_Pablo/perceptron.jpg)"
   ]
  },
  {
   "cell_type": "markdown",
   "metadata": {},
   "source": [
    "<span style=\"color:blue\">Sean inicialmente los valores elegidos aleatoriamente:  \n",
    "    $w_0=1.5$  \n",
    "    $w_1=0.5$  \n",
    "    $w_2=1.5$  </span>\n",
    "    \n",
    "<span style=\"color:blue\">La tabla descriptiva del proceso al inicio es:\\begin{array}{c|ccc|ccc|c|c|c}\n",
    "t & x_1 & x_2 & y & w_0 & w_1 & w_2 & a & f & \\epsilon\\\\\n",
    "\\hline\n",
    "1 & & & & 1.5 & 0.5 & 1.5 & & & \\end{array}  \n",
    "Se van tomando uno a uno los cuatro patrones de entrada. Empiezo por el primero, $x_1(t=1)=0,$ $x_2(1)=0,$ $y(1)=0$ y $x_0=1.$ Actualizo la tabla: \\begin{array}{c|ccc|ccc|c|c|c}\n",
    "t & x_1 & x_2 & y & w_0 & w_1 & w_2 & a & f & \\epsilon\\\\\n",
    "\\hline\n",
    "1 & 0 & 0 & 0 & 1.5 & 0.5 & 1.5 & & & \\end{array}  \n",
    "La combinación lineal que llega a la neurona de salida es:  \n",
    "\\begin{equation}a(1) =\\sum_{b=0}^2 w_b(1)x_b(1)= w_0(1)x_0+w_1(1)x_1(1)+w_2(1)x_2(1)=1'5\\cdot 1+0'5\\cdot 0+1'5\\cdot 0= 1'5.\\end{equation} Esta suma de productos no es más que un producto escalar, que, usando la notación vectorial/matricial, se puede escribir:  \n",
    "\\begin{equation}a(1)=\\mathbf{w(1)\\cdot x(1)} = (1.5, 0.5, 1.5)\\left(\\begin{array}{c}1\\\\ 0\\\\ 0 \\end{array}\\right)=1'5.\\end{equation}  \n",
    "La salida de la red, después de aplicar la función escalón, es:  \n",
    "$f(t=1)=1,$  </span>\n",
    "\n",
    "<span style=\"color:blue\">puesto que el argumento (1'5) es mayor que cero. Entonces, el error cometido en este primer paso es:  \n",
    "$\\epsilon(1)=y(1)-f(1)= 0-1=-1.$  </span>\n",
    "\n",
    "<span style=\"color:blue\">Lo incorporo a la tabla, que después de completar el primer paso queda así:  \n",
    "\\begin{array}{c|ccc|ccc|c|c|c}\n",
    "t & x_1 & x_2 & y & w_0 & w_1 & w_2 & a & f & \\epsilon\\\\\n",
    "\\hline\n",
    "1 & 0 & 0 & 0 & 1.5 & 0.5 & 1.5 & 1.5 & 1 & -1 \\end{array}  \n",
    "En el ejemplo de la operación OR se considera como factor de aprendizaje $\\alpha=1.$ Ahora se modifican los pesos según la expresión del algoritmo escrita más arriba, que con notación vectorial queda:  \n",
    "\\begin{equation}\\mathbf{w(2)}=\\mathbf{w(1)}+\\alpha\\epsilon(1)\\mathbf{x(1)}=\\left(\\begin{array}{c}1.5\\\\ 0.5\\\\ 1.5 \\end{array}\\right)+1\\cdot(-1)\\cdot\\left(\\begin{array}{c}1\\\\ 0\\\\ 0 \\end{array}\\right)=\\left(\\begin{array}{c}0.5\\\\ 0.5\\\\ 1.5 \\end{array}\\right).\\end{equation}  \n",
    "Entonces:  \n",
    "\\begin{array}{c|ccc|ccc|c|c|c}\n",
    "t & x_1 & x_2 & y & w_0 & w_1 & w_2 & a & f & \\epsilon\\\\\n",
    "\\hline\n",
    "1 & 0 & 0 & 0 & 1.5 & 0.5 & 1.5 & 1.5 & 1 & -1\\\\\n",
    "2 & & & & 0.5 & 0.5 & 1.5 & & &\\end{array}  \n",
    "Comienzo ahora el segundo paso. El segundo patrón de entrada es $x_1(2)=0,$ $x_2(2)=1,$ $y(2)=1$ y $x_0=1:$  \n",
    "\\begin{array}{c|ccc|ccc|c|c|c}\n",
    "t & x_1 & x_2 & y & w_0 & w_1 & w_2 & a & f & \\epsilon\\\\\n",
    "\\hline\n",
    "1 & 0 & 0 & 0 & 1.5 & 0.5 & 1.5 & 1.5 & 1 & -1\\\\\n",
    "2 & 0 & 1 & 1 & 0.5 & 0.5 & 1.5 & & &\\end{array}  \n",
    "La combinación lineal que llega a la neurona de salida, la salida de la red después de aplicar la función escalón y el error cometido en este segundo paso son, respectivamente:  \n",
    "$a(2)  = \\mathbf{w(2)\\cdot x(2)} = (0.5, 0.5, 1.5)\\left(\\begin{array}{c}1\\\\ 0\\\\ 1 \\end{array}\\right)=2,\\\\\n",
    "f(2)  =  1,\\\\\n",
    "\\epsilon(2)  = y(2)-f(2)= 0.$  \n",
    "\n",
    "<span style=\"color:blue\">Por tanto,   \n",
    "\\begin{array}{c|ccc|ccc|c|c|c}\n",
    "t & x_1 & x_2 & y & w_0 & w_1 & w_2 & a & f & \\epsilon\\\\\n",
    "\\hline\n",
    "1 & 0 & 0 & 0 & 1.5 & 0.5 & 1.5 & 1.5 & 1 & -1\\\\\n",
    "2 & 0 & 1 & 1 & 0.5 & 0.5 & 1.5 & 2 & 1 & 0\\end{array}\n",
    "</span>\n",
    "\n",
    "<span style=\"color:blue\">\n",
    "Vuelvo a modificar los pesos. Como el error del segundo paso es cero, los pesos del tercer paso son iguales a los del segundo:  \n",
    "$\\mathbf{w(3)}=\\mathbf{w(2)}+\\alpha\\epsilon(2)\\mathbf{x(2)}=\\left(\\begin{array}{c}0.5\\\\ 0.5\\\\ 1.5 \\end{array}\\right)+1\\cdot 0\\cdot\\left(\\begin{array}{c}1\\\\ 0\\\\ 1 \\end{array}\\right)=\\left(\\begin{array}{c}0.5\\\\ 0.5\\\\ 1.5 \\end{array}\\right).$ Entonces:  \n",
    "\\begin{array}{c|ccc|ccc|c|c|c}\n",
    "t & x_1 & x_2 & y & w_0 & w_1 & w_2 & a & f & \\epsilon\\\\\n",
    "\\hline\n",
    "1 & 0 & 0 & 0 & 1.5 & 0.5 & 1.5 & 1.5 & 1 & -1\\\\\n",
    "2 & 0 & 1 & 1 & 0.5 & 0.5 & 1.5 & 2 & 1 & 0\\\\\n",
    "3 & & & & 0.5 & 0.5 & 1.5 & & &\\end{array}\n",
    "</span>\n",
    "\n",
    "<span style=\"color:blue\">\n",
    "El tercer patrón es $x_1(3)=1,$ $x_2(3)=0,$ $y(3)=1$ y $x_0=1:$  \n",
    "\\begin{array}{c|ccc|ccc|c|c|c}\n",
    "t & x_1 & x_2 & y & w_0 & w_1 & w_2 & a & f & \\epsilon\\\\\n",
    "\\hline\n",
    "1 & 0 & 0 & 0 & 1.5 & 0.5 & 1.5 & 1.5 & 1 & -1\\\\\n",
    "2 & 0 & 1 & 1 & 0.5 & 0.5 & 1.5 & 2 & 1 & 0\\\\\n",
    "3 & 1 & 0 & 1 & 0.5 & 0.5 & 1.5 & & &\\end{array}  \n",
    "Vuelvo a calcular:  \n",
    "$a(3)  = \\mathbf{w(3)\\cdot x(3)} = (0.5, 0.5, 1.5)\\left(\\begin{array}{c}1\\\\ 1\\\\ 0 \\end{array}\\right)=1,\\\\\n",
    "f(3)  =  1,\\\\\n",
    "\\epsilon(3)  = y(3)-f(3)= 0.$\n",
    "  </span>\n",
    "  \n",
    "<span style=\"color:blue\">Por tanto,   \n",
    "\\begin{array}{c|ccc|ccc|c|c|c}\n",
    "t & x_1 & x_2 & y & w_0 & w_1 & w_2 & a & f & \\epsilon\\\\\n",
    "\\hline\n",
    "1 & 0 & 0 & 0 & 1.5 & 0.5 & 1.5 & 1.5 & 1 & -1\\\\\n",
    "2 & 0 & 1 & 1 & 0.5 & 0.5 & 1.5 & 2 & 1 & 0\\\\\n",
    "3 & 1 & 0 & 1 & 0.5 & 0.5 & 1.5 & 1 & 1 & 0\\end{array}\n",
    "</span>\n",
    "\n",
    "<span style=\"color:blue\">\n",
    "Como el error del tercer paso también es cero, los pesos del cuarto paso son iguales a los del tercero:  \n",
    "$\\mathbf{w(4)}=\\mathbf{w(3)}=\\left(\\begin{array}{c}0.5\\\\ 0.5\\\\ 1.5 \\end{array}\\right).$ Entonces:  \n",
    "\\begin{array}{c|ccc|ccc|c|c|c}\n",
    "t & x_1 & x_2 & y & w_0 & w_1 & w_2 & a & f & \\epsilon\\\\\n",
    "\\hline\n",
    "1 & 0 & 0 & 0 & 1.5 & 0.5 & 1.5 & 1.5 & 1 & -1\\\\\n",
    "2 & 0 & 1 & 1 & 0.5 & 0.5 & 1.5 & 2 & 1 & 0\\\\\n",
    "3 & 1 & 0 & 1 & 0.5 & 0.5 & 1.5 & 1 & 1 & 0\\\\\n",
    "4 & & & & 0.5 & 0.5 & 1.5 & & &\\end{array}  \n",
    "Introduzco el cuarto patrón en la red: $x_1(4)=1,$ $x_2(4)=1,$ $y(4)=1$ y $x_0=1:$\n",
    "\\begin{array}{c|ccc|ccc|c|c|c}\n",
    "t & x_1 & x_2 & y & w_0 & w_1 & w_2 & a & f & \\epsilon\\\\\n",
    "\\hline\n",
    "1 & 0 & 0 & 0 & 1.5 & 0.5 & 1.5 & 1.5 & 1 & -1\\\\\n",
    "2 & 0 & 1 & 1 & 0.5 & 0.5 & 1.5 & 2 & 1 & 0\\\\\n",
    "3 & 1 & 0 & 1 & 0.5 & 0.5 & 1.5 & 1 & 1 & 0\\\\\n",
    "4 & 1 & 1 & 1 & 0.5 & 0.5 & 1.5 & & &\\end{array}\n",
    "Se procede igual:  \n",
    "$a(4)  = \\mathbf{w(4)\\cdot x(4)} = (0.5, 0.5, 1.5)\\left(\\begin{array}{c}1\\\\ 1\\\\ 1 \\end{array}\\right)=2.5,\\\\\n",
    "f(4)  =  1,\\\\\n",
    "\\epsilon(4)  = y(4)-f(4)= 0.$  \n",
    "</span>\n",
    "\n",
    "<span style=\"color:blue\">\n",
    "Entonces,  \n",
    "\\begin{array}{c|ccc|ccc|c|c|c}\n",
    "t & x_1 & x_2 & y & w_0 & w_1 & w_2 & a & f & \\epsilon\\\\\n",
    "\\hline\n",
    "1 & 0 & 0 & 0 & 1.5 & 0.5 & 1.5 & 1.5 & 1 & -1\\\\\n",
    "2 & 0 & 1 & 1 & 0.5 & 0.5 & 1.5 & 2 & 1 & 0\\\\\n",
    "3 & 1 & 0 & 1 & 0.5 & 0.5 & 1.5 & 1 & 1 & 0\\\\\n",
    "4 & 1 & 1 & 1 & 0.5 & 0.5 & 1.5 & 2.5 & 1 & 0\\end{array}  \n",
    "Ya se ha iterado el procedimiento con todos los patrones de entrada. Existe uno, 00, para el que el error cometido no es cero. Por consiguiente, se aplica de nuevo el algoritmo con todos los patrones de entrada.\n",
    "</span>\n",
    "\n",
    "<span style=\"color:blue\">\n",
    "Como el error del 4º paso también es cero, los pesos del 5º paso son iguales a los del 4º:  \n",
    "$\\mathbf{w(5)}=\\mathbf{w(4)}=\\left(\\begin{array}{c}0.5\\\\ 0.5\\\\ 1.5 \\end{array}\\right).$   \n",
    "\\begin{array}{c|ccc|ccc|c|c|c}\n",
    "t & x_1 & x_2 & y & w_0 & w_1 & w_2 & a & f & \\epsilon\\\\\n",
    "\\hline\n",
    "1 & 0 & 0 & 0 & 1.5 & 0.5 & 1.5 & 1.5 & 1 & -1\\\\\n",
    "2 & 0 & 1 & 1 & 0.5 & 0.5 & 1.5 & 2 & 1 & 0\\\\\n",
    "3 & 1 & 0 & 1 & 0.5 & 0.5 & 1.5 & 1 & 1 & 0\\\\\n",
    "4 & 1 & 1 & 1 & 0.5 & 0.5 & 1.5 & 2.5 & 1 & 0\\\\ \n",
    "\\hline\n",
    "5 & & & & 0.5 & 0.5 & 1.5 & & &\\end{array}  \n",
    "Introduzco otra vez el primer patrón en la red: $x_1(5)=0,$ $x_2(5)=0,$ $y(5)=0$ y $x_0=1:$\n",
    "\\begin{array}{c|ccc|ccc|c|c|c}\n",
    "t & x_1 & x_2 & y & w_0 & w_1 & w_2 & a & f & \\epsilon\\\\\n",
    "\\hline\n",
    "1 & 0 & 0 & 0 & 1.5 & 0.5 & 1.5 & 1.5 & 1 & -1\\\\\n",
    "2 & 0 & 1 & 1 & 0.5 & 0.5 & 1.5 & 2 & 1 & 0\\\\\n",
    "3 & 1 & 0 & 1 & 0.5 & 0.5 & 1.5 & 1 & 1 & 0\\\\\n",
    "4 & 1 & 1 & 1 & 0.5 & 0.5 & 1.5 & 2.5 & 1 & 0\\\\\n",
    "\\hline\n",
    "5 & 0 & 0 & 0 & 0.5 & 0.5 & 1.5 & & &\\end{array} \n",
    "Se tiene:  \n",
    "$a(5)  = \\mathbf{w(5)\\cdot x(5)} = (0.5, 0.5, 1.5)\\left(\\begin{array}{c}1\\\\ 0\\\\ 0 \\end{array}\\right)=0.5,\\\\\n",
    "f(5)  =  1,\\\\\n",
    "\\epsilon(5)  = y(5)-f(5)= -1.$  \n",
    "</span>\n",
    "\n",
    "<span style=\"color:blue\">\n",
    "Entonces,  \n",
    "\\begin{array}{c|ccc|ccc|c|c|c}\n",
    "t & x_1 & x_2 & y & w_0 & w_1 & w_2 & a & f & \\epsilon\\\\\n",
    "\\hline\n",
    "1 & 0 & 0 & 0 & 1.5 & 0.5 & 1.5 & 1.5 & 1 & -1\\\\\n",
    "2 & 0 & 1 & 1 & 0.5 & 0.5 & 1.5 & 2 & 1 & 0\\\\\n",
    "3 & 1 & 0 & 1 & 0.5 & 0.5 & 1.5 & 1 & 1 & 0\\\\\n",
    "4 & 1 & 1 & 1 & 0.5 & 0.5 & 1.5 & 2.5 & 1 & 0\\\\\n",
    "\\hline\n",
    "5 & 0 & 0 & 0 & 0.5 & 0.5 & 1.5 & 0.5 & 1 & -1\\end{array}   \n",
    "Actualizo los pesos:  \n",
    "$\\mathbf{w(6)}=\\mathbf{w(5)}+\\alpha\\epsilon(5)\\mathbf{x(5)}=\\left(\\begin{array}{c}0.5\\\\ 0.5\\\\ 1.5 \\end{array}\\right)+1\\cdot(-1)\\cdot\\left(\\begin{array}{c}1\\\\ 0\\\\ 0 \\end{array}\\right)=\\left(\\begin{array}{c}-0.5\\\\ 0.5\\\\ 1.5 \\end{array}\\right):$  \n",
    "\\begin{array}{c|ccc|ccc|c|c|c}\n",
    "t & x_1 & x_2 & y & w_0 & w_1 & w_2 & a & f & \\epsilon\\\\\n",
    "\\hline\n",
    "1 & 0 & 0 & 0 & 1.5 & 0.5 & 1.5 & 1.5 & 1 & -1\\\\\n",
    "2 & 0 & 1 & 1 & 0.5 & 0.5 & 1.5 & 2 & 1 & 0\\\\\n",
    "3 & 1 & 0 & 1 & 0.5 & 0.5 & 1.5 & 1 & 1 & 0\\\\\n",
    "4 & 1 & 1 & 1 & 0.5 & 0.5 & 1.5 & 2.5 & 1 & 0\\\\\n",
    "\\hline\n",
    "5 & 0 & 0 & 0 & 0.5 & 0.5 & 1.5 & 0.5 & 1 & -1\\\\\n",
    "6 & & & & -0.5 & 0.5 & 1.5 & & &\\end{array}  \n",
    "El siguiente patrón es: $x_1(6)=0,$ $x_2(6)=1,$ $y(6)=1$ y $x_0=1:$\n",
    "\\begin{array}{c|ccc|ccc|c|c|c}\n",
    "t & x_1 & x_2 & y & w_0 & w_1 & w_2 & a & f & \\epsilon\\\\\n",
    "\\hline\n",
    "1 & 0 & 0 & 0 & 1.5 & 0.5 & 1.5 & 1.5 & 1 & -1\\\\\n",
    "2 & 0 & 1 & 1 & 0.5 & 0.5 & 1.5 & 2 & 1 & 0\\\\\n",
    "3 & 1 & 0 & 1 & 0.5 & 0.5 & 1.5 & 1 & 1 & 0\\\\\n",
    "4 & 1 & 1 & 1 & 0.5 & 0.5 & 1.5 & 2.5 & 1 & 0\\\\\n",
    "\\hline\n",
    "5 & 0 & 0 & 0 & 0.5 & 0.5 & 1.5 & 0.5 & 1 & -1\\\\\n",
    "6 & 0 & 1 & 1 & -0.5 & 0.5 & 1.5 & & &\\end{array}  \n",
    "Se puede comprobar que el error para este patrón y los dos siguientes es cero y, por tanto, los pesos no se ven modificados. Procediendo como hasta ahora, al final de la segunda vuelta la tabla queda:  \n",
    "\\begin{array}{c|ccc|ccc|c|c|c}\n",
    "t & x_1 & x_2 & y & w_0 & w_1 & w_2 & a & f & \\epsilon\\\\\n",
    "\\hline\n",
    "1 & 0 & 0 & 0 & 1.5 & 0.5 & 1.5 & 1.5 & 1 & -1\\\\\n",
    "2 & 0 & 1 & 1 & 0.5 & 0.5 & 1.5 & 2 & 1 & 0\\\\\n",
    "3 & 1 & 0 & 1 & 0.5 & 0.5 & 1.5 & 1 & 1 & 0\\\\\n",
    "4 & 1 & 1 & 1 & 0.5 & 0.5 & 1.5 & 2.5 & 1 & 0\\\\\n",
    "\\hline\n",
    "5 & 0 & 0 & 0 & 0.5 & 0.5 & 1.5 & 0.5 & 1 & -1\\\\\n",
    "6 & 0 & 1 & 1 & -0.5 & 0.5 & 1.5 & 1 & 1 & 0\\\\\n",
    "7 & 1 & 0 & 1 & -0.5 & 0.5 & 1.5 & 0 & 1 & 0\\\\\n",
    "8 & 1 & 1 & 1 & -0.5 & 0.5 & 1.5 & 1.5 & 1 & 0\n",
    "\\end{array}.  \n",
    "De nuevo, el error cometido para el patrón 00 no es cero. Por consiguiente, se hace una tercera vuelta con todos los patrones de entrada. Al final de ella, la tabla queda:  \n",
    "\\begin{array}{c|ccc|ccc|c|c|c}\n",
    "t & x_1 & x_2 & y & w_0 & w_1 & w_2 & a & f & \\epsilon\\\\\n",
    "\\hline\n",
    "1 & 0 & 0 & 0 & 1.5 & 0.5 & 1.5 & 1.5 & 1 & -1\\\\\n",
    "2 & 0 & 1 & 1 & 0.5 & 0.5 & 1.5 & 2 & 1 & 0\\\\\n",
    "3 & 1 & 0 & 1 & 0.5 & 0.5 & 1.5 & 1 & 1 & 0\\\\\n",
    "4 & 1 & 1 & 1 & 0.5 & 0.5 & 1.5 & 2.5 & 1 & 0\\\\\n",
    "\\hline\n",
    "5 & 0 & 0 & 0 & 0.5 & 0.5 & 1.5 & 0.5 & 1 & -1\\\\\n",
    "6 & 0 & 1 & 1 & -0.5 & 0.5 & 1.5 & 1 & 1 & 0\\\\\n",
    "7 & 1 & 0 & 1 & -0.5 & 0.5 & 1.5 & 0 & 1 & 0\\\\\n",
    "8 & 1 & 1 & 1 & -0.5 & 0.5 & 1.5 & 1.5 & 1 &0\\\\\n",
    "\\hline\n",
    "9 & 0 & 0 & 0 & -0.5 & 0.5 & 1.5 & -0.5 & 0 & 0\\\\\n",
    "10 & 0 & 1 & 1 & -0.5 & 0.5 & 1.5 & 1 & 1 & 0\\\\\n",
    "11 & 1 & 0 & 1 & -0.5 & 0.5 & 1.5 & 0 & 1 & 0\\\\\n",
    "12 & 1 & 1 & 1 & -0.5 & 0.5 & 1.5 & 1.5 & 1 & 0\n",
    "\\end{array}.  \n",
    "Como ya no se comete ningún error, la etapa de aprendizaje concluye. Los pesos finales son los que aparecen en la última fila.\n",
    "\n",
    "</span>"
   ]
  },
  {
   "cell_type": "markdown",
   "metadata": {},
   "source": [
    "<span style=\"color:blue\">Una vez vista la teoría con ejemplo incluido, voy a montar un perceptrón con keras. Le paso los mismos pesos iniciales que en el ejemplo, genero una instancia del optimizador Stochastic Gradient Descent (SGD) con tasa de aprendizaje lr = 1 como en el ejemplo y emulo la función de activación escalón con una función sigmoide.  </span>"
   ]
  },
  {
   "cell_type": "code",
   "execution_count": 440,
   "metadata": {
    "collapsed": true
   },
   "outputs": [],
   "source": [
    "import numpy as np\n",
    "\n",
    "from keras.models import Sequential\n",
    "from keras.layers.core import Dense\n",
    "from keras.layers.core import Activation\n",
    "from keras.layers.core import Dropout\n",
    "from keras.layers.convolutional import Convolution2D, MaxPooling2D\n",
    "from keras.layers.core import Flatten\n",
    "from keras.optimizers import SGD, RMSprop, Adam"
   ]
  },
  {
   "cell_type": "code",
   "execution_count": 598,
   "metadata": {
    "collapsed": false
   },
   "outputs": [
    {
     "name": "stdout",
     "output_type": "stream",
     "text": [
      "____________________________________________________________________________________________________\n",
      "Layer (type)                     Output Shape          Param #     Connected to                     \n",
      "====================================================================================================\n",
      "dense_153 (Dense)                (None, 1)             3           dense_input_138[0][0]            \n",
      "____________________________________________________________________________________________________\n",
      "activation_149 (Activation)      (None, 1)             0           dense_153[0][0]                  \n",
      "====================================================================================================\n",
      "Total params: 3\n",
      "Trainable params: 3\n",
      "Non-trainable params: 0\n",
      "____________________________________________________________________________________________________\n"
     ]
    }
   ],
   "source": [
    "uves = np.array([[0.5],\n",
    "        [1.5]]).reshape(2,1)\n",
    "bias=np.array([1.5]).reshape(1,)\n",
    "pesos=[uves,bias]\n",
    "\n",
    "perceptron=Sequential()\n",
    "perceptron.add(Dense(1, input_shape=(2,), weights = pesos))\n",
    "perceptron.add(Activation('sigmoid'))\n",
    "\n",
    "perceptron.summary()\n",
    "\n",
    "#rms=RMSprop(lr=1)\n",
    "sgd=SGD(lr=1)\n",
    "#adam=Adam(lr=1)\n",
    "perceptron.compile(loss='binary_crossentropy',\n",
    "               optimizer=sgd,\n",
    "                  metrics=[\"accuracy\"])"
   ]
  },
  {
   "cell_type": "code",
   "execution_count": 302,
   "metadata": {
    "collapsed": false
   },
   "outputs": [
    {
     "data": {
      "text/plain": [
       "array([[0, 0],\n",
       "       [0, 1],\n",
       "       [1, 0],\n",
       "       [1, 1]])"
      ]
     },
     "execution_count": 302,
     "metadata": {},
     "output_type": "execute_result"
    }
   ],
   "source": [
    "xx=np.array([[0,0],[0,1],[1,0],[1,1]]).reshape((4,2))\n",
    "xx"
   ]
  },
  {
   "cell_type": "code",
   "execution_count": 360,
   "metadata": {
    "collapsed": true
   },
   "outputs": [],
   "source": [
    "yy=[0,1,1,1]"
   ]
  },
  {
   "cell_type": "code",
   "execution_count": 599,
   "metadata": {
    "collapsed": false
   },
   "outputs": [
    {
     "name": "stdout",
     "output_type": "stream",
     "text": [
      "Epoch 1/30\n",
      "4s - loss: 0.4767 - acc: 0.7500\n",
      "Epoch 2/30\n",
      "0s - loss: 0.4516 - acc: 0.7500\n",
      "Epoch 3/30\n",
      "0s - loss: 0.4295 - acc: 0.7500\n",
      "Epoch 4/30\n",
      "0s - loss: 0.4100 - acc: 0.7500\n",
      "Epoch 5/30\n",
      "0s - loss: 0.3929 - acc: 0.7500\n",
      "Epoch 6/30\n",
      "0s - loss: 0.3777 - acc: 0.7500\n",
      "Epoch 7/30\n",
      "0s - loss: 0.3640 - acc: 0.7500\n",
      "Epoch 8/30\n",
      "0s - loss: 0.3517 - acc: 0.7500\n",
      "Epoch 9/30\n",
      "0s - loss: 0.3405 - acc: 0.7500\n",
      "Epoch 10/30\n",
      "0s - loss: 0.3302 - acc: 0.7500\n",
      "Epoch 11/30\n",
      "0s - loss: 0.3206 - acc: 0.7500\n",
      "Epoch 12/30\n",
      "0s - loss: 0.3117 - acc: 0.7500\n",
      "Epoch 13/30\n",
      "0s - loss: 0.3033 - acc: 0.7500\n",
      "Epoch 14/30\n",
      "0s - loss: 0.2955 - acc: 0.7500\n",
      "Epoch 15/30\n",
      "0s - loss: 0.2880 - acc: 0.7500\n",
      "Epoch 16/30\n",
      "0s - loss: 0.2809 - acc: 0.7500\n",
      "Epoch 17/30\n",
      "0s - loss: 0.2742 - acc: 0.7500\n",
      "Epoch 18/30\n",
      "0s - loss: 0.2677 - acc: 0.7500\n",
      "Epoch 19/30\n",
      "0s - loss: 0.2616 - acc: 1.0000\n",
      "Epoch 20/30\n",
      "0s - loss: 0.2557 - acc: 1.0000\n",
      "Epoch 21/30\n",
      "0s - loss: 0.2501 - acc: 1.0000\n",
      "Epoch 22/30\n",
      "0s - loss: 0.2447 - acc: 1.0000\n",
      "Epoch 23/30\n",
      "0s - loss: 0.2395 - acc: 1.0000\n",
      "Epoch 24/30\n",
      "0s - loss: 0.2346 - acc: 1.0000\n",
      "Epoch 25/30\n",
      "0s - loss: 0.2298 - acc: 1.0000\n",
      "Epoch 26/30\n",
      "0s - loss: 0.2252 - acc: 1.0000\n",
      "Epoch 27/30\n",
      "0s - loss: 0.2208 - acc: 1.0000\n",
      "Epoch 28/30\n",
      "0s - loss: 0.2165 - acc: 1.0000\n",
      "Epoch 29/30\n",
      "0s - loss: 0.2124 - acc: 1.0000\n",
      "Epoch 30/30\n",
      "0s - loss: 0.2085 - acc: 1.0000\n"
     ]
    },
    {
     "data": {
      "text/plain": [
       "<keras.callbacks.History at 0x55492f60>"
      ]
     },
     "execution_count": 599,
     "metadata": {},
     "output_type": "execute_result"
    }
   ],
   "source": [
    "perceptron.fit(\n",
    "    xx, # Training data\n",
    "    yy, # Labels of training data\n",
    "    #batch_size=128, # Batch size for the optimizer algorithm\n",
    "    nb_epoch=30, # Number of epochs to run the optimizer algorithm\n",
    "    verbose=2 # Level of verbosity of the log messages\n",
    ")"
   ]
  },
  {
   "cell_type": "code",
   "execution_count": 588,
   "metadata": {
    "collapsed": false
   },
   "outputs": [
    {
     "name": "stdout",
     "output_type": "stream",
     "text": [
      "4/4 [==============================] - 3s\n"
     ]
    },
    {
     "data": {
      "text/plain": [
       "1.0"
      ]
     },
     "execution_count": 588,
     "metadata": {},
     "output_type": "execute_result"
    }
   ],
   "source": [
    "accuracy_per = perceptron.evaluate(xx, yy)\n",
    "accuracy_per[0]\n",
    "accuracy_per[1]"
   ]
  },
  {
   "cell_type": "code",
   "execution_count": 600,
   "metadata": {
    "collapsed": false
   },
   "outputs": [
    {
     "data": {
      "text/plain": [
       "[array([[ 2.06366944],\n",
       "        [ 2.4770968 ]], dtype=float32), array([-0.41536373], dtype=float32)]"
      ]
     },
     "execution_count": 600,
     "metadata": {},
     "output_type": "execute_result"
    }
   ],
   "source": [
    "perceptron.layers[0].get_weights()"
   ]
  },
  {
   "cell_type": "markdown",
   "metadata": {},
   "source": [
    "<span style=\"color:blue\">Después de varias rondas el modelo es capaz de predecir al 100% la función OR. Los pesos recuperados al final no son exactamente los mismos que los obtenidos en el ejemplo de arriba porque, entre otras cosas, la función de activación no es la misma.  \n",
    "Existen otros algoritmos más evolucionados que el expuesto aquí. Este presenta algunas limitaciones como el no considerar la magnitud del error global cometido durante el proceso completo de aprendizaje de la red, sino considerando únicamente los errores individuales (locales) correspondientes al aprendizaje de cada patrón de muestra por separado. Un algoritmo muy conocido que mejora el del perceptrón es la regla delta o regla del mínimo error cuadrático medio (Widrow-Hoff, 1960), que se aplicó en las redes desarrolladas por los mismos autores, conocidas como ADALINE (ADAptative LINear Element), con una única neurona de salida y MADALINE (Multiple ADALINE), con varias neuronas de salida.</span>"
   ]
  },
  {
   "cell_type": "markdown",
   "metadata": {},
   "source": [
    "## <span style=\"color:blue\">ADALINE</span>\n",
    "\n",
    "<span style=\"color:blue\">Widrow y Hoff definieron una función que permitía cuantificar el error global cometido en cualquier momento durante el proceso de entrenamiento de la red, lo cual es importante, puesto que cuanta más información se tenga sobre el error cometido, más rápido se puede aprender. Este error medio se expresa de esta forma:  \n",
    "\\begin{equation}E=\\frac{1}{N}\\sum_{i=1}^N\\frac{1}{2}\\left[y_i-f(\\mathbf{x_i;w})\\right]^2=\\frac{1}{N}\\sum_{i=1}^N\\frac{1}{2}\\left(y_i-\\sum_{a=0}^m w_a x_{ia}\\right)^2.\\end{equation}  \n",
    "Donde $N$ es el número de informaciones que debe aprender la red, $m$ es el número de neuronas de entrada, $w_a$ son los pesos que hay que hallar ($w_0$ es el bias, al que corresponde $x_{i0}=1$), $x_{ia}$ es la componente a-ésima del patrón i-ésimo que entra a la neurona de entrada $a$ (los subíndices del principio del abecedario se refieren a las neuronas, mientras que los de enmedio del abecedario se refieren a los patrones de muestra), $y_i$ es la salida deseada del patrón i-ésimo (el valor i-ésimo de la variable objetivo), y $f(\\mathbf{x_i;w})$ es la salida obtenida a partir del patrón de entrenamiento i-ésimo. Entonces, la cantidad $1/2 [y_i-f(\\mathbf{x_i;w})]^2$ es el error cometido en el aprendizaje de la información (muestra) i-ésima. Se trata, por tanto, de encontrar unos pesos que minimicen esta función de error.  \n",
    "La estructura de las redes ADALINE y MADALINE es casi idéntica a la del perceptrón elemental. La diferencia fundamental se refiere al mecanismo de aprendizaje. ADALINE emplea la regla Delta, buscando el mínimo de la anterior expresión del error entre la salida deseada y la salida lineal obtenida antes de aplicarle la función de activación, mientras que el perceptrón arroja una salida binaria. Debido a esta nueva forma de evaluar el error, estas redes pueden procesar información analógica, tanto de entrada como de salida. En cambio, el perceptrón es un dispositivo digital.  \n",
    "Si la función de activación de la neurona de salida de ADALINE es la identidad, esta red da una salida lineal (combinación lineal de las entradas) y, por tanto, lo que hace la red al ajustar los pesos en el proceso de aprendizaje no es más que una **regresión lineal**. En este caso se puede resolver el problema de optimización del error de forma analítica como se muestra a continuación.  \n",
    "Para minimizar la función de error hay que igualar a cero sus derivadas parciales respecto a los pesos que se quieren hallar, es decir, hay que hacer cero el gradiente de la función de error, $\\mathbf{\\nabla_{w} E}=0.$ Para el caso de solo dos features, es decir, solo dos neuronas de entrada:  \n",
    "\\begin{eqnarray}0&=&\\frac{\\partial E}{\\partial w_0}=\\frac{2}{2N}\\sum_{i=1}^N (y_i-w_0-w_1x_{i1}-w_2x_{i2})\\cdot (-1)\\\\\n",
    "0&=&\\frac{\\partial E}{\\partial w_1}=\\frac{2}{2N}\\sum_{i=1}^N (y_i-w_0-w_1x_{i1}-w_2x_{i2})\\cdot (-x_{i1})\\\\\n",
    "0&=&\\frac{\\partial E}{\\partial w_2}=\\frac{2}{2N}\\sum_{i=1}^N (y_i-w_0-w_1x_{i1}-w_2x_{i2})\\cdot (-x_{i2})\n",
    "\\end{eqnarray}  \n",
    "Reordenando términos se tiene:  \n",
    "\\begin{eqnarray}\n",
    "\\sum_{i=1}^N w_0 + w_1\\sum_{i=1}^N x_{i1}+ w_2\\sum_{i=1}^N x_{i2}&=&\\sum_{i=1}^N y_i\\\\\n",
    "w_0 \\sum_{i=1}^N x_{i1}+ w_1\\sum_{i=1}^N x_{i1}^2+ w_2\\sum_{i=1}^N x_{i1}x_{i2}&=&\\sum_{i=1}^N x_{i1}y_i\\\\\n",
    "w_0 \\sum_{i=1}^N x_{i2}+ w_1\\sum_{i=1}^N x_{i1}x_{i2}+ w_2\\sum_{i=1}^N x_{i2}^2&=&\\sum_{i=1}^N x_{i2}y_i\n",
    "\\end{eqnarray}  \n",
    "Que, en notación matricial, puede escribirse como:  \n",
    "\\begin{equation}\n",
    "\\begin{pmatrix}\n",
    "N & \\sum x_{i1} & \\sum x_{i2}\\\\\n",
    "\\sum x_{i1} & \\sum x_{i1}^2 & \\sum x_{i1}x_{i2}\\\\\n",
    "\\sum x_{i2} & \\sum x_{i1}x_{i2} & \\sum x_{i2}^2\n",
    "\\end{pmatrix}\n",
    "\\begin{pmatrix}\n",
    "w_0 \\\\\n",
    "w_1 \\\\\n",
    "w_2\n",
    "\\end{pmatrix} = \n",
    "\\begin{pmatrix}\n",
    "\\sum y_i \\\\\n",
    "\\sum x_{i1}y_i \\\\\n",
    "\\sum x_{i2}y_i\n",
    "\\end{pmatrix}\n",
    "\\end{equation}  \n",
    "O de manera más compacta aún:  \n",
    "\\begin{pmatrix}\n",
    "N & \\sum x_{i1} & \\sum x_{i2} & | & \\sum y_i \\\\\n",
    "\\sum x_{i1} & \\sum x_{i1}^2 & \\sum x_{i1}x_{i2} & | & \\sum x_{i1}y_i \\\\\n",
    "\\sum x_{i2} & \\sum x_{i1}x_{i2} & \\sum x_{i2}^2 & | & \\sum x_{i2}y_i\n",
    "\\end{pmatrix}  \n",
    "Donde se ha sustituido la matriz de incógnitas (pesos) y el símbolo de igualdad por una línea vertical discontinua. Esta matriz representa un sistema lineal de ecuaciones. Una forma de resolverlo es mediante el sistema de Gauss. Se sustituye la segunda fila (ecuación) por la resta de la segunda fila multiplicada por $N$ y la primera multiplicada por $\\sum x_{i1},$ y la tercera fila por la resta de la tercera fila multiplicada por $N$ y la primera multiplicada por $\\sum x_{i2}.$ Así se consigue ir haciendo cero todos los elementos debajo de la diagonal principal y, por tanto, triangular la matriz. Después solo queda despejar las incógnitas hacia atrás, empezando por $w_2.$ Quedan las siguientes expresiones:  \n",
    "\n",
    "</span>\n",
    "\n",
    "<span style=\"color:blue\">\n",
    "\\begin{eqnarray}\n",
    "w_2 & = & \\frac{\\left[ N \\sum x_{i1}^2 - \\left(\\sum x_{i1}\\right)^2\\right]\\left(N \\sum x_{i2}y_i - \\sum x_{i2}\\sum y_j\\right) - \\left(N \\sum x_{i1}x_{i2} - \\sum x_{i1}\\sum x_{j2}\\right)\\left(N \\sum x_{i1}y_i - \\sum x_{i1}\\sum y_j\\right)}{\\left[ N \\sum x_{i1}^2 - \\left(\\sum x_{i1}\\right)^2\\right]\\left[ N \\sum x_{i2}^2 - \\left(\\sum x_{i2}\\right)^2\\right] - \n",
    "\\left(N \\sum x_{i1}x_{i2} - \\sum x_{i1}\\sum x_{j2}\\right)^2} \\\\\n",
    "\\\\\n",
    "w_1 & = & \\frac{N \\sum x_{i1}y_i - \\sum x_{i1}\\sum y_j - \\left(N \\sum x_{i1}x_{i2} - \\sum x_{i1}\\sum x_{j2}\\right)w_2}{ N \\sum x_{i1}^2 - \\left(\\sum x_{i1}\\right)^2} \\\\\n",
    "\\\\\n",
    "w_0 & = & \\frac{1}{N}\\left(\\sum y_i - w_2\\sum x_{i2} - w_1\\sum x_{i1}\\right) = \\bar{y} - w_1 \\bar{x}_1  - w_2 \\bar{x}_2\n",
    "\\end{eqnarray}  \n",
    "</span>"
   ]
  },
  {
   "cell_type": "markdown",
   "metadata": {},
   "source": [
    "<span style=\"color:blue\">Otra manera de resolver el problema pasa por emplear la notación matricial desde el principio. La función de error global puede escribirse:  \n",
    "</span>\n",
    "\n",
    "<span style=\"color:blue\">\n",
    "\\begin{equation}E=\\frac{1}{2N}\\sum_{i=1}^N\\left(y_i-\\sum_{a=0}^m w_a x_{ia}\\right)^2=\\frac{1}{2N}\\sum_{i=1}^N\\left(y_i-\\sum_{a=0}^m w_a x_{ia}\\right)\\left(y_i-\\sum_{a=0}^m w_a x_{ia}\\right)=\\frac{1}{2N}\\left(Y-X\\cdot W\\right)^T\\left(Y-X\\cdot W\\right).\\end{equation}  \n",
    "Donde $Y$ es la matriz columna (dimensión N x 1) que contiene los $N$ valores de la *target* $y,$ $W$ es la matriz columna de dimensiones (m+1) x 1 que contiene los pesos y $X$ es la matriz de dimensiones N x (m+1) que contiene una columna de N unos y m columnas con los N valores de sendas *features*. En este caso, la matriz $X$ tiene 3 columnas y $W$ es de 3 x 1. Usando la regla de derivación de un producto la condición de minimización queda:  \n",
    "\\begin{equation}0=\\frac{\\partial E}{\\partial W}=\\frac{1}{2N}\\left[\\left(\\frac{\\partial}{\\partial W}Y-\\frac{\\partial}{\\partial W}X\\cdot W\\right)^T\\left(Y-X\\cdot W\\right)+\\left(Y-X\\cdot W\\right)^T\\left(\\frac{\\partial}{\\partial W}Y-\\frac{\\partial}{\\partial W}X\\cdot W\\right)\\right]=-\\frac{1}{2N}\\left[X^T\\left(Y-X\\cdot W\\right)+\\left(Y-X\\cdot W\\right)^T X\\right]=-\\frac{1}{N}X^T\\left(Y-X\\cdot W\\right)=\\frac{1}{N}(-X^T Y+X^T XW).\\end{equation}  \n",
    "En el penúltimo paso se ha utilizado la propiedad de la transposición de un producto de matrices, $(AB)^T=B^T A^T.$ Despejando la matriz de pesos se obtiene:  \n",
    "\\begin{equation}W=(X^TX)^{-1}X^TY\\end{equation}  \n",
    "Voy a generar un conjunto de datos de ejemplo para aplicar las expresiones anteriores. Para ello voy a usar la función $f(x_1,x_2)=2x_1+3x_2-4.$  \n",
    "**Advertencia.** Para generar conjuntos de datos sintéticos es habitual usar valores enteros para las *features* que están en progresión aritmética. Puede demostrarse que si se hace esto, el denominador de la expresión de $w_2$ se anula, independientemente de cuáles sean las diferencias de ambas progresiones aritméticas.</span>"
   ]
  },
  {
   "cell_type": "code",
   "execution_count": 441,
   "metadata": {
    "collapsed": false
   },
   "outputs": [
    {
     "name": "stdout",
     "output_type": "stream",
     "text": [
      "<class 'numpy.ndarray'>\n",
      "<class 'numpy.ndarray'>\n",
      "<class 'numpy.ndarray'>\n",
      "<class 'numpy.ndarray'>\n",
      "(50, 1)\n",
      "(50, 1)\n",
      "(50, 3)\n",
      "(50, 1)\n",
      "[[ 1]\n",
      " [ 2]\n",
      " [ 3]\n",
      " [ 4]\n",
      " [ 5]\n",
      " [ 6]\n",
      " [ 7]\n",
      " [ 8]\n",
      " [ 9]\n",
      " [10]\n",
      " [11]\n",
      " [12]\n",
      " [13]\n",
      " [14]\n",
      " [15]\n",
      " [16]\n",
      " [17]\n",
      " [18]\n",
      " [19]\n",
      " [20]\n",
      " [21]\n",
      " [22]\n",
      " [23]\n",
      " [24]\n",
      " [25]\n",
      " [26]\n",
      " [27]\n",
      " [28]\n",
      " [29]\n",
      " [30]\n",
      " [31]\n",
      " [32]\n",
      " [33]\n",
      " [34]\n",
      " [35]\n",
      " [36]\n",
      " [37]\n",
      " [38]\n",
      " [39]\n",
      " [40]\n",
      " [41]\n",
      " [42]\n",
      " [43]\n",
      " [44]\n",
      " [45]\n",
      " [46]\n",
      " [47]\n",
      " [48]\n",
      " [49]\n",
      " [50]]\n",
      "[[ -4]\n",
      " [ -2]\n",
      " [  0]\n",
      " [  2]\n",
      " [  4]\n",
      " [  6]\n",
      " [  8]\n",
      " [ 10]\n",
      " [ 12]\n",
      " [ 14]\n",
      " [ 16]\n",
      " [ 18]\n",
      " [ 20]\n",
      " [ 22]\n",
      " [ 24]\n",
      " [ 26]\n",
      " [ 28]\n",
      " [ 30]\n",
      " [ 32]\n",
      " [ 34]\n",
      " [ 36]\n",
      " [ 38]\n",
      " [ 40]\n",
      " [ 42]\n",
      " [ 44]\n",
      " [200]\n",
      " [201]\n",
      " [202]\n",
      " [203]\n",
      " [204]\n",
      " [205]\n",
      " [206]\n",
      " [207]\n",
      " [208]\n",
      " [209]\n",
      " [210]\n",
      " [211]\n",
      " [212]\n",
      " [213]\n",
      " [214]\n",
      " [215]\n",
      " [216]\n",
      " [217]\n",
      " [218]\n",
      " [219]\n",
      " [220]\n",
      " [221]\n",
      " [222]\n",
      " [223]\n",
      " [224]]\n",
      "[[   1.    1.   -4.]\n",
      " [   1.    2.   -2.]\n",
      " [   1.    3.    0.]\n",
      " [   1.    4.    2.]\n",
      " [   1.    5.    4.]\n",
      " [   1.    6.    6.]\n",
      " [   1.    7.    8.]\n",
      " [   1.    8.   10.]\n",
      " [   1.    9.   12.]\n",
      " [   1.   10.   14.]\n",
      " [   1.   11.   16.]\n",
      " [   1.   12.   18.]\n",
      " [   1.   13.   20.]\n",
      " [   1.   14.   22.]\n",
      " [   1.   15.   24.]\n",
      " [   1.   16.   26.]\n",
      " [   1.   17.   28.]\n",
      " [   1.   18.   30.]\n",
      " [   1.   19.   32.]\n",
      " [   1.   20.   34.]\n",
      " [   1.   21.   36.]\n",
      " [   1.   22.   38.]\n",
      " [   1.   23.   40.]\n",
      " [   1.   24.   42.]\n",
      " [   1.   25.   44.]\n",
      " [   1.   26.  200.]\n",
      " [   1.   27.  201.]\n",
      " [   1.   28.  202.]\n",
      " [   1.   29.  203.]\n",
      " [   1.   30.  204.]\n",
      " [   1.   31.  205.]\n",
      " [   1.   32.  206.]\n",
      " [   1.   33.  207.]\n",
      " [   1.   34.  208.]\n",
      " [   1.   35.  209.]\n",
      " [   1.   36.  210.]\n",
      " [   1.   37.  211.]\n",
      " [   1.   38.  212.]\n",
      " [   1.   39.  213.]\n",
      " [   1.   40.  214.]\n",
      " [   1.   41.  215.]\n",
      " [   1.   42.  216.]\n",
      " [   1.   43.  217.]\n",
      " [   1.   44.  218.]\n",
      " [   1.   45.  219.]\n",
      " [   1.   46.  220.]\n",
      " [   1.   47.  221.]\n",
      " [   1.   48.  222.]\n",
      " [   1.   49.  223.]\n",
      " [   1.   50.  224.]]\n",
      "[[-14]\n",
      " [ -6]\n",
      " [  2]\n",
      " [ 10]\n",
      " [ 18]\n",
      " [ 26]\n",
      " [ 34]\n",
      " [ 42]\n",
      " [ 50]\n",
      " [ 58]\n",
      " [ 66]\n",
      " [ 74]\n",
      " [ 82]\n",
      " [ 90]\n",
      " [ 98]\n",
      " [106]\n",
      " [114]\n",
      " [122]\n",
      " [130]\n",
      " [138]\n",
      " [146]\n",
      " [154]\n",
      " [162]\n",
      " [170]\n",
      " [178]\n",
      " [648]\n",
      " [653]\n",
      " [658]\n",
      " [663]\n",
      " [668]\n",
      " [673]\n",
      " [678]\n",
      " [683]\n",
      " [688]\n",
      " [693]\n",
      " [698]\n",
      " [703]\n",
      " [708]\n",
      " [713]\n",
      " [718]\n",
      " [723]\n",
      " [728]\n",
      " [733]\n",
      " [738]\n",
      " [743]\n",
      " [748]\n",
      " [753]\n",
      " [758]\n",
      " [763]\n",
      " [768]]\n"
     ]
    }
   ],
   "source": [
    "x1_sintetico = np.arange(1,51).reshape(50,1)\n",
    "x2_sintetico_a = np.arange(-4,46,2).reshape(25,1)\n",
    "x2_sintetico_b = np.arange(200,225).reshape(25,1)\n",
    "x2_sintetico = np.concatenate((x2_sintetico_a, x2_sintetico_b),axis=0)\n",
    "X_sintetico = np.concatenate((np.ones((50,1)),x1_sintetico,x2_sintetico),axis=1)\n",
    "y_sintetico = 2*x1_sintetico + 3*x2_sintetico - 4\n",
    "print(type(x1_sintetico))\n",
    "print(type(x2_sintetico))\n",
    "print(type(X_sintetico))\n",
    "print(type(y_sintetico))\n",
    "print(x1_sintetico.shape)\n",
    "print(x2_sintetico.shape)\n",
    "print(X_sintetico.shape)\n",
    "print(y_sintetico.shape)\n",
    "print(x1_sintetico)\n",
    "print(x2_sintetico)\n",
    "print(X_sintetico)\n",
    "print(y_sintetico)"
   ]
  },
  {
   "cell_type": "markdown",
   "metadata": {},
   "source": [
    "<span style=\"color:blue\">Como los datos son exactos, la matriz de pesos $W$ estará formada por los coeficientes de la función empleada: -4, 2 y 3.</span>"
   ]
  },
  {
   "cell_type": "code",
   "execution_count": 442,
   "metadata": {
    "collapsed": false
   },
   "outputs": [
    {
     "name": "stdout",
     "output_type": "stream",
     "text": [
      "<class 'numpy.ndarray'>\n",
      "(3, 1)\n",
      "[[-4.]\n",
      " [ 2.]\n",
      " [ 3.]]\n"
     ]
    }
   ],
   "source": [
    "W = np.linalg.inv(X_sintetico.T.dot(X_sintetico)).dot(X_sintetico.T).dot(y_sintetico)\n",
    "print(type(W))\n",
    "print(W.shape)\n",
    "print(W)"
   ]
  },
  {
   "cell_type": "markdown",
   "metadata": {
    "collapsed": true
   },
   "source": [
    "<span style=\"color:blue\">Voy a introducir una fluctuación en los valores de la target para tener un conjunto de datos más realista. Los coeficientes de la regresión lineal, es decir, los pesos se parecerán, pero ya no son exactos.</span>"
   ]
  },
  {
   "cell_type": "code",
   "execution_count": 164,
   "metadata": {
    "collapsed": false
   },
   "outputs": [
    {
     "name": "stdout",
     "output_type": "stream",
     "text": [
      "<class 'numpy.ndarray'>\n",
      "(50, 1)\n",
      "[[-0.48425667]\n",
      " [-1.1221604 ]\n",
      " [-0.03441665]\n",
      " [ 0.12485512]\n",
      " [ 0.58648096]\n",
      " [ 0.53678654]\n",
      " [ 0.22796723]\n",
      " [ 0.53091137]\n",
      " [ 0.0145445 ]\n",
      " [ 0.76623491]\n",
      " [ 0.22393754]\n",
      " [-0.58784741]\n",
      " [ 0.60957521]\n",
      " [ 0.40420264]\n",
      " [ 0.41687124]\n",
      " [-0.9564608 ]\n",
      " [ 0.24252509]\n",
      " [-0.36286829]\n",
      " [ 0.15175597]\n",
      " [-0.37464867]\n",
      " [ 0.55262101]\n",
      " [ 0.05428347]\n",
      " [ 0.16914359]\n",
      " [ 0.5321433 ]\n",
      " [-0.29146251]\n",
      " [-0.92368245]\n",
      " [ 0.22980425]\n",
      " [-0.10894713]\n",
      " [ 0.51726502]\n",
      " [ 0.37237703]\n",
      " [-0.18262395]\n",
      " [ 0.20253773]\n",
      " [-0.40020821]\n",
      " [-0.00955158]\n",
      " [ 0.05702825]\n",
      " [ 0.01679214]\n",
      " [ 0.4844253 ]\n",
      " [-0.02402542]\n",
      " [ 0.4990105 ]\n",
      " [ 0.26753858]\n",
      " [ 0.22219097]\n",
      " [-0.23936978]\n",
      " [-0.66898494]\n",
      " [-0.2534228 ]\n",
      " [ 0.14743442]\n",
      " [ 0.47494455]\n",
      " [-0.08196093]\n",
      " [ 0.12688225]\n",
      " [-0.43563063]\n",
      " [ 0.26952599]]\n"
     ]
    }
   ],
   "source": [
    "fluctuacion = np.random.normal(0,1,(50,1))/2\n",
    "print(type(fluctuacion))\n",
    "print(fluctuacion.shape)\n",
    "print(fluctuacion)"
   ]
  },
  {
   "cell_type": "code",
   "execution_count": 443,
   "metadata": {
    "collapsed": false
   },
   "outputs": [
    {
     "data": {
      "text/plain": [
       "array([[ -14.48425667],\n",
       "       [  -7.1221604 ],\n",
       "       [   1.96558335],\n",
       "       [  10.12485512],\n",
       "       [  18.58648096],\n",
       "       [  26.53678654],\n",
       "       [  34.22796723],\n",
       "       [  42.53091137],\n",
       "       [  50.0145445 ],\n",
       "       [  58.76623491],\n",
       "       [  66.22393754],\n",
       "       [  73.41215259],\n",
       "       [  82.60957521],\n",
       "       [  90.40420264],\n",
       "       [  98.41687124],\n",
       "       [ 105.0435392 ],\n",
       "       [ 114.24252509],\n",
       "       [ 121.63713171],\n",
       "       [ 130.15175597],\n",
       "       [ 137.62535133],\n",
       "       [ 146.55262101],\n",
       "       [ 154.05428347],\n",
       "       [ 162.16914359],\n",
       "       [ 170.5321433 ],\n",
       "       [ 177.70853749],\n",
       "       [ 647.07631755],\n",
       "       [ 653.22980425],\n",
       "       [ 657.89105287],\n",
       "       [ 663.51726502],\n",
       "       [ 668.37237703],\n",
       "       [ 672.81737605],\n",
       "       [ 678.20253773],\n",
       "       [ 682.59979179],\n",
       "       [ 687.99044842],\n",
       "       [ 693.05702825],\n",
       "       [ 698.01679214],\n",
       "       [ 703.4844253 ],\n",
       "       [ 707.97597458],\n",
       "       [ 713.4990105 ],\n",
       "       [ 718.26753858],\n",
       "       [ 723.22219097],\n",
       "       [ 727.76063022],\n",
       "       [ 732.33101506],\n",
       "       [ 737.7465772 ],\n",
       "       [ 743.14743442],\n",
       "       [ 748.47494455],\n",
       "       [ 752.91803907],\n",
       "       [ 758.12688225],\n",
       "       [ 762.56436937],\n",
       "       [ 768.26952599]])"
      ]
     },
     "execution_count": 443,
     "metadata": {},
     "output_type": "execute_result"
    }
   ],
   "source": [
    "y_sintetico = 2*x1_sintetico + 3*x2_sintetico - 4 + fluctuacion\n",
    "y_sintetico"
   ]
  },
  {
   "cell_type": "code",
   "execution_count": 444,
   "metadata": {
    "collapsed": false
   },
   "outputs": [
    {
     "name": "stdout",
     "output_type": "stream",
     "text": [
      "<class 'numpy.ndarray'>\n",
      "(3, 1)\n",
      "[[-3.97355693]\n",
      " [ 2.00535035]\n",
      " [ 2.99902521]]\n"
     ]
    }
   ],
   "source": [
    "W = np.linalg.inv(X_sintetico.T.dot(X_sintetico)).dot(X_sintetico.T).dot(y_sintetico)\n",
    "print(type(W))\n",
    "print(W.shape)\n",
    "print(W)"
   ]
  },
  {
   "cell_type": "markdown",
   "metadata": {
    "collapsed": true
   },
   "source": [
    "<span style=\"color:blue\">Voy a exportar el conjunto de datos para usarlos en Excel con las expresiones de los pesos deducidas previamente. Compruebo que los valores de los pesos coinciden a la perfección con ambas maneras que he seguido para deducir $W$ (véase el anexo). </span>"
   ]
  },
  {
   "cell_type": "code",
   "execution_count": 170,
   "metadata": {
    "collapsed": true
   },
   "outputs": [],
   "source": [
    "import pandas as pd"
   ]
  },
  {
   "cell_type": "code",
   "execution_count": 171,
   "metadata": {
    "collapsed": true
   },
   "outputs": [],
   "source": [
    "salida = pd.DataFrame(np.concatenate((x1_sintetico,x2_sintetico,y_sintetico),axis=1))"
   ]
  },
  {
   "cell_type": "code",
   "execution_count": 176,
   "metadata": {
    "collapsed": false
   },
   "outputs": [],
   "source": [
    "salida.to_csv('RegresionLinealPrueba2Features.csv', index=False, header=False) # header = False para que no escriba los nombres\n",
    "                                                                               # de las columnas en la primera fila."
   ]
  },
  {
   "cell_type": "markdown",
   "metadata": {},
   "source": [
    "<span style=\"color:blue\">El ejemplo lineal visto aquí es muy sencillo, pero si la función de activación de la neurona de salida fuera más complicada, como por ejemplo una sigmoide, ya no se podrían aplicar las soluciones analíticas mostradas antes, sino que se utiliza la regla delta. Ya se ha visto que la función de error global es  \n",
    "\\begin{equation}E=\\frac{1}{N}\\sum_{i=1}^N\\frac{1}{2}\\left[y_i-f(\\mathbf{x_i;w})\\right]^2=\\frac{1}{N}\\sum_{i=1}^N\\frac{1}{2}\\left(y_i-\\sum_{a=0}^m w_a x_{ia}\\right)^2=\\frac{1}{N}\\sum_{i=1}^N \\frac{1}{2}\\epsilon_i^2.\\end{equation}  \n",
    "Donde $\\epsilon_i$ es el error individual de un solo patrón de muestra. Lo que hace la regla delta es asignar a cada neurona una modificación de su peso que es proporcional a la variación del error individual respecto al cambio del peso de dicha neurona. Esto puede interpretarse como que este algoritmo modifica el peso de una neurona proporcionalmente a la contribución de dicha neurona al error total. Es decir, las modificaciones en los pesos son proporcionales al gradiente decreciente del error:  \n",
    "\\begin{equation}\\Delta w_b = -\\alpha\\frac{1}{2}\\frac{\\partial\\epsilon_i^2}{\\partial w_b}=-\\alpha\\frac{1}{2}\\cdot 2\\left(y_i-\\sum_{a=0}^m w_a x_{ia}\\right)\\cdot (-x_{ib})=\\alpha(y_i-f(\\mathbf{x_i;w}))x_{ib}=\\alpha\\epsilon_ix_{ib}.\\end{equation}  \n",
    "En notación vectorial:  \n",
    "\\begin{equation}\\mathbf{w}(t+1)=\\mathbf{w}(t)+\\alpha(t)\\epsilon(t)\\mathbf{x}(t).\\end{equation}  \n",
    "Donde $\\alpha$ es la constante de proporcionalidad o tasa de aprendizaje. Esta expresión es parecida a la obtenida anteriormente para el caso del perceptrón. La diferencia está en el valor del error $\\epsilon_i,$ que en el caso del perceptrón se refería a la diferencia entre el valor deseado y la salida binaria $y_i,$ no a la salida lineal de la red ADALINE.  \n",
    "Aunque a simple vista no parece que exista gran diferencia entre ambos tipos de mecanismos de aprendizaje, el caso de la red ADALINE mejora al del perceptrón porque va a ser más sencillo alcanzar el mínimo de error, facilitando la convergencia del proceso de entrenamiento. Esto se demuestra mediante la forma de la función de error, que en el caso de ADALINE tiene forma de paraboloide con un mínimo global claro, mientras que en el caso de usar la salida binaria tiene gran cantidad de mínimos locales. Existe una situación intermedia que consiste en usar una activación sigmoidal. En este caso la superficie de error tendría un gran mínimo global  (como en ADALINE) y varios mínimos locales (como en el perceptrón, pero en menor medida).  \n",
    "La aplicación del algoritmo iterativo de aprendizaje consta de los siguientes pasos:  \n",
    "1. Se inicializan los pesos de la red.\n",
    "2. Se aplica un patrón de entrada, $\\mathbf{x}(t),$ en las neuronas de entrada de la red ADALINE.  \n",
    "3. Se obtiene la salida lineal $\\mathbf{x}(t)\\cdot \\mathbf{w}(t)$ y se calcula la diferencia con respecto a la deseada, $\\epsilon(t).$  \n",
    "4. Se actualizan los pesos, $\\mathbf{w}(t+1)=\\mathbf{w}(t)+\\alpha(t)\\epsilon(t)\\mathbf{x}(t).$  \n",
    "5. Se repiten los pasos anteriores desde el paso 2 con todos los patrones de entrada (N).  \n",
    "6. Si el error cuadrático medio, $\\frac{1}{2N}\\sum_{i=1}^N \\epsilon_i^2,$ es un valor reducido aceptable, termina el proceso de aprendizaje. Si no, se repite otra vez desde el primer paso con todos los patrones.</span>"
   ]
  },
  {
   "cell_type": "markdown",
   "metadata": {
    "collapsed": true
   },
   "source": [
    "<span style=\"color:blue\">Paso ahora a montar una red ADALINE con activación identidad usando keras y le aplico el conjunto de datos anterior para comprobar que los pesos que obtiene mediante una variante de algoritmo de gradiente decreciente coinciden con los de la regresión lineal que acabo de hacer de dos maneras analíticas exactas.</span>"
   ]
  },
  {
   "cell_type": "code",
   "execution_count": 445,
   "metadata": {
    "collapsed": false
   },
   "outputs": [
    {
     "data": {
      "text/plain": [
       "array([[ 1, -4],\n",
       "       [ 2, -2],\n",
       "       [ 3,  0],\n",
       "       [ 4,  2]])"
      ]
     },
     "execution_count": 445,
     "metadata": {},
     "output_type": "execute_result"
    }
   ],
   "source": [
    "x_sintetico = np.concatenate((x1_sintetico,x2_sintetico),axis=1)\n",
    "x_sintetico[:4,:]"
   ]
  },
  {
   "cell_type": "code",
   "execution_count": 494,
   "metadata": {
    "collapsed": true
   },
   "outputs": [],
   "source": [
    "#from keras import backend as K\n",
    "\n",
    "def identidad(x):\n",
    "    return x"
   ]
  },
  {
   "cell_type": "code",
   "execution_count": 571,
   "metadata": {
    "collapsed": false
   },
   "outputs": [
    {
     "name": "stdout",
     "output_type": "stream",
     "text": [
      "____________________________________________________________________________________________________\n",
      "Layer (type)                     Output Shape          Param #     Connected to                     \n",
      "====================================================================================================\n",
      "dense_144 (Dense)                (None, 1)             3           dense_input_129[0][0]            \n",
      "____________________________________________________________________________________________________\n",
      "activation_143 (Activation)      (None, 1)             0           dense_144[0][0]                  \n",
      "====================================================================================================\n",
      "Total params: 3\n",
      "Trainable params: 3\n",
      "Non-trainable params: 0\n",
      "____________________________________________________________________________________________________\n",
      "Epoch 1/80\n",
      "3s - loss: 26426.2108\n",
      "Epoch 2/80\n",
      "0s - loss: 11088.9977\n",
      "Epoch 3/80\n",
      "0s - loss: 2708.9644\n",
      "Epoch 4/80\n",
      "0s - loss: 742.7583\n",
      "Epoch 5/80\n",
      "0s - loss: 195.0173\n",
      "Epoch 6/80\n",
      "0s - loss: 154.2536\n",
      "Epoch 7/80\n",
      "0s - loss: 228.9606\n",
      "Epoch 8/80\n",
      "0s - loss: 301.6581\n",
      "Epoch 9/80\n",
      "0s - loss: 296.6746\n",
      "Epoch 10/80\n",
      "0s - loss: 259.4959\n",
      "Epoch 11/80\n",
      "0s - loss: 185.4533\n",
      "Epoch 12/80\n",
      "0s - loss: 119.3788\n",
      "Epoch 13/80\n",
      "0s - loss: 41.5657\n",
      "Epoch 14/80\n",
      "0s - loss: 10.3057\n",
      "Epoch 15/80\n",
      "0s - loss: 3.7200\n",
      "Epoch 16/80\n",
      "0s - loss: 3.8202\n",
      "Epoch 17/80\n",
      "0s - loss: 9.6919\n",
      "Epoch 18/80\n",
      "0s - loss: 4.6301\n",
      "Epoch 19/80\n",
      "0s - loss: 1.5858\n",
      "Epoch 20/80\n",
      "0s - loss: 1.2303\n",
      "Epoch 21/80\n",
      "0s - loss: 1.2133\n",
      "Epoch 22/80\n",
      "0s - loss: 0.7481\n",
      "Epoch 23/80\n",
      "0s - loss: 1.5032\n",
      "Epoch 24/80\n",
      "0s - loss: 0.5178\n",
      "Epoch 25/80\n",
      "0s - loss: 0.9566\n",
      "Epoch 26/80\n",
      "0s - loss: 1.1106\n",
      "Epoch 27/80\n",
      "0s - loss: 0.5969\n",
      "Epoch 28/80\n",
      "0s - loss: 0.6863\n",
      "Epoch 29/80\n",
      "0s - loss: 0.4703\n",
      "Epoch 30/80\n",
      "0s - loss: 0.4201\n",
      "Epoch 31/80\n",
      "0s - loss: 0.4353\n",
      "Epoch 32/80\n",
      "0s - loss: 0.3527\n",
      "Epoch 33/80\n",
      "0s - loss: 0.7375\n",
      "Epoch 34/80\n",
      "0s - loss: 0.9473\n",
      "Epoch 35/80\n",
      "0s - loss: 0.4803\n",
      "Epoch 36/80\n",
      "0s - loss: 0.3978\n",
      "Epoch 37/80\n",
      "0s - loss: 1.0374\n",
      "Epoch 38/80\n",
      "0s - loss: 0.6436\n",
      "Epoch 39/80\n",
      "0s - loss: 0.6710\n",
      "Epoch 40/80\n",
      "0s - loss: 1.2724\n",
      "Epoch 41/80\n",
      "0s - loss: 1.4941\n",
      "Epoch 42/80\n",
      "0s - loss: 3.0697\n",
      "Epoch 43/80\n",
      "0s - loss: 1.4735\n",
      "Epoch 44/80\n",
      "0s - loss: 0.5777\n",
      "Epoch 45/80\n",
      "0s - loss: 0.4962\n",
      "Epoch 46/80\n",
      "0s - loss: 0.3459\n",
      "Epoch 47/80\n",
      "0s - loss: 0.9537\n",
      "Epoch 48/80\n",
      "0s - loss: 3.8053\n",
      "Epoch 49/80\n",
      "0s - loss: 0.9220\n",
      "Epoch 50/80\n",
      "0s - loss: 0.3264\n",
      "Epoch 51/80\n",
      "0s - loss: 0.2677\n",
      "Epoch 52/80\n",
      "0s - loss: 0.2883\n",
      "Epoch 53/80\n",
      "0s - loss: 0.2667\n",
      "Epoch 54/80\n",
      "0s - loss: 0.3293\n",
      "Epoch 55/80\n",
      "0s - loss: 0.3337\n",
      "Epoch 56/80\n",
      "0s - loss: 0.7967\n",
      "Epoch 57/80\n",
      "0s - loss: 0.6647\n",
      "Epoch 58/80\n",
      "0s - loss: 0.3625\n",
      "Epoch 59/80\n",
      "0s - loss: 0.3302\n",
      "Epoch 60/80\n",
      "0s - loss: 0.2324\n",
      "Epoch 61/80\n",
      "0s - loss: 0.2367\n",
      "Epoch 62/80\n",
      "0s - loss: 0.2595\n",
      "Epoch 63/80\n",
      "0s - loss: 0.6482\n",
      "Epoch 64/80\n",
      "0s - loss: 0.2150\n",
      "Epoch 65/80\n",
      "0s - loss: 0.3431\n",
      "Epoch 66/80\n",
      "0s - loss: 0.8565\n",
      "Epoch 67/80\n",
      "0s - loss: 0.3572\n",
      "Epoch 68/80\n",
      "0s - loss: 0.2546\n",
      "Epoch 69/80\n",
      "0s - loss: 0.3887\n",
      "Epoch 70/80\n",
      "0s - loss: 0.7018\n",
      "Epoch 71/80\n",
      "0s - loss: 0.5852\n",
      "Epoch 72/80\n",
      "0s - loss: 0.2118\n",
      "Epoch 73/80\n",
      "0s - loss: 0.3307\n",
      "Epoch 74/80\n",
      "0s - loss: 0.2417\n",
      "Epoch 75/80\n",
      "0s - loss: 0.2594\n",
      "Epoch 76/80\n",
      "0s - loss: 0.3780\n",
      "Epoch 77/80\n",
      "0s - loss: 0.7785\n",
      "Epoch 78/80\n",
      "0s - loss: 0.2562\n",
      "Epoch 79/80\n",
      "0s - loss: 0.2125\n",
      "Epoch 80/80\n",
      "0s - loss: 0.2500\n"
     ]
    },
    {
     "data": {
      "text/plain": [
       "<keras.callbacks.History at 0x538c0780>"
      ]
     },
     "execution_count": 571,
     "metadata": {},
     "output_type": "execute_result"
    }
   ],
   "source": [
    "adaline=Sequential()\n",
    "adaline.add(Dense(1, input_shape=(2,),activation=identidad))\n",
    "adaline.add(Activation(identidad))\n",
    "\n",
    "adaline.summary()\n",
    "\n",
    "adam = Adam(lr=1.5,decay=0.0005685)\n",
    "adaline.compile(loss='mean_squared_error',\n",
    "               optimizer=adam)\n",
    "               # metrics=['accuracy'])\n",
    "\n",
    "\n",
    "    \n",
    "adaline.fit(x_sintetico, y_sintetico, batch_size=5, # Batch size for the optimizer algorithm\n",
    "    nb_epoch=80, # Number of epochs to run the optimizer algorithm\n",
    "    verbose=2 # Level of verbosity of the log messages\n",
    "    #WeightLogger()\n",
    "    #callbacks=[history]\n",
    "    )\n"
   ]
  },
  {
   "cell_type": "code",
   "execution_count": 572,
   "metadata": {
    "collapsed": false
   },
   "outputs": [
    {
     "data": {
      "text/plain": [
       "[array([[ 2.00519991],\n",
       "        [ 2.99923468]], dtype=float32), array([-3.97315216], dtype=float32)]"
      ]
     },
     "execution_count": 572,
     "metadata": {},
     "output_type": "execute_result"
    }
   ],
   "source": [
    "adaline.layers[0].get_weights()"
   ]
  },
  {
   "cell_type": "markdown",
   "metadata": {},
   "source": [
    "<span style=\"color:blue\">Efectivamente, los pesos a los que llega la red después del proceso de aprendizaje son justamente los coeficientes de la regresión lineal obtenidos previamente ($w_0=-3.973, w_1=2.005$ y $w_2=2.999$). Por tanto, queda comprobado el funcionamiento de una red ADALINE como regresor lineal.</span>"
   ]
  },
  {
   "cell_type": "markdown",
   "metadata": {},
   "source": [
    "## <span style=\"color:blue\">Red backpropagation</span>\n",
    "\n",
    "<span style=\"color:blue\">Ahora paso a considerar redes con capas ocultas, es decir, con más niveles de neuronas que los empleados por el perceptrón y ADALINE. El método de aprendizaje que se va a utilizar se conoce generalmente como *backpropagation* y está basado en la regla delta. Este método consta de dos fases. Primero se aplica un patrón de entrada, que se va propagando a través de todas las capas superiores hasta generar una salida, que se compara con la salida deseada, y se calcula un error para cada neurona de salida. A continuación, estos errores se transmiten hacia atrás, partiendo de la capa de salida hacia todas las neuronas de la capa intermedia que contribuyen directamente a la salida, recibiendo el porcentaje de error aproximado a la participación de la neurona intermedia en la salida original. Este proceso se repite capa por capa hasta que todas las neuronas de la red hayan recibido un error que describa su aportación relativa al error total. Basándose en el valor del error recibido, se reajustan los pesos de cada neurona, de forma que la siguiente vez que se presente el mismo patrón, la salida esté más cercana a la deseada, es decir, el error disminuya.  \n",
    "Este método sigue la regla delta generalizada. Los pesos se ajustan como en la regla delta usada en el perceptrón y ADALINE: los pesos se actualizan de forma proporcional a la delta o diferencia entre la salida deseada y la obtenida. El punto en el que difieren la regla delta generalizada de la regla delta es en el valor concreto de esa delta. Además, en las redes multinivel, al contrario que en las redes sin neuronas ocultas, no se puede conocer en principio la salida deseada de las neuronas de las capas ocultas para poder determinar los pesos en función del error cometido. En cambio, sí se puede conocer la salida deseada de las neuronas de salida. Voy a suponer una red con una capa oculta.\n",
    "El algoritmo consta de los siguientes pasos:\n",
    "1. Se inicializan los pesos de la red.\n",
    "2. Se aplica un patrón de entrada, $\\mathbf{x}(t),$ en las neuronas de entrada de la red.  \n",
    "3. Se calculan las entradas a las neuronas ocultas procedentes de las neuronas de entrada, $A_b(t) = \\sum_{a=0}^{m_1} U_{ba}x_a(t),$ donde $U_{ba}$ es el peso de interconexión entre la neurona oculta b-ésima y la neurona de entrada a-ésima, $m_1$ es el número de unidades de la capa de entrada y $x_a(t)$ es la feature a-ésima, es decir, la componente a-esima del patrón de entrada.  \n",
    "4. Se calculan las salidas de las neuronas ocultas, $O_b(t)=\\sigma(A_b(t)).$  \n",
    "5. Se calculan las entradas a las neuronas de salida procedentes de las neuronas ocultas, $z_c(t) = \\sum_{b=0}^{m_2} V_{cb}O_b(t),$ donde $V_{cb}$ es el peso de interconexión entre la neurona de salida c-ésima y la neurona oculta b-ésima, $m_2$ es el número de unidades de la capa oculta. Los subíndices $a, b, c$ hacen referencia a las neuronas de las capas de entrada, oculta y de salida, respectivamente.  \n",
    "6. Se calculan las salidas de las neuronas de salida, $\\phi(z_c(t)).$\n",
    "7. Se actualizan los pesos: \n",
    "\\begin{eqnarray} V_{cb}(t+1)&=& V_{cb}(t)+\\alpha(t)\\epsilon_c(t)O_b(t), \\;\\;\\; \\mbox{ donde  }\\; \\epsilon_c(t)=[y_c(t)-\\phi(z_c(t))]\\phi'(z_c(t)) \\\\\n",
    "U_{ba}(t+1)&=& U_{ba}(t)+\\alpha(t)\\delta_b(t)x_a(t), \\;\\;\\; \\mbox{ donde  }\\; \\delta_b(t)=\\sigma'(A_b(t))\\sum_{c=0}^{m_3}V_{cb}(t)\\epsilon_c(t).  \\end{eqnarray}  \n",
    "Siendo $y_c(t)$ la salida deseada de la neurona de salida c-ésima para el patrón presentado en el instante $t.$  \n",
    "En el caso de que la función de activación de la capa de salida fuera la identidad, $\\phi(z)=z,$ se tendría $\\phi'(z)=1$ y los términos de error para las neuronas de salida quedan $\\epsilon_c(t)=y_c(t)-\\phi(z_c(t)).$ Si la función de activación de la capa de salida fuera sigmoidal, $\\phi(z)=1/(1+e^{-z}),$ se tendría $\\phi'(z)=\\phi(z)(1-\\phi(z)).$  \n",
    "Nótese que el error de las capas ocultas, $\\delta_b,$ depende de todos los términos de error de la capa de salida, $\\epsilon_c.$ De aquí surge la nomenclatura de *backpropagation*. Los errores de una capa dependen de los errores de la capa inmediatamente posterior.\n",
    "8. Se repiten los pasos anteriores desde el paso 2 hasta que el error resulta aceptablemente pequeño.   \n",
    "</span>\n",
    "\n",
    "<span style=\"color:blue\">Una vez vista esta introducción paso a la práctica propiamente dicha.</span>"
   ]
  },
  {
   "cell_type": "markdown",
   "metadata": {},
   "source": [
    "## The Keras library"
   ]
  },
  {
   "cell_type": "markdown",
   "metadata": {},
   "source": [
    "In this lab we will make use of the <a href=http://keras.io/>keras</a> Deep Learning library for Python. This library allows building several kinds of shallow and deep networks, following either a sequential or a graph architecture."
   ]
  },
  {
   "cell_type": "markdown",
   "metadata": {},
   "source": [
    "## Data loading"
   ]
  },
  {
   "cell_type": "markdown",
   "metadata": {},
   "source": [
    "The handwritten digits recognition problem we will face is already included as a testbed in keras. Loading it only requires invoking"
   ]
  },
  {
   "cell_type": "code",
   "execution_count": 2,
   "metadata": {
    "collapsed": false,
    "scrolled": true
   },
   "outputs": [
    {
     "name": "stderr",
     "output_type": "stream",
     "text": [
      "Using TensorFlow backend.\n"
     ]
    },
    {
     "name": "stdout",
     "output_type": "stream",
     "text": [
      "Downloading data from https://s3.amazonaws.com/img-datasets/mnist.pkl.gz\n",
      "15302656/15296311 [==============================] - 8s     \n"
     ]
    }
   ],
   "source": [
    "from keras.datasets import mnist\n",
    "(X_train, y_train), (X_test, y_test) = mnist.load_data()"
   ]
  },
  {
   "cell_type": "markdown",
   "metadata": {},
   "source": [
    "The loaded **X** variables are made up of the handwritten digits to classify, while the **y** variables contain the labels of the corresponding X images, telling the digits such images represent. We will use the **train** data to build our neural network, while we will use the **test** data to measure the performance of such network on an independent dataset."
   ]
  },
  {
   "cell_type": "markdown",
   "metadata": {},
   "source": [
    "We can check how many images we have for training and testing as follows:"
   ]
  },
  {
   "cell_type": "code",
   "execution_count": 3,
   "metadata": {
    "collapsed": false
   },
   "outputs": [
    {
     "data": {
      "text/plain": [
       "60000"
      ]
     },
     "execution_count": 3,
     "metadata": {},
     "output_type": "execute_result"
    }
   ],
   "source": [
    "len(X_train)"
   ]
  },
  {
   "cell_type": "code",
   "execution_count": 4,
   "metadata": {
    "collapsed": false
   },
   "outputs": [
    {
     "data": {
      "text/plain": [
       "10000"
      ]
     },
     "execution_count": 4,
     "metadata": {},
     "output_type": "execute_result"
    }
   ],
   "source": [
    "len(y_test)"
   ]
  },
  {
   "cell_type": "code",
   "execution_count": 8,
   "metadata": {
    "collapsed": false
   },
   "outputs": [
    {
     "name": "stdout",
     "output_type": "stream",
     "text": [
      "(60000, 28, 28)\n",
      "(60000,)\n",
      "<class 'numpy.ndarray'>\n",
      "<class 'numpy.ndarray'>\n"
     ]
    }
   ],
   "source": [
    "print(X_train.shape)\n",
    "print(y_train.shape)\n",
    "print(type(X_train))\n",
    "print(type(y_train))"
   ]
  },
  {
   "cell_type": "code",
   "execution_count": 13,
   "metadata": {
    "collapsed": false
   },
   "outputs": [
    {
     "data": {
      "text/plain": [
       "array([5, 0, 4, 1, 9, 2, 1, 3, 1, 4], dtype=uint8)"
      ]
     },
     "execution_count": 13,
     "metadata": {},
     "output_type": "execute_result"
    }
   ],
   "source": [
    "y_train[:10]"
   ]
  },
  {
   "cell_type": "markdown",
   "metadata": {},
   "source": [
    "Also we can take a look at the shape, width and height in pixels, of an image:"
   ]
  },
  {
   "cell_type": "code",
   "execution_count": 5,
   "metadata": {
    "collapsed": false
   },
   "outputs": [
    {
     "data": {
      "text/plain": [
       "(28, 28)"
      ]
     },
     "execution_count": 5,
     "metadata": {},
     "output_type": "execute_result"
    }
   ],
   "source": [
    "X_test[0].shape"
   ]
  },
  {
   "cell_type": "code",
   "execution_count": 60,
   "metadata": {
    "collapsed": false
   },
   "outputs": [
    {
     "data": {
      "text/plain": [
       "array([ 0.        ,  0.        ,  0.        ,  0.        ,  0.        ,\n",
       "        0.        ,  0.        ,  0.        ,  0.        ,  0.        ,\n",
       "        0.        ,  0.        ,  0.01176471,  0.07058824,  0.07058824,\n",
       "        0.07058824,  0.49411765,  0.53333336,  0.68627453,  0.10196079,\n",
       "        0.65098041,  1.        ,  0.96862745,  0.49803922,  0.        ,\n",
       "        0.        ,  0.        ,  0.        ], dtype=float32)"
      ]
     },
     "execution_count": 60,
     "metadata": {},
     "output_type": "execute_result"
    }
   ],
   "source": [
    "X_train[0][5]"
   ]
  },
  {
   "cell_type": "markdown",
   "metadata": {},
   "source": [
    "We can also visualize the images we are working with by means of using the matplotlib library. Here we are taking the first training image and painting it with a grayscale colormap. Also we are printing the corresponding class value, to ensure the labeling of the digit is correct."
   ]
  },
  {
   "cell_type": "code",
   "execution_count": 9,
   "metadata": {
    "collapsed": false
   },
   "outputs": [
    {
     "name": "stdout",
     "output_type": "stream",
     "text": [
      "Digit class: 5\n"
     ]
    },
    {
     "data": {
      "image/png": "[encoded data removed]",
      "text/plain": [
       "<matplotlib.figure.Figure at 0xa25d748>"
      ]
     },
     "metadata": {},
     "output_type": "display_data"
    }
   ],
   "source": [
    "plt.imshow(X_train[0], 'gray')\n",
    "print(\"Digit class:\", y_train[0])"
   ]
  },
  {
   "cell_type": "markdown",
   "metadata": {},
   "source": [
    "<table>\n",
    " <tr><td><img src=\"img/question.png\" style=\"width:80px;height:80px;\"></td><td>\n",
    "Use the cell below to plot some other image in the training dataset, along with its corresponding digit class number. Can you find any hard to identify digit?\n",
    " </td></tr>\n",
    "</table>"
   ]
  },
  {
   "cell_type": "code",
   "execution_count": 58,
   "metadata": {
    "collapsed": false
   },
   "outputs": [
    {
     "name": "stdout",
     "output_type": "stream",
     "text": [
      "Digit class: 8\n"
     ]
    },
    {
     "data": {
      "image/png": "[encoded data removed]",
      "text/plain": [
       "<matplotlib.figure.Figure at 0x18f65e48>"
      ]
     },
     "metadata": {},
     "output_type": "display_data"
    }
   ],
   "source": [
    "####### INSERT YOUR CODE HERE\n",
    "plt.imshow(X_train[240], 'gray')\n",
    "print(\"Digit class:\", y_train[240])"
   ]
  },
  {
   "cell_type": "code",
   "execution_count": 61,
   "metadata": {
    "collapsed": false
   },
   "outputs": [
    {
     "name": "stdout",
     "output_type": "stream",
     "text": [
      "Digit class: 7\n"
     ]
    },
    {
     "data": {
      "image/png": "[encoded data removed]",
      "text/plain": [
       "<matplotlib.figure.Figure at 0x18fbe080>"
      ]
     },
     "metadata": {},
     "output_type": "display_data"
    }
   ],
   "source": [
    "plt.imshow(X_train[5000], 'coolwarm')\n",
    "print(\"Digit class:\", y_train[5000])"
   ]
  },
  {
   "cell_type": "markdown",
   "metadata": {},
   "source": [
    "Before starting building networks we should always normalize our data. This usually means substracting the mean from each variable and then dividing by the standard deviation. However in grayscale images like the ones we are working with all variables represent pixel intensities, and are bound to integers in the range [0, 255]. We can thus perform a simple initialization by just compressing this range to [0, 1]. We should also transform the data to real numbers (float) while performing this operation:"
   ]
  },
  {
   "cell_type": "code",
   "execution_count": 10,
   "metadata": {
    "collapsed": true
   },
   "outputs": [],
   "source": [
    "X_train = X_train.astype('float32') / 255"
   ]
  },
  {
   "cell_type": "markdown",
   "metadata": {},
   "source": [
    "<table>\n",
    " <tr><td><img src=\"img/question.png\" style=\"width:80px;height:80px;\"></td><td>\n",
    "Perform the same normalization for the test data\n",
    " </td></tr>\n",
    "</table>"
   ]
  },
  {
   "cell_type": "code",
   "execution_count": 11,
   "metadata": {
    "collapsed": true
   },
   "outputs": [],
   "source": [
    "####### INSERT YOUR CODE HERE\n",
    "X_test = X_test.astype('float32') / 255"
   ]
  },
  {
   "cell_type": "markdown",
   "metadata": {},
   "source": [
    "As for the outputs, normalization as such is not required, but we should change the class encoding to something more akin to neural networks. Instead of having a single integer ranging [0,9] to encode the different classes, we will use a <a href=https://en.wikipedia.org/wiki/One-hot>one-hot vector encoding</a>"
   ]
  },
  {
   "cell_type": "code",
   "execution_count": 14,
   "metadata": {
    "collapsed": false
   },
   "outputs": [],
   "source": [
    "from keras.utils import np_utils\n",
    "Y_train = np_utils.to_categorical(y_train, 10) # We have 10 classes to codify"
   ]
  },
  {
   "cell_type": "markdown",
   "metadata": {},
   "source": [
    "Let's check that the transformation was correct:"
   ]
  },
  {
   "cell_type": "code",
   "execution_count": 15,
   "metadata": {
    "collapsed": false
   },
   "outputs": [
    {
     "data": {
      "text/plain": [
       "array([[ 0.,  0.,  0., ...,  0.,  0.,  0.],\n",
       "       [ 1.,  0.,  0., ...,  0.,  0.,  0.],\n",
       "       [ 0.,  0.,  0., ...,  0.,  0.,  0.],\n",
       "       ..., \n",
       "       [ 0.,  0.,  0., ...,  0.,  0.,  0.],\n",
       "       [ 0.,  0.,  0., ...,  0.,  0.,  0.],\n",
       "       [ 0.,  0.,  0., ...,  0.,  1.,  0.]])"
      ]
     },
     "execution_count": 15,
     "metadata": {},
     "output_type": "execute_result"
    }
   ],
   "source": [
    "Y_train"
   ]
  },
  {
   "cell_type": "markdown",
   "metadata": {},
   "source": [
    "<table>\n",
    " <tr><td><img src=\"img/question.png\" style=\"width:80px;height:80px;\"></td><td>\n",
    "Repeat the same encoding for the classes of the test data\n",
    " </td></tr>\n",
    "</table>"
   ]
  },
  {
   "cell_type": "code",
   "execution_count": 16,
   "metadata": {
    "collapsed": false
   },
   "outputs": [
    {
     "data": {
      "text/plain": [
       "array([[ 0.,  0.,  0., ...,  1.,  0.,  0.],\n",
       "       [ 0.,  0.,  1., ...,  0.,  0.,  0.],\n",
       "       [ 0.,  1.,  0., ...,  0.,  0.,  0.],\n",
       "       ..., \n",
       "       [ 0.,  0.,  0., ...,  0.,  0.,  0.],\n",
       "       [ 0.,  0.,  0., ...,  0.,  0.,  0.],\n",
       "       [ 0.,  0.,  0., ...,  0.,  0.,  0.]])"
      ]
     },
     "execution_count": 16,
     "metadata": {},
     "output_type": "execute_result"
    }
   ],
   "source": [
    "####### INSERT YOUR CODE HERE\n",
    "Y_test = np_utils.to_categorical(y_test, 10)\n",
    "Y_test"
   ]
  },
  {
   "cell_type": "markdown",
   "metadata": {},
   "source": [
    "## Perceptron network"
   ]
  },
  {
   "cell_type": "markdown",
   "metadata": {},
   "source": [
    "Let's start trying to solve the problem with the simplest neural network: a Perceptron. This means a neural network with no hidden layers, just some weights going from input to output."
   ]
  },
  {
   "cell_type": "markdown",
   "metadata": {},
   "source": [
    "### Defining the network"
   ]
  },
  {
   "cell_type": "markdown",
   "metadata": {},
   "source": [
    "Building a network in Keras begins by choosing the type of architecture. We can either decide to build a **Sequential** network, where each layer is followed by another one in a chain, or a **Graph** network, where divergences and loops of layers can take place. In this practice we will restrict ourselves to the Sequential architecture. We can initialize a Sequential network with"
   ]
  },
  {
   "cell_type": "code",
   "execution_count": 17,
   "metadata": {
    "collapsed": false
   },
   "outputs": [],
   "source": [
    "from keras.models import Sequential\n",
    "model = Sequential()"
   ]
  },
  {
   "cell_type": "markdown",
   "metadata": {},
   "source": [
    "Once the network has been initialized this way, we just need to iteratively add the desired layers. For the perceptron network we only require a \"classic\" layer of weights from input to output. Such layer is name **Dense** in Keras."
   ]
  },
  {
   "cell_type": "code",
   "execution_count": 18,
   "metadata": {
    "collapsed": true
   },
   "outputs": [],
   "source": [
    "from keras.layers.core import Dense"
   ]
  },
  {
   "cell_type": "markdown",
   "metadata": {},
   "source": [
    "Usually creating a dense layer only involves specifying the number of outputs units of such layer. But since this will be the first layer in the network we also need to specify the number of inputs. Our inputs are images of 28x28 pixels, which makes 784 input values. As for the outputs, we have 10 classes in our problem, so that makes 10 output units."
   ]
  },
  {
   "cell_type": "code",
   "execution_count": 19,
   "metadata": {
    "collapsed": true
   },
   "outputs": [],
   "source": [
    "denselayer = Dense(10, input_shape=(784,))"
   ]
  },
  {
   "cell_type": "markdown",
   "metadata": {},
   "source": [
    "Now we add the layer to network"
   ]
  },
  {
   "cell_type": "code",
   "execution_count": 20,
   "metadata": {
    "collapsed": true
   },
   "outputs": [],
   "source": [
    "model.add(denselayer)"
   ]
  },
  {
   "cell_type": "markdown",
   "metadata": {},
   "source": [
    "With this we have declared the layer of weights from inputs to outputs. Since we are facing a classification problem we should also add an activation function to the output units that enforces the output values to the range [0,1]. We will choose a softmax activation for doing so:"
   ]
  },
  {
   "cell_type": "code",
   "execution_count": 21,
   "metadata": {
    "collapsed": true
   },
   "outputs": [],
   "source": [
    "from keras.layers.core import Activation\n",
    "model.add(Activation('softmax'))"
   ]
  },
  {
   "cell_type": "markdown",
   "metadata": {},
   "source": [
    "With this the definition of our network is completed. We can get a text description of the network by calling"
   ]
  },
  {
   "cell_type": "code",
   "execution_count": 22,
   "metadata": {
    "collapsed": false
   },
   "outputs": [
    {
     "name": "stdout",
     "output_type": "stream",
     "text": [
      "____________________________________________________________________________________________________\n",
      "Layer (type)                     Output Shape          Param #     Connected to                     \n",
      "====================================================================================================\n",
      "dense_1 (Dense)                  (None, 10)            7850        dense_input_1[0][0]              \n",
      "____________________________________________________________________________________________________\n",
      "activation_1 (Activation)        (None, 10)            0           dense_1[0][0]                    \n",
      "====================================================================================================\n",
      "Total params: 7,850\n",
      "Trainable params: 7,850\n",
      "Non-trainable params: 0\n",
      "____________________________________________________________________________________________________\n"
     ]
    }
   ],
   "source": [
    "model.summary()"
   ]
  },
  {
   "cell_type": "markdown",
   "metadata": {},
   "source": [
    "### Compiling the network"
   ]
  },
  {
   "cell_type": "markdown",
   "metadata": {},
   "source": [
    "After defining the network architecture the next step involves compiling the network. Compilation is an automatic process that transforms the network definition into an equivalent symbolic formulation for which derivatives can be computed, thus allowing learning through backpropagation. The only input required in this process is choosing the loss function the network should minimize, and the optimizer used for learning.\n",
    "\n",
    "For our current network we will use **categorical crossentropy** as the loss function, as it is suitable for multiclass classification problems. As for the optimizer, we will use **Stochastic Gradient Descent**. We will also include the **classification accuracy** as a metric to measure the performance of our model."
   ]
  },
  {
   "cell_type": "code",
   "execution_count": 23,
   "metadata": {
    "collapsed": true
   },
   "outputs": [],
   "source": [
    "model.compile(loss='categorical_crossentropy', optimizer='sgd', metrics=['accuracy'])"
   ]
  },
  {
   "cell_type": "markdown",
   "metadata": {},
   "source": [
    "### Training the network"
   ]
  },
  {
   "cell_type": "markdown",
   "metadata": {},
   "source": [
    "We are now almost ready to adjust the network parameters through training over our data. There is only one small detail left: our data is in the form of bidimensional images, while a perceptron only understands training patterns as one-dimensional vectors of data. We should then transform the data to vector form to input it into the network, something we can do with the **reshape** method of the data:"
   ]
  },
  {
   "cell_type": "code",
   "execution_count": 24,
   "metadata": {
    "collapsed": true
   },
   "outputs": [],
   "source": [
    "trainvectors = X_train.reshape(60000, 784)"
   ]
  },
  {
   "cell_type": "markdown",
   "metadata": {},
   "source": [
    "We can check now that our training data has become a matrix of 60000 training patterns (rows) and 784 variables (pixels) per pattern:"
   ]
  },
  {
   "cell_type": "code",
   "execution_count": 25,
   "metadata": {
    "collapsed": false
   },
   "outputs": [
    {
     "data": {
      "text/plain": [
       "(60000, 784)"
      ]
     },
     "execution_count": 25,
     "metadata": {},
     "output_type": "execute_result"
    }
   ],
   "source": [
    "trainvectors.shape"
   ]
  },
  {
   "cell_type": "markdown",
   "metadata": {},
   "source": [
    "<span style=\"color:blue\">Compruebo que, por ejemplo, las componentes de la quinta fila de la primera imagen (posición 0), X_train[0][5], son las mismas. Cada fila contiene 28 elementos (28 columnas), así que tengo que comprobar desde la posición 5x28=140 hasta la 140+28=168, trainvectors[0][140:168]</span>"
   ]
  },
  {
   "cell_type": "code",
   "execution_count": 65,
   "metadata": {
    "collapsed": false
   },
   "outputs": [
    {
     "data": {
      "text/plain": [
       "array([ 0.        ,  0.        ,  0.        ,  0.        ,  0.        ,\n",
       "        0.        ,  0.        ,  0.        ,  0.        ,  0.        ,\n",
       "        0.        ,  0.        ,  0.01176471,  0.07058824,  0.07058824,\n",
       "        0.07058824,  0.49411765,  0.53333336,  0.68627453,  0.10196079,\n",
       "        0.65098041,  1.        ,  0.96862745,  0.49803922,  0.        ,\n",
       "        0.        ,  0.        ,  0.        ], dtype=float32)"
      ]
     },
     "execution_count": 65,
     "metadata": {},
     "output_type": "execute_result"
    }
   ],
   "source": [
    "trainvectors[0][140:168]"
   ]
  },
  {
   "cell_type": "code",
   "execution_count": 64,
   "metadata": {
    "collapsed": false
   },
   "outputs": [
    {
     "data": {
      "text/plain": [
       "array([ 0.        ,  0.        ,  0.        ,  0.        ,  0.        ,\n",
       "        0.        ,  0.        ,  0.        ,  0.        ,  0.        ,\n",
       "        0.        ,  0.        ,  0.01176471,  0.07058824,  0.07058824,\n",
       "        0.07058824,  0.49411765,  0.53333336,  0.68627453,  0.10196079,\n",
       "        0.65098041,  1.        ,  0.96862745,  0.49803922,  0.        ,\n",
       "        0.        ,  0.        ,  0.        ], dtype=float32)"
      ]
     },
     "execution_count": 64,
     "metadata": {},
     "output_type": "execute_result"
    }
   ],
   "source": [
    "X_train[0][5]"
   ]
  },
  {
   "cell_type": "markdown",
   "metadata": {},
   "source": [
    "<table>\n",
    " <tr><td><img src=\"img/question.png\" style=\"width:80px;height:80px;\"></td><td>\n",
    "Perform a similar transformation for the X_test data, saving the reshaped data into a variable named *testvectors*. Note that the number of pattens in the test data is different from the number of patterns in the training data.\n",
    " </td></tr>\n",
    "</table>"
   ]
  },
  {
   "cell_type": "code",
   "execution_count": 26,
   "metadata": {
    "collapsed": false
   },
   "outputs": [
    {
     "data": {
      "text/plain": [
       "(10000, 784)"
      ]
     },
     "execution_count": 26,
     "metadata": {},
     "output_type": "execute_result"
    }
   ],
   "source": [
    "####### INSERT YOUR CODE HERE\n",
    "testvectors = X_test.reshape(10000,784)\n",
    "testvectors.shape"
   ]
  },
  {
   "cell_type": "markdown",
   "metadata": {},
   "source": [
    "Now we can invoke the **fit** method of the network, which will perform the training process. It is done as follows"
   ]
  },
  {
   "cell_type": "code",
   "execution_count": 27,
   "metadata": {
    "collapsed": false,
    "scrolled": true
   },
   "outputs": [
    {
     "name": "stdout",
     "output_type": "stream",
     "text": [
      "Epoch 1/20\n",
      "5s - loss: 1.2713 - acc: 0.7070\n",
      "Epoch 2/20\n",
      "4s - loss: 0.7116 - acc: 0.8410\n",
      "Epoch 3/20\n",
      "4s - loss: 0.5840 - acc: 0.8596\n",
      "Epoch 4/20\n",
      "4s - loss: 0.5226 - acc: 0.8692\n",
      "Epoch 5/20\n",
      "4s - loss: 0.4852 - acc: 0.8759\n",
      "Epoch 6/20\n",
      "4s - loss: 0.4595 - acc: 0.8798\n",
      "Epoch 7/20\n",
      "4s - loss: 0.4405 - acc: 0.8840\n",
      "Epoch 8/20\n",
      "4s - loss: 0.4257 - acc: 0.8867\n",
      "Epoch 9/20\n",
      "4s - loss: 0.4137 - acc: 0.8894\n",
      "Epoch 10/20\n",
      "4s - loss: 0.4039 - acc: 0.8914\n",
      "Epoch 11/20\n",
      "4s - loss: 0.3955 - acc: 0.8933\n",
      "Epoch 12/20\n",
      "4s - loss: 0.3883 - acc: 0.8948\n",
      "Epoch 13/20\n",
      "4s - loss: 0.3820 - acc: 0.8957\n",
      "Epoch 14/20\n",
      "4s - loss: 0.3764 - acc: 0.8969\n",
      "Epoch 15/20\n",
      "4s - loss: 0.3714 - acc: 0.8980\n",
      "Epoch 16/20\n",
      "4s - loss: 0.3669 - acc: 0.8992\n",
      "Epoch 17/20\n",
      "4s - loss: 0.3629 - acc: 0.9003\n",
      "Epoch 18/20\n",
      "4s - loss: 0.3592 - acc: 0.9011\n",
      "Epoch 19/20\n",
      "4s - loss: 0.3559 - acc: 0.9017\n",
      "Epoch 20/20\n",
      "4s - loss: 0.3527 - acc: 0.9027\n"
     ]
    },
    {
     "data": {
      "text/plain": [
       "<keras.callbacks.History at 0xa3507f0>"
      ]
     },
     "execution_count": 27,
     "metadata": {},
     "output_type": "execute_result"
    }
   ],
   "source": [
    "model.fit(\n",
    "    trainvectors, # Training data\n",
    "    Y_train, # Labels of training data\n",
    "    batch_size=128, # Batch size for the optimizer algorithm\n",
    "    nb_epoch=20, # Number of epochs to run the optimizer algorithm\n",
    "    verbose=2 # Level of verbosity of the log messages\n",
    ")"
   ]
  },
  {
   "cell_type": "markdown",
   "metadata": {},
   "source": [
    "Now that our neural network model is trained, we can obtain class predictions for the test set as follows:"
   ]
  },
  {
   "cell_type": "code",
   "execution_count": 28,
   "metadata": {
    "collapsed": false
   },
   "outputs": [
    {
     "name": "stdout",
     "output_type": "stream",
     "text": [
      "10000/10000 [==============================] - 2s     \n"
     ]
    }
   ],
   "source": [
    "preds = model.predict_classes(testvectors)"
   ]
  },
  {
   "cell_type": "markdown",
   "metadata": {},
   "source": [
    "So for instance, the first image in the test set and its predicted class are"
   ]
  },
  {
   "cell_type": "code",
   "execution_count": 29,
   "metadata": {
    "collapsed": false
   },
   "outputs": [
    {
     "name": "stdout",
     "output_type": "stream",
     "text": [
      "Real class 7 predicted class 7\n"
     ]
    },
    {
     "data": {
      "image/png": "[encoded data removed]",
      "text/plain": [
       "<matplotlib.figure.Figure at 0xa555eb8>"
      ]
     },
     "metadata": {},
     "output_type": "display_data"
    }
   ],
   "source": [
    "plt.imshow(X_test[0], 'gray')\n",
    "print(\"Real class\", y_test[0], \"predicted class\", preds[0])"
   ]
  },
  {
   "cell_type": "markdown",
   "metadata": {},
   "source": [
    "<table>\n",
    " <tr><td><img src=\"img/question.png\" style=\"width:80px;height:80px;\"></td><td>\n",
    "Compare the predicted and real classes for other images in the test set. Can you find any error?\n",
    " </td></tr>\n",
    "</table>"
   ]
  },
  {
   "cell_type": "markdown",
   "metadata": {},
   "source": [
    "<table>\n",
    " <tr><td><img src=\"img/exclamation.png\" style=\"width:80px;height:80px;\"></td><td>\n",
    "You can spot all the errors in an automated way by comparing *y_test* against *preds* and getting the indexes of the mismatching elements. The function <a href=http://docs.scipy.org/doc/numpy-1.10.1/reference/generated/numpy.where.html>np.where</a> might also help.\n",
    " </td></tr>\n",
    "</table>"
   ]
  },
  {
   "cell_type": "code",
   "execution_count": 68,
   "metadata": {
    "collapsed": false
   },
   "outputs": [
    {
     "name": "stdout",
     "output_type": "stream",
     "text": [
      "<class 'tuple'>\n",
      "1\n",
      "898\n",
      "(array([   8,   33,   46,   63,   77,   92,  111,  124,  149,  193,  195,\n",
      "        217,  233,  241,  243,  245,  247,  259,  290,  300,  307,  313,\n",
      "        318,  320,  321,  325,  340,  341,  352,  362,  403,  435,  444,\n",
      "        445,  448,  449,  464,  468,  478,  479,  483,  495,  502,  507,\n",
      "        511,  515,  530,  531,  536,  543,  551,  553,  565,  569,  578,\n",
      "        582,  591,  605,  610,  613,  619,  624,  627,  628,  629,  638,\n",
      "        658,  659,  684,  691,  707,  717,  720,  728,  738,  740,  741,\n",
      "        760,  781,  791,  795,  800,  839,  844,  857,  881,  882,  898,\n",
      "        900,  924,  938,  939,  944,  947,  950,  956,  959,  965,  975,\n",
      "        982, 1012, 1014, 1032, 1033, 1039, 1044, 1050, 1062, 1068, 1082,\n",
      "       1096, 1101, 1107, 1112, 1114, 1119, 1147, 1173, 1181, 1192, 1194,\n",
      "       1198, 1200, 1202, 1204, 1206, 1208, 1217, 1224, 1226, 1228, 1232,\n",
      "       1233, 1234, 1242, 1247, 1248, 1251, 1256, 1260, 1283, 1289, 1291,\n",
      "       1299, 1319, 1326, 1328, 1337, 1339, 1345, 1347, 1357, 1375, 1378,\n",
      "       1391, 1393, 1402, 1410, 1429, 1433, 1440, 1444, 1453, 1465, 1466,\n",
      "       1467, 1469, 1494, 1500, 1514, 1522, 1525, 1527, 1530, 1549, 1553,\n",
      "       1559, 1581, 1587, 1609, 1634, 1640, 1641, 1678, 1681, 1686, 1695,\n",
      "       1696, 1709, 1716, 1717, 1718, 1722, 1727, 1741, 1751, 1754, 1759,\n",
      "       1765, 1772, 1773, 1774, 1782, 1790, 1800, 1813, 1819, 1828, 1839,\n",
      "       1850, 1857, 1865, 1868, 1874, 1878, 1883, 1899, 1901, 1903, 1911,\n",
      "       1917, 1926, 1930, 1938, 1940, 1948, 1952, 1955, 1956, 1968, 1970,\n",
      "       1973, 1981, 1982, 1984, 1989, 1993, 2016, 2024, 2035, 2040, 2043,\n",
      "       2044, 2053, 2068, 2070, 2093, 2098, 2099, 2105, 2109, 2110, 2115,\n",
      "       2118, 2129, 2130, 2134, 2135, 2138, 2148, 2152, 2168, 2182, 2185,\n",
      "       2186, 2189, 2192, 2208, 2215, 2224, 2266, 2269, 2272, 2282, 2293,\n",
      "       2298, 2299, 2325, 2351, 2362, 2369, 2371, 2380, 2381, 2387, 2393,\n",
      "       2394, 2395, 2397, 2404, 2406, 2408, 2422, 2425, 2433, 2449, 2460,\n",
      "       2488, 2507, 2513, 2525, 2534, 2542, 2556, 2559, 2560, 2573, 2574,\n",
      "       2578, 2586, 2589, 2598, 2604, 2607, 2610, 2631, 2635, 2648, 2654,\n",
      "       2668, 2670, 2695, 2705, 2713, 2740, 2751, 2770, 2771, 2780, 2805,\n",
      "       2810, 2812, 2832, 2850, 2851, 2866, 2896, 2905, 2906, 2907, 2914,\n",
      "       2919, 2925, 2927, 2945, 2953, 2969, 2970, 2990, 2995, 3005, 3060,\n",
      "       3073, 3102, 3106, 3110, 3114, 3117, 3130, 3133, 3136, 3145, 3157,\n",
      "       3160, 3166, 3167, 3176, 3189, 3193, 3206, 3225, 3240, 3269, 3280,\n",
      "       3284, 3288, 3289, 3302, 3316, 3329, 3330, 3333, 3369, 3388, 3394,\n",
      "       3436, 3437, 3448, 3450, 3468, 3475, 3490, 3503, 3520, 3525, 3549,\n",
      "       3558, 3565, 3567, 3573, 3578, 3580, 3597, 3598, 3604, 3629, 3645,\n",
      "       3662, 3664, 3681, 3688, 3716, 3718, 3726, 3727, 3730, 3732, 3751,\n",
      "       3752, 3757, 3763, 3767, 3769, 3776, 3780, 3794, 3796, 3801, 3806,\n",
      "       3808, 3811, 3817, 3820, 3821, 3833, 3836, 3838, 3839, 3846, 3848,\n",
      "       3850, 3853, 3855, 3862, 3869, 3876, 3884, 3893, 3902, 3906, 3926,\n",
      "       3929, 3941, 3943, 3946, 3951, 3952, 3954, 3962, 3965, 3976, 3984,\n",
      "       3985, 4000, 4002, 4017, 4044, 4059, 4063, 4065, 4072, 4075, 4076,\n",
      "       4078, 4093, 4111, 4131, 4140, 4145, 4152, 4154, 4156, 4159, 4163,\n",
      "       4173, 4176, 4177, 4180, 4199, 4201, 4205, 4211, 4212, 4224, 4238,\n",
      "       4239, 4248, 4254, 4256, 4265, 4271, 4284, 4289, 4297, 4300, 4302,\n",
      "       4306, 4313, 4315, 4317, 4330, 4341, 4344, 4355, 4356, 4359, 4369,\n",
      "       4374, 4405, 4423, 4427, 4433, 4435, 4449, 4451, 4454, 4477, 4497,\n",
      "       4498, 4500, 4521, 4523, 4540, 4567, 4571, 4575, 4578, 4583, 4601,\n",
      "       4615, 4639, 4640, 4671, 4722, 4724, 4731, 4735, 4740, 4743, 4751,\n",
      "       4761, 4785, 4807, 4808, 4812, 4814, 4823, 4827, 4829, 4837, 4838,\n",
      "       4863, 4874, 4876, 4879, 4880, 4886, 4888, 4890, 4896, 4910, 4915,\n",
      "       4939, 4943, 4950, 4952, 4954, 4956, 4966, 4968, 4978, 4990, 5001,\n",
      "       5009, 5015, 5038, 5046, 5054, 5065, 5067, 5068, 5078, 5086, 5100,\n",
      "       5135, 5138, 5140, 5143, 5177, 5210, 5217, 5246, 5278, 5288, 5298,\n",
      "       5331, 5457, 5523, 5562, 5600, 5611, 5617, 5620, 5634, 5642, 5649,\n",
      "       5653, 5662, 5677, 5678, 5688, 5714, 5734, 5735, 5749, 5821, 5835,\n",
      "       5852, 5862, 5867, 5874, 5887, 5888, 5891, 5912, 5913, 5922, 5936,\n",
      "       5937, 5955, 5972, 5973, 5975, 5985, 6004, 6023, 6024, 6035, 6037,\n",
      "       6042, 6043, 6059, 6065, 6071, 6081, 6091, 6109, 6112, 6124, 6157,\n",
      "       6166, 6168, 6172, 6173, 6174, 6304, 6324, 6347, 6385, 6391, 6392,\n",
      "       6400, 6421, 6425, 6426, 6432, 6480, 6494, 6501, 6505, 6517, 6555,\n",
      "       6560, 6568, 6569, 6574, 6577, 6597, 6598, 6603, 6625, 6632, 6641,\n",
      "       6642, 6651, 6657, 6661, 6688, 6694, 6706, 6721, 6740, 6744, 6746,\n",
      "       6768, 6769, 6775, 6785, 6796, 6847, 6885, 6906, 6909, 6919, 6926,\n",
      "       7035, 7043, 7094, 7107, 7121, 7130, 7212, 7216, 7220, 7235, 7241,\n",
      "       7262, 7265, 7304, 7338, 7394, 7432, 7434, 7436, 7451, 7454, 7459,\n",
      "       7472, 7473, 7492, 7498, 7511, 7542, 7580, 7603, 7637, 7641, 7672,\n",
      "       7724, 7797, 7800, 7821, 7826, 7839, 7842, 7847, 7849, 7850, 7856,\n",
      "       7857, 7858, 7859, 7870, 7876, 7886, 7888, 7899, 7900, 7905, 7917,\n",
      "       7918, 7920, 7928, 7945, 8020, 8047, 8062, 8072, 8081, 8091, 8094,\n",
      "       8095, 8165, 8183, 8196, 8198, 8246, 8272, 8277, 8279, 8294, 8308,\n",
      "       8332, 8339, 8353, 8408, 8410, 8426, 8444, 8476, 8520, 8522, 8553,\n",
      "       8639, 9006, 9007, 9009, 9010, 9013, 9015, 9017, 9019, 9024, 9026,\n",
      "       9036, 9045, 9071, 9110, 9141, 9168, 9209, 9211, 9214, 9245, 9280,\n",
      "       9316, 9317, 9426, 9446, 9456, 9465, 9482, 9534, 9544, 9554, 9560,\n",
      "       9587, 9595, 9614, 9624, 9634, 9642, 9643, 9662, 9664, 9679, 9680,\n",
      "       9700, 9712, 9716, 9719, 9726, 9729, 9732, 9733, 9735, 9740, 9741,\n",
      "       9744, 9745, 9749, 9751, 9752, 9764, 9768, 9770, 9777, 9779, 9780,\n",
      "       9792, 9808, 9811, 9832, 9839, 9840, 9847, 9855, 9856, 9858, 9867,\n",
      "       9874, 9879, 9883, 9888, 9890, 9893, 9905, 9925, 9940, 9941, 9943,\n",
      "       9944, 9959, 9970, 9975, 9980, 9982, 9986], dtype=int64),)\n"
     ]
    }
   ],
   "source": [
    "####### INSERT YOUR CODE HERE\n",
    "import numpy as np\n",
    "erroneos = np.where(y_test!=preds)\n",
    "print(type(erroneos))\n",
    "print(len(erroneos))\n",
    "print(len(erroneos[0]))\n",
    "print(erroneos)"
   ]
  },
  {
   "cell_type": "code",
   "execution_count": 71,
   "metadata": {
    "collapsed": false
   },
   "outputs": [
    {
     "name": "stdout",
     "output_type": "stream",
     "text": [
      "Real class 5 predicted class 5 True\n",
      "Real class 9 predicted class 8 False\n",
      "Real class 8 predicted class 8 True\n",
      "Real class 7 predicted class 4 False\n",
      "Real class 2 predicted class 2 True\n",
      "Real class 3 predicted class 6 False\n",
      "Real class 0 predicted class 0 True\n",
      "Real class 4 predicted class 2 False\n",
      "Real class 4 predicted class 4 True\n",
      "Real class 2 predicted class 2 True\n",
      "\n",
      "Real class 9 predicted class 8\n"
     ]
    },
    {
     "data": {
      "image/png": "[encoded data removed]",
      "text/plain": [
       "<matplotlib.figure.Figure at 0x18f829b0>"
      ]
     },
     "metadata": {},
     "output_type": "display_data"
    }
   ],
   "source": [
    "[print(\"Real class\", y_test[n], \"predicted class\", preds[n], y_test[n]==preds[n] ) for n in range (240,250)]\n",
    "print(\"\")\n",
    "plt.imshow(X_test[241], 'gray')\n",
    "print(\"Real class\", y_test[241], \"predicted class\", preds[241])"
   ]
  },
  {
   "cell_type": "markdown",
   "metadata": {},
   "source": [
    "An overall accuracy measure can also be obtained by means of the **evaluate** method of the model"
   ]
  },
  {
   "cell_type": "code",
   "execution_count": 30,
   "metadata": {
    "collapsed": false
   },
   "outputs": [
    {
     "name": "stdout",
     "output_type": "stream",
     "text": [
      "10000/10000 [==============================] - 3s     \n",
      "Test loss 0.334776274955\n",
      "Test accuracy 0.9102\n"
     ]
    }
   ],
   "source": [
    "score = model.evaluate(testvectors, Y_test)\n",
    "print(\"Test loss\", score[0])\n",
    "print(\"Test accuracy\", score[1])"
   ]
  },
  {
   "cell_type": "markdown",
   "metadata": {},
   "source": [
    "<table>\n",
    " <tr><td><img src=\"img/question.png\" style=\"width:80px;height:80px;\"></td><td>\n",
    "Do you think the level of accuracy obtained is good enough for a real application? Consider that every time a digit is misclasified a package might be sent to the wrong address and, ZIP codes in the USA include up to 9 digits.\n",
    " </td></tr>\n",
    "</table>"
   ]
  },
  {
   "cell_type": "markdown",
   "metadata": {},
   "source": [
    "<span style=\"color:blue\">Sea el suceso $A = \\{\\mbox{acertar un dígito}\\}$. Se puede considerar que la probabilidad de que ocurra el suceso $A$ es la *accuracy* lograda por el perceptrón, es decir, $p(A) = 0,9102.$ Sea un código postal de Estados Unidos de 9 dígitos. Esto equivale a realizar el experimento 9 veces. Asumiendo que la probabilidad de acertar un dígito no influye en la de acertar los demás (sucesos independientes), la probabilidad de acertar correctamente el código postal es $p(A\\cap A\\cap\\stackrel{(9}{\\ldots}\\cap A)= p^9 = 0,9102^9 = 0,4288,$ que es bastante baja. Habría muchísimos errores en los envíos postales. Es necesario reducir la *accuracy* en test.</span>"
   ]
  },
  {
   "cell_type": "markdown",
   "metadata": {},
   "source": [
    "## Multilayer Perceptron"
   ]
  },
  {
   "cell_type": "markdown",
   "metadata": {},
   "source": [
    "A potential way to attain further improvements might be to create a deeper network, by adding layers of hidden units. This is easy to do in Keras, just by defining a new architecture with several Dense layers. For example, to build a network with a hidden layer of 10 units with sigmoid activation we would write:"
   ]
  },
  {
   "cell_type": "code",
   "execution_count": 34,
   "metadata": {
    "collapsed": true
   },
   "outputs": [],
   "source": [
    "model2 = Sequential()\n",
    "model2.add(Dense(10, input_shape=(784,)))\n",
    "model2.add(Activation('sigmoid'))\n",
    "model2.add(Dense(10))\n",
    "model2.add(Activation('softmax'))"
   ]
  },
  {
   "cell_type": "markdown",
   "metadata": {},
   "source": [
    "So we have the model"
   ]
  },
  {
   "cell_type": "code",
   "execution_count": 35,
   "metadata": {
    "collapsed": false
   },
   "outputs": [
    {
     "name": "stdout",
     "output_type": "stream",
     "text": [
      "____________________________________________________________________________________________________\n",
      "Layer (type)                     Output Shape          Param #     Connected to                     \n",
      "====================================================================================================\n",
      "dense_4 (Dense)                  (None, 10)            7850        dense_input_3[0][0]              \n",
      "____________________________________________________________________________________________________\n",
      "activation_4 (Activation)        (None, 10)            0           dense_4[0][0]                    \n",
      "____________________________________________________________________________________________________\n",
      "dense_5 (Dense)                  (None, 10)            110         activation_4[0][0]               \n",
      "____________________________________________________________________________________________________\n",
      "activation_5 (Activation)        (None, 10)            0           dense_5[0][0]                    \n",
      "====================================================================================================\n",
      "Total params: 7,960\n",
      "Trainable params: 7,960\n",
      "Non-trainable params: 0\n",
      "____________________________________________________________________________________________________\n"
     ]
    }
   ],
   "source": [
    "model2.summary()"
   ]
  },
  {
   "cell_type": "markdown",
   "metadata": {},
   "source": [
    "<table>\n",
    " <tr><td><img src=\"img/question.png\" style=\"width:80px;height:80px;\"></td><td>\n",
    "Compile the defined network and train it with the data. Then measure the accuracy over the test data. Have you managed to get any improvement over the previous Perceptron model?\n",
    " </td></tr>\n",
    "</table>"
   ]
  },
  {
   "cell_type": "code",
   "execution_count": 36,
   "metadata": {
    "collapsed": false,
    "scrolled": true
   },
   "outputs": [],
   "source": [
    "####### INSERT YOUR CODE HERE\n",
    "model2.compile(loss='categorical_crossentropy', optimizer='sgd', metrics=['accuracy'])"
   ]
  },
  {
   "cell_type": "code",
   "execution_count": 37,
   "metadata": {
    "collapsed": false
   },
   "outputs": [
    {
     "name": "stdout",
     "output_type": "stream",
     "text": [
      "Epoch 1/20\n",
      "5s - loss: 2.1887 - acc: 0.3298\n",
      "Epoch 2/20\n",
      "4s - loss: 1.9605 - acc: 0.5696\n",
      "Epoch 3/20\n",
      "4s - loss: 1.7685 - acc: 0.6206\n",
      "Epoch 4/20\n",
      "4s - loss: 1.5972 - acc: 0.6521\n",
      "Epoch 5/20\n",
      "4s - loss: 1.4469 - acc: 0.6839\n",
      "Epoch 6/20\n",
      "4s - loss: 1.3168 - acc: 0.7130\n",
      "Epoch 7/20\n",
      "4s - loss: 1.2050 - acc: 0.7391\n",
      "Epoch 8/20\n",
      "4s - loss: 1.1098 - acc: 0.7633\n",
      "Epoch 9/20\n",
      "4s - loss: 1.0289 - acc: 0.7831\n",
      "Epoch 10/20\n",
      "4s - loss: 0.9603 - acc: 0.7979\n",
      "Epoch 11/20\n",
      "4s - loss: 0.9020 - acc: 0.8097\n",
      "Epoch 12/20\n",
      "4s - loss: 0.8522 - acc: 0.8197\n",
      "Epoch 13/20\n",
      "4s - loss: 0.8093 - acc: 0.8267\n",
      "Epoch 14/20\n",
      "5s - loss: 0.7722 - acc: 0.8323\n",
      "Epoch 15/20\n",
      "4s - loss: 0.7398 - acc: 0.8377\n",
      "Epoch 16/20\n",
      "4s - loss: 0.7112 - acc: 0.8422\n",
      "Epoch 17/20\n",
      "4s - loss: 0.6859 - acc: 0.8456\n",
      "Epoch 18/20\n",
      "4s - loss: 0.6633 - acc: 0.8490\n",
      "Epoch 19/20\n",
      "4s - loss: 0.6431 - acc: 0.8519\n",
      "Epoch 20/20\n",
      "4s - loss: 0.6247 - acc: 0.8544\n"
     ]
    },
    {
     "data": {
      "text/plain": [
       "<keras.callbacks.History at 0x6cd6f60>"
      ]
     },
     "execution_count": 37,
     "metadata": {},
     "output_type": "execute_result"
    }
   ],
   "source": [
    "model2.fit(\n",
    "    trainvectors, # Training data\n",
    "    Y_train, # Labels of training data\n",
    "    batch_size=128, # Batch size for the optimizer algorithm\n",
    "    nb_epoch=20, # Number of epochs to run the optimizer algorithm\n",
    "    verbose=2 # Level of verbosity of the log messages\n",
    ")"
   ]
  },
  {
   "cell_type": "code",
   "execution_count": 72,
   "metadata": {
    "collapsed": false
   },
   "outputs": [
    {
     "name": "stdout",
     "output_type": "stream",
     "text": [
      " 9984/10000 [============================>.] - ETA: 0s"
     ]
    }
   ],
   "source": [
    "preds2 = model2.predict_classes(testvectors)"
   ]
  },
  {
   "cell_type": "code",
   "execution_count": 75,
   "metadata": {
    "collapsed": false
   },
   "outputs": [
    {
     "name": "stdout",
     "output_type": "stream",
     "text": [
      "1436\n"
     ]
    }
   ],
   "source": [
    "erroneos2 = np.where(y_test!=preds2)\n",
    "print(len(erroneos2[0]))"
   ]
  },
  {
   "cell_type": "code",
   "execution_count": 39,
   "metadata": {
    "collapsed": false
   },
   "outputs": [
    {
     "name": "stdout",
     "output_type": "stream",
     "text": [
      " 9984/10000 [============================>.] - ETA: 0s\n",
      "Test loss 0.603597908306\n",
      "Test accuracy 0.8564\n"
     ]
    }
   ],
   "source": [
    "score2 = model2.evaluate(testvectors, Y_test)\n",
    "print(\"\")\n",
    "print(\"Test loss\", score2[0])\n",
    "print(\"Test accuracy\", score2[1])"
   ]
  },
  {
   "cell_type": "markdown",
   "metadata": {},
   "source": [
    "<span style=\"color:blue\">No solo no ha mejorado la precisión sino que ha disminuido sensiblemente.</span>"
   ]
  },
  {
   "cell_type": "markdown",
   "metadata": {},
   "source": [
    "### Fine tuning the network design"
   ]
  },
  {
   "cell_type": "markdown",
   "metadata": {},
   "source": [
    "To improve the performance of the multilayer perceptron we will use the following:\n",
    "* Increase the number of hidden units\n",
    "* Use a better activation function: rectified linear\n",
    "* Use a better optimizer: adam"
   ]
  },
  {
   "cell_type": "markdown",
   "metadata": {},
   "source": [
    "This boils down to defining the network as"
   ]
  },
  {
   "cell_type": "code",
   "execution_count": 40,
   "metadata": {
    "collapsed": true
   },
   "outputs": [],
   "source": [
    "model3 = Sequential()\n",
    "model3.add(Dense(100, input_shape=(784,)))  # Aumentamos a 100 las unidades de la capa escondida.\n",
    "model3.add(Activation('relu'))\n",
    "model3.add(Dense(10))                 # La capa de salida corresponde a diez categorías.\n",
    "model3.add(Activation('softmax'))"
   ]
  },
  {
   "cell_type": "markdown",
   "metadata": {},
   "source": [
    "<table>\n",
    " <tr><td><img src=\"img/question.png\" style=\"width:80px;height:80px;\"></td><td>\n",
    "Compile the defined network, choosing \"adam\" as the optimization algorithm, and train it with the data. Then measure the accuracy over the test data. Did these changes give rise to better results?\n",
    " </td></tr>\n",
    "</table>"
   ]
  },
  {
   "cell_type": "code",
   "execution_count": 41,
   "metadata": {
    "collapsed": false,
    "scrolled": true
   },
   "outputs": [],
   "source": [
    "####### INSERT YOUR CODE HERE\n",
    "model3.compile(loss='categorical_crossentropy', optimizer='adam', metrics=['accuracy'])"
   ]
  },
  {
   "cell_type": "code",
   "execution_count": 42,
   "metadata": {
    "collapsed": false
   },
   "outputs": [
    {
     "name": "stdout",
     "output_type": "stream",
     "text": [
      "Epoch 1/20\n",
      "11s - loss: 0.3693 - acc: 0.9001\n",
      "Epoch 2/20\n",
      "11s - loss: 0.1708 - acc: 0.9518\n",
      "Epoch 3/20\n",
      "9s - loss: 0.1239 - acc: 0.9650\n",
      "Epoch 4/20\n",
      "9s - loss: 0.0979 - acc: 0.9718\n",
      "Epoch 5/20\n",
      "9s - loss: 0.0790 - acc: 0.9774\n",
      "Epoch 6/20\n",
      "9s - loss: 0.0663 - acc: 0.9808\n",
      "Epoch 7/20\n",
      "9s - loss: 0.0560 - acc: 0.9848\n",
      "Epoch 8/20\n",
      "9s - loss: 0.0485 - acc: 0.9857\n",
      "Epoch 9/20\n",
      "9s - loss: 0.0410 - acc: 0.9886\n",
      "Epoch 10/20\n",
      "9s - loss: 0.0357 - acc: 0.9906\n",
      "Epoch 11/20\n",
      "9s - loss: 0.0304 - acc: 0.9917\n",
      "Epoch 12/20\n",
      "9s - loss: 0.0260 - acc: 0.9931\n",
      "Epoch 13/20\n",
      "9s - loss: 0.0230 - acc: 0.9940\n",
      "Epoch 14/20\n",
      "9s - loss: 0.0198 - acc: 0.9952\n",
      "Epoch 15/20\n",
      "9s - loss: 0.0164 - acc: 0.9964\n",
      "Epoch 16/20\n",
      "9s - loss: 0.0147 - acc: 0.9967\n",
      "Epoch 17/20\n",
      "9s - loss: 0.0129 - acc: 0.9971\n",
      "Epoch 18/20\n",
      "9s - loss: 0.0107 - acc: 0.9978\n",
      "Epoch 19/20\n",
      "9s - loss: 0.0094 - acc: 0.9981\n",
      "Epoch 20/20\n",
      "9s - loss: 0.0082 - acc: 0.9986\n"
     ]
    },
    {
     "data": {
      "text/plain": [
       "<keras.callbacks.History at 0x179b99b0>"
      ]
     },
     "execution_count": 42,
     "metadata": {},
     "output_type": "execute_result"
    }
   ],
   "source": [
    "model3.fit(\n",
    "    trainvectors, # Training data\n",
    "    Y_train, # Labels of training data\n",
    "    batch_size=128, # Batch size for the optimizer algorithm\n",
    "    nb_epoch=20, # Number of epochs to run the optimizer algorithm\n",
    "    verbose=2 # Level of verbosity of the log messages\n",
    ")"
   ]
  },
  {
   "cell_type": "code",
   "execution_count": 43,
   "metadata": {
    "collapsed": false
   },
   "outputs": [
    {
     "name": "stdout",
     "output_type": "stream",
     "text": [
      "10000/10000 [==============================] - 4s     \n",
      "Test loss 0.0760086516795\n",
      "Test accuracy 0.9785\n"
     ]
    }
   ],
   "source": [
    "score3 = model3.evaluate(testvectors, Y_test)\n",
    "print(\"Test loss\", score3[0])\n",
    "print(\"Test accuracy\", score3[1])"
   ]
  },
  {
   "cell_type": "markdown",
   "metadata": {},
   "source": [
    "<span style=\"color:blue\">Ahora la *accuracy* ha aumentado notablemente. La probabilidad de acertar un código postal de 9 dígitos pasa a ser $0,9785^9 = 0,8223.$</span>"
   ]
  },
  {
   "cell_type": "markdown",
   "metadata": {},
   "source": [
    "### More layers"
   ]
  },
  {
   "cell_type": "markdown",
   "metadata": {},
   "source": [
    "<table>\n",
    " <tr><td><img src=\"img/question.png\" style=\"width:80px;height:80px;\"></td><td>\n",
    "Define a new network with two hidden layers, each of 512 hidden units with rectified linear activation. For the output use the softmax activation. Compile the defined network, choosing \"adam\" as the optimization algorithm, and train it with the data. Then measure the accuracy over the test data. How are you doing now?\n",
    " </td></tr>\n",
    "</table>"
   ]
  },
  {
   "cell_type": "code",
   "execution_count": 44,
   "metadata": {
    "collapsed": false,
    "scrolled": true
   },
   "outputs": [],
   "source": [
    "####### INSERT YOUR CODE HERE\n",
    "model4 = Sequential()\n",
    "model4.add(Dense(512, input_shape=(784,)))\n",
    "model4.add(Activation('relu'))\n",
    "model4.add(Dense(512))\n",
    "model4.add(Activation('relu'))\n",
    "model4.add(Dense(10))\n",
    "model4.add(Activation('softmax'))"
   ]
  },
  {
   "cell_type": "code",
   "execution_count": 45,
   "metadata": {
    "collapsed": false
   },
   "outputs": [
    {
     "name": "stdout",
     "output_type": "stream",
     "text": [
      "____________________________________________________________________________________________________\n",
      "Layer (type)                     Output Shape          Param #     Connected to                     \n",
      "====================================================================================================\n",
      "dense_8 (Dense)                  (None, 512)           401920      dense_input_5[0][0]              \n",
      "____________________________________________________________________________________________________\n",
      "activation_8 (Activation)        (None, 512)           0           dense_8[0][0]                    \n",
      "____________________________________________________________________________________________________\n",
      "dense_9 (Dense)                  (None, 512)           262656      activation_8[0][0]               \n",
      "____________________________________________________________________________________________________\n",
      "activation_9 (Activation)        (None, 512)           0           dense_9[0][0]                    \n",
      "____________________________________________________________________________________________________\n",
      "dense_10 (Dense)                 (None, 10)            5130        activation_9[0][0]               \n",
      "____________________________________________________________________________________________________\n",
      "activation_10 (Activation)       (None, 10)            0           dense_10[0][0]                   \n",
      "====================================================================================================\n",
      "Total params: 669,706\n",
      "Trainable params: 669,706\n",
      "Non-trainable params: 0\n",
      "____________________________________________________________________________________________________\n"
     ]
    }
   ],
   "source": [
    "model4.summary()"
   ]
  },
  {
   "cell_type": "code",
   "execution_count": 46,
   "metadata": {
    "collapsed": true
   },
   "outputs": [],
   "source": [
    "model4.compile(loss='categorical_crossentropy', optimizer='adam', metrics=['accuracy'])"
   ]
  },
  {
   "cell_type": "code",
   "execution_count": 47,
   "metadata": {
    "collapsed": false
   },
   "outputs": [
    {
     "name": "stdout",
     "output_type": "stream",
     "text": [
      "Epoch 1/20\n",
      "71s - loss: 0.2164 - acc: 0.9354\n",
      "Epoch 2/20\n",
      "70s - loss: 0.0793 - acc: 0.9755\n",
      "Epoch 3/20\n",
      "70s - loss: 0.0508 - acc: 0.9834\n",
      "Epoch 4/20\n",
      "73s - loss: 0.0360 - acc: 0.9884\n",
      "Epoch 5/20\n",
      "71s - loss: 0.0274 - acc: 0.9911\n",
      "Epoch 6/20\n",
      "71s - loss: 0.0215 - acc: 0.9927\n",
      "Epoch 7/20\n",
      "73s - loss: 0.0180 - acc: 0.9941\n",
      "Epoch 8/20\n",
      "71s - loss: 0.0182 - acc: 0.9940\n",
      "Epoch 9/20\n",
      "71s - loss: 0.0171 - acc: 0.9941\n",
      "Epoch 10/20\n",
      "75s - loss: 0.0127 - acc: 0.9960\n",
      "Epoch 11/20\n",
      "71s - loss: 0.0126 - acc: 0.9959\n",
      "Epoch 12/20\n",
      "71s - loss: 0.0121 - acc: 0.9962\n",
      "Epoch 13/20\n",
      "73s - loss: 0.0100 - acc: 0.9968\n",
      "Epoch 14/20\n",
      "72s - loss: 0.0081 - acc: 0.9975\n",
      "Epoch 15/20\n",
      "72s - loss: 0.0100 - acc: 0.9968\n",
      "Epoch 16/20\n",
      "73s - loss: 0.0103 - acc: 0.9970\n",
      "Epoch 17/20\n",
      "72s - loss: 0.0098 - acc: 0.9968\n",
      "Epoch 18/20\n",
      "72s - loss: 0.0095 - acc: 0.9969\n",
      "Epoch 19/20\n",
      "72s - loss: 0.0105 - acc: 0.9969\n",
      "Epoch 20/20\n",
      "73s - loss: 0.0051 - acc: 0.9983\n"
     ]
    },
    {
     "data": {
      "text/plain": [
       "<keras.callbacks.History at 0x17d80e48>"
      ]
     },
     "execution_count": 47,
     "metadata": {},
     "output_type": "execute_result"
    }
   ],
   "source": [
    "model4.fit(\n",
    "    trainvectors, # Training data\n",
    "    Y_train, # Labels of training data\n",
    "    batch_size=128, # Batch size for the optimizer algorithm\n",
    "    nb_epoch=20, # Number of epochs to run the optimizer algorithm\n",
    "    verbose=2 # Level of verbosity of the log messages\n",
    ")"
   ]
  },
  {
   "cell_type": "code",
   "execution_count": 48,
   "metadata": {
    "collapsed": false
   },
   "outputs": [
    {
     "name": "stdout",
     "output_type": "stream",
     "text": [
      "10000/10000 [==============================] - 10s    \n",
      "\n",
      "Test loss 0.0958513206586\n",
      "Test accuracy 0.9826\n"
     ]
    }
   ],
   "source": [
    "score4 = model4.evaluate(testvectors, Y_test)\n",
    "print(\"\")\n",
    "print(\"Test loss\", score4[0])\n",
    "print(\"Test accuracy\", score4[1])"
   ]
  },
  {
   "cell_type": "markdown",
   "metadata": {},
   "source": [
    "<span style=\"color:blue\">El añadir una capa escondida adicional y más unidades por capa ha incrementado la *accuracy*, aunque el aumento ya no es tan notorio. Lograr una pequeña mejora implica un aumento notable de la red y, por tanto, de pasos de procesamiento. La probabilidad ahora de acertar un código postal de 9 dígitos es $0,9826^9 = 0,8539.$</span>"
   ]
  },
  {
   "cell_type": "markdown",
   "metadata": {},
   "source": [
    "### Introducing regularization"
   ]
  },
  {
   "cell_type": "markdown",
   "metadata": {},
   "source": [
    "Regularization can help improve the performance of a network, specially when the number of network parameters becomes large and this leads to better performance in training data than in test data, which is to say, overfitting. One of the most simple and effective ways of doing so is by using **dropout**. In Keras dropout is imposed on a layer by adding a **Dropout** layer just after the activation layer in which we wish to impose regularization. For instance, to create a dropout layer of a 30% probability of dropping an input unit we write"
   ]
  },
  {
   "cell_type": "code",
   "execution_count": 49,
   "metadata": {
    "collapsed": false
   },
   "outputs": [
    {
     "data": {
      "text/plain": [
       "<keras.layers.core.Dropout at 0x17acf908>"
      ]
     },
     "execution_count": 49,
     "metadata": {},
     "output_type": "execute_result"
    }
   ],
   "source": [
    "from keras.layers.core import Dropout\n",
    "Dropout(0.3)"
   ]
  },
  {
   "cell_type": "markdown",
   "metadata": {},
   "source": [
    "We would just need to add this layer to the model to produce the dropout effect."
   ]
  },
  {
   "cell_type": "markdown",
   "metadata": {},
   "source": [
    "<table>\n",
    " <tr><td><img src=\"img/question.png\" style=\"width:80px;height:80px;\"></td><td>\n",
    "Define a new network with two hidden layers, each of 512 hidden units with rectified linear activation. Both hidden layers should have a Dropout of 40%. For the output use the softmax activation. Compile the defined network, choosing \"adam\" as the optimization algorithm, and train it with the data. Then measure the accuracy over the test data. Has dropout helped?\n",
    " </td></tr>\n",
    "</table>"
   ]
  },
  {
   "cell_type": "code",
   "execution_count": 50,
   "metadata": {
    "collapsed": false,
    "scrolled": true
   },
   "outputs": [],
   "source": [
    "####### INSERT YOUR CODE HERE\n",
    "model5 = Sequential()\n",
    "model5.add(Dense(512, input_shape=(784,)))\n",
    "model5.add(Activation('relu'))\n",
    "model5.add(Dropout(0.4))\n",
    "model5.add(Dense(512))\n",
    "model5.add(Activation('relu'))\n",
    "model5.add(Dropout(0.4))\n",
    "model5.add(Dense(10))\n",
    "model5.add(Activation('softmax'))"
   ]
  },
  {
   "cell_type": "code",
   "execution_count": 51,
   "metadata": {
    "collapsed": false
   },
   "outputs": [
    {
     "name": "stdout",
     "output_type": "stream",
     "text": [
      "____________________________________________________________________________________________________\n",
      "Layer (type)                     Output Shape          Param #     Connected to                     \n",
      "====================================================================================================\n",
      "dense_11 (Dense)                 (None, 512)           401920      dense_input_6[0][0]              \n",
      "____________________________________________________________________________________________________\n",
      "activation_11 (Activation)       (None, 512)           0           dense_11[0][0]                   \n",
      "____________________________________________________________________________________________________\n",
      "dropout_2 (Dropout)              (None, 512)           0           activation_11[0][0]              \n",
      "____________________________________________________________________________________________________\n",
      "dense_12 (Dense)                 (None, 512)           262656      dropout_2[0][0]                  \n",
      "____________________________________________________________________________________________________\n",
      "activation_12 (Activation)       (None, 512)           0           dense_12[0][0]                   \n",
      "____________________________________________________________________________________________________\n",
      "dropout_3 (Dropout)              (None, 512)           0           activation_12[0][0]              \n",
      "____________________________________________________________________________________________________\n",
      "dense_13 (Dense)                 (None, 10)            5130        dropout_3[0][0]                  \n",
      "____________________________________________________________________________________________________\n",
      "activation_13 (Activation)       (None, 10)            0           dense_13[0][0]                   \n",
      "====================================================================================================\n",
      "Total params: 669,706\n",
      "Trainable params: 669,706\n",
      "Non-trainable params: 0\n",
      "____________________________________________________________________________________________________\n"
     ]
    }
   ],
   "source": [
    "model5.summary()"
   ]
  },
  {
   "cell_type": "code",
   "execution_count": 52,
   "metadata": {
    "collapsed": true
   },
   "outputs": [],
   "source": [
    "model5.compile(loss='categorical_crossentropy', optimizer='adam', metrics=['accuracy'])"
   ]
  },
  {
   "cell_type": "code",
   "execution_count": 53,
   "metadata": {
    "collapsed": false
   },
   "outputs": [
    {
     "name": "stdout",
     "output_type": "stream",
     "text": [
      "Epoch 1/20\n",
      "78s - loss: 0.3025 - acc: 0.9076\n",
      "Epoch 2/20\n",
      "77s - loss: 0.1338 - acc: 0.9587\n",
      "Epoch 3/20\n",
      "77s - loss: 0.0990 - acc: 0.9690\n",
      "Epoch 4/20\n",
      "78s - loss: 0.0851 - acc: 0.9735\n",
      "Epoch 5/20\n",
      "78s - loss: 0.0747 - acc: 0.9764\n",
      "Epoch 6/20\n",
      "79s - loss: 0.0644 - acc: 0.9793\n",
      "Epoch 7/20\n",
      "77s - loss: 0.0593 - acc: 0.9810\n",
      "Epoch 8/20\n",
      "76s - loss: 0.0531 - acc: 0.9828\n",
      "Epoch 9/20\n",
      "76s - loss: 0.0497 - acc: 0.9841\n",
      "Epoch 10/20\n",
      "76s - loss: 0.0438 - acc: 0.9858\n",
      "Epoch 11/20\n",
      "78s - loss: 0.0457 - acc: 0.9852\n",
      "Epoch 12/20\n",
      "77s - loss: 0.0404 - acc: 0.9866\n",
      "Epoch 13/20\n",
      "77s - loss: 0.0401 - acc: 0.9872\n",
      "Epoch 14/20\n",
      "80s - loss: 0.0384 - acc: 0.9869\n",
      "Epoch 15/20\n",
      "77s - loss: 0.0365 - acc: 0.9882\n",
      "Epoch 16/20\n",
      "76s - loss: 0.0349 - acc: 0.9892\n",
      "Epoch 17/20\n",
      "76s - loss: 0.0330 - acc: 0.9890\n",
      "Epoch 18/20\n",
      "81s - loss: 0.0337 - acc: 0.9894\n",
      "Epoch 19/20\n",
      "78s - loss: 0.0299 - acc: 0.9898\n",
      "Epoch 20/20\n",
      "78s - loss: 0.0306 - acc: 0.9900\n"
     ]
    },
    {
     "data": {
      "text/plain": [
       "<keras.callbacks.History at 0x18a8aef0>"
      ]
     },
     "execution_count": 53,
     "metadata": {},
     "output_type": "execute_result"
    }
   ],
   "source": [
    "model5.fit(\n",
    "    trainvectors, # Training data\n",
    "    Y_train, # Labels of training data\n",
    "    batch_size=128, # Batch size for the optimizer algorithm\n",
    "    nb_epoch=20, # Number of epochs to run the optimizer algorithm\n",
    "    verbose=2 # Level of verbosity of the log messages\n",
    ")"
   ]
  },
  {
   "cell_type": "code",
   "execution_count": 76,
   "metadata": {
    "collapsed": false
   },
   "outputs": [
    {
     "name": "stdout",
     "output_type": "stream",
     "text": [
      "10000/10000 [==============================] - 9s     \n",
      "\n",
      "Test loss 0.06070379647\n",
      "Test accuracy 0.9846\n"
     ]
    }
   ],
   "source": [
    "score5=model5.evaluate(testvectors, Y_test)\n",
    "print(\"\")\n",
    "print(\"Test loss\", score5[0])\n",
    "print(\"Test accuracy\", score5[1])"
   ]
  },
  {
   "cell_type": "markdown",
   "metadata": {},
   "source": [
    "<span style=\"color:blue\">Al considerar regularización mediante *dropout* ha mejorado muy ligeramente la *accuracy*, en solo dos décimas porcentuales. La probabilidad ahora de acertar un código postal de 9 dígitos es $0,9846^9 = 0,8696.$</span>"
   ]
  },
  {
   "cell_type": "markdown",
   "metadata": {},
   "source": [
    "<table>\n",
    " <tr><td><img src=\"img/question.png\" style=\"width:80px;height:80px;\"></td><td>\n",
    "Try training a network with more hidden layers. Does the performance improve in any way by doing this?\n",
    " </td></tr>\n",
    "</table>"
   ]
  },
  {
   "cell_type": "code",
   "execution_count": 77,
   "metadata": {
    "collapsed": false,
    "scrolled": true
   },
   "outputs": [
    {
     "name": "stdout",
     "output_type": "stream",
     "text": [
      "____________________________________________________________________________________________________\n",
      "Layer (type)                     Output Shape          Param #     Connected to                     \n",
      "====================================================================================================\n",
      "dense_2 (Dense)                  (None, 10)            7850        dense_input_2[0][0]              \n",
      "____________________________________________________________________________________________________\n",
      "activation_2 (Activation)        (None, 10)            0           dense_2[0][0]                    \n",
      "____________________________________________________________________________________________________\n",
      "dense_3 (Dense)                  (None, 10)            110         activation_2[0][0]               \n",
      "____________________________________________________________________________________________________\n",
      "activation_3 (Activation)        (None, 10)            0           dense_3[0][0]                    \n",
      "====================================================================================================\n",
      "Total params: 7,960\n",
      "Trainable params: 7,960\n",
      "Non-trainable params: 0\n",
      "____________________________________________________________________________________________________\n"
     ]
    }
   ],
   "source": [
    "####### INSERT YOUR CODE HERE\n",
    "model6 = Sequential()\n",
    "model6.add(Dense(512, input_shape=(784,)))\n",
    "model6.add(Activation('relu'))\n",
    "model6.add(Dropout(0.4))\n",
    "model6.add(Dense(512))\n",
    "model6.add(Activation('relu'))\n",
    "model6.add(Dropout(0.4))\n",
    "model6.add(Dense(512))\n",
    "model6.add(Activation('relu'))\n",
    "model6.add(Dropout(0.4))\n",
    "model6.add(Dense(10))\n",
    "model6.add(Activation('softmax'))\n",
    "\n",
    "model.summary()"
   ]
  },
  {
   "cell_type": "code",
   "execution_count": 78,
   "metadata": {
    "collapsed": true
   },
   "outputs": [],
   "source": [
    "model6.compile(loss='categorical_crossentropy', optimizer='adam', metrics=['accuracy'])"
   ]
  },
  {
   "cell_type": "code",
   "execution_count": 79,
   "metadata": {
    "collapsed": false
   },
   "outputs": [
    {
     "name": "stdout",
     "output_type": "stream",
     "text": [
      "Epoch 1/20\n",
      "114s - loss: 0.3390 - acc: 0.8947\n",
      "Epoch 2/20\n",
      "111s - loss: 0.1508 - acc: 0.9543\n",
      "Epoch 3/20\n",
      "112s - loss: 0.1194 - acc: 0.9650\n",
      "Epoch 4/20\n",
      "112s - loss: 0.0996 - acc: 0.9701\n",
      "Epoch 5/20\n",
      "114s - loss: 0.0913 - acc: 0.9732\n",
      "Epoch 6/20\n",
      "112s - loss: 0.0810 - acc: 0.9751\n",
      "Epoch 7/20\n",
      "112s - loss: 0.0716 - acc: 0.9784\n",
      "Epoch 8/20\n",
      "113s - loss: 0.0691 - acc: 0.9791\n",
      "Epoch 9/20\n",
      "114s - loss: 0.0638 - acc: 0.9805\n",
      "Epoch 10/20\n",
      "113s - loss: 0.0593 - acc: 0.9818\n",
      "Epoch 11/20\n",
      "116s - loss: 0.0584 - acc: 0.9828\n",
      "Epoch 12/20\n",
      "113s - loss: 0.0575 - acc: 0.9817\n",
      "Epoch 13/20\n",
      "112s - loss: 0.0490 - acc: 0.9846\n",
      "Epoch 14/20\n",
      "113s - loss: 0.0500 - acc: 0.9847\n",
      "Epoch 15/20\n",
      "114s - loss: 0.0476 - acc: 0.9857\n",
      "Epoch 16/20\n",
      "113s - loss: 0.0481 - acc: 0.9852\n",
      "Epoch 17/20\n",
      "113s - loss: 0.0435 - acc: 0.9872\n",
      "Epoch 18/20\n",
      "112s - loss: 0.0435 - acc: 0.9871\n",
      "Epoch 19/20\n",
      "114s - loss: 0.0426 - acc: 0.9870\n",
      "Epoch 20/20\n",
      "113s - loss: 0.0415 - acc: 0.9869\n"
     ]
    },
    {
     "data": {
      "text/plain": [
       "<keras.callbacks.History at 0x19f5a588>"
      ]
     },
     "execution_count": 79,
     "metadata": {},
     "output_type": "execute_result"
    }
   ],
   "source": [
    "model6.fit(\n",
    "    trainvectors, # Training data\n",
    "    Y_train, # Labels of training data\n",
    "    batch_size=128, # Batch size for the optimizer algorithm\n",
    "    nb_epoch=20, # Number of epochs to run the optimizer algorithm\n",
    "    verbose=2 # Level of verbosity of the log messages\n",
    ")"
   ]
  },
  {
   "cell_type": "code",
   "execution_count": 80,
   "metadata": {
    "collapsed": false
   },
   "outputs": [
    {
     "name": "stdout",
     "output_type": "stream",
     "text": [
      "10000/10000 [==============================] - 13s    \n",
      "\n",
      "Test loss 0.0620377490216\n",
      "Test accuracy 0.9839\n"
     ]
    }
   ],
   "source": [
    "score6=model6.evaluate(testvectors,Y_test)\n",
    "print(\"\")\n",
    "print(\"Test loss\", score6[0])\n",
    "print(\"Test accuracy\", score6[1])"
   ]
  },
  {
   "cell_type": "markdown",
   "metadata": {},
   "source": [
    "<span style=\"color:blue\">Añadir capas adicionales ya no mejora la *accuracy*. De hecho, ha habido un ligero empeoramiento.</span>"
   ]
  },
  {
   "cell_type": "markdown",
   "metadata": {},
   "source": [
    "## Convolutional Neural Networks"
   ]
  },
  {
   "cell_type": "markdown",
   "metadata": {},
   "source": [
    "To further improve on this image recognition problem we need network layers that do consider the data as images, and take into account closeness of pixels to make decisions instead of just throwing all pixel data into a fully connected network and expect intelligence to emerge from chaos. **Convolutional** and **Pooling** layers are the best way to do so."
   ]
  },
  {
   "cell_type": "markdown",
   "metadata": {},
   "source": [
    "### Formatting the data as tensors"
   ]
  },
  {
   "cell_type": "markdown",
   "metadata": {},
   "source": [
    "While for the perceptrons above we vectorized the data to fit into the perceptron framework, for convolutional networks we will need to shape the data in the form of a **4-dimensional tensor**. The dimensions of such tensor represent the following:\n",
    "* Image index (e.g. 3th image in the dataset)\n",
    "* Row index\n",
    "* Column index\n",
    "* Channel index (e.g. colour channel in colored images)"
   ]
  },
  {
   "cell_type": "markdown",
   "metadata": {},
   "source": [
    "We again make use of the reshape function to perform this transformation. We have 60000 images in our training set, and those images have 28 rows x 28 columns. Since these images are grayscale, the channel dimension only contains one channel:"
   ]
  },
  {
   "cell_type": "code",
   "execution_count": 81,
   "metadata": {
    "collapsed": true
   },
   "outputs": [],
   "source": [
    "traintensor = X_train.reshape(60000, 28, 28, 1)"
   ]
  },
  {
   "cell_type": "markdown",
   "metadata": {},
   "source": [
    "<table>\n",
    " <tr><td><img src=\"img/question.png\" style=\"width:80px;height:80px;\"></td><td>\n",
    "Repeat the transformation for the test data. Save the resulting tensor in a variable named *testtensor*.\n",
    " </td></tr>\n",
    "</table>"
   ]
  },
  {
   "cell_type": "code",
   "execution_count": 82,
   "metadata": {
    "collapsed": true
   },
   "outputs": [],
   "source": [
    "####### INSERT YOUR CODE HERE\n",
    "testtensor = X_test.reshape(10000,28,28,1)"
   ]
  },
  {
   "cell_type": "markdown",
   "metadata": {},
   "source": [
    "### Convolution and pooling layers"
   ]
  },
  {
   "cell_type": "markdown",
   "metadata": {},
   "source": [
    "When defining a convolutional network, Convolution and Pooling layers work together. The most popular way of using these layers is in the following pattern:\n",
    "* A Convolution layer with rectified linear activations\n",
    "* A Pooling layer\n",
    "* Dropout (if regularization wants to be enforced)"
   ]
  },
  {
   "cell_type": "markdown",
   "metadata": {},
   "source": [
    "We can thus define a minimal convolutional network as"
   ]
  },
  {
   "cell_type": "code",
   "execution_count": 85,
   "metadata": {
    "collapsed": false
   },
   "outputs": [],
   "source": [
    "from keras.layers.convolutional import Convolution2D, MaxPooling2D\n",
    "\n",
    "img_rows = 28\n",
    "img_cols = 28\n",
    "kernel_size = 3 # Size of the kernel for the convolution layers\n",
    "pool_size = 2 # Size of the pooling region for the pooling layers\n",
    "\n",
    "model7 = Sequential()\n",
    "\n",
    "model7.add(Convolution2D(32, # Number convolution channels to generate\n",
    "                        kernel_size, kernel_size, # Size of convolution kernels\n",
    "                        border_mode='valid', # Strategy to deal with borders\n",
    "                        input_shape=(img_rows, img_cols, 1))) # Size = image rows x image columns x channels\n",
    "model7.add(Activation('relu'))\n",
    "model7.add(MaxPooling2D(pool_size=(pool_size, pool_size)))\n",
    "model7.add(Dropout(0.25))"
   ]
  },
  {
   "cell_type": "markdown",
   "metadata": {},
   "source": [
    "There is an issue, though: at some point we need to transform the tensor data into a vector, as the output of the network should be a vector of 10 values, representing class probabilities. We can do this by using a **Flatten** layer. Then we can add a standard Dense layer to produce the outputs:"
   ]
  },
  {
   "cell_type": "code",
   "execution_count": 86,
   "metadata": {
    "collapsed": false
   },
   "outputs": [],
   "source": [
    "from keras.layers.core import Flatten\n",
    "model7.add(Flatten())\n",
    "model7.add(Dense(10))\n",
    "model7.add(Activation('softmax'))"
   ]
  },
  {
   "cell_type": "markdown",
   "metadata": {},
   "source": [
    "<table>\n",
    " <tr><td><img src=\"img/question.png\" style=\"width:80px;height:80px;\"></td><td>\n",
    "Compile the defined network, choosing \"adam\" as the optimization algorithm, and train it with the data. Use the tensor data you prepared above, not the vectorized data. Then measure the accuracy over the test data. Have the Convolution and MaxPooling helped?\n",
    " </td></tr>\n",
    "</table>"
   ]
  },
  {
   "cell_type": "code",
   "execution_count": 87,
   "metadata": {
    "collapsed": false,
    "scrolled": true
   },
   "outputs": [],
   "source": [
    "####### INSERT YOUR CODE HERE\n",
    "model7.compile(loss='categorical_crossentropy', optimizer='adam', metrics=['accuracy'])"
   ]
  },
  {
   "cell_type": "code",
   "execution_count": 88,
   "metadata": {
    "collapsed": false
   },
   "outputs": [
    {
     "name": "stdout",
     "output_type": "stream",
     "text": [
      "Epoch 1/20\n",
      "305s - loss: 0.3575 - acc: 0.9017\n",
      "Epoch 2/20\n",
      "350s - loss: 0.1449 - acc: 0.9589\n",
      "Epoch 3/20\n",
      "309s - loss: 0.1047 - acc: 0.9700\n",
      "Epoch 4/20\n",
      "321s - loss: 0.0854 - acc: 0.9753\n",
      "Epoch 5/20\n",
      "317s - loss: 0.0765 - acc: 0.9770\n",
      "Epoch 6/20\n",
      "302s - loss: 0.0697 - acc: 0.9790\n",
      "Epoch 7/20\n",
      "327s - loss: 0.0634 - acc: 0.9806\n",
      "Epoch 8/20\n",
      "297s - loss: 0.0588 - acc: 0.9818\n",
      "Epoch 9/20\n",
      "195s - loss: 0.0553 - acc: 0.9827\n",
      "Epoch 10/20\n",
      "196s - loss: 0.0501 - acc: 0.9850\n",
      "Epoch 11/20\n",
      "199s - loss: 0.0484 - acc: 0.9850\n",
      "Epoch 12/20\n",
      "193s - loss: 0.0470 - acc: 0.9856\n",
      "Epoch 13/20\n",
      "194s - loss: 0.0425 - acc: 0.9868\n",
      "Epoch 14/20\n",
      "194s - loss: 0.0417 - acc: 0.9867\n",
      "Epoch 15/20\n",
      "197s - loss: 0.0406 - acc: 0.9873\n",
      "Epoch 16/20\n",
      "195s - loss: 0.0372 - acc: 0.9887\n",
      "Epoch 17/20\n",
      "196s - loss: 0.0362 - acc: 0.9885\n",
      "Epoch 18/20\n",
      "195s - loss: 0.0344 - acc: 0.9893\n",
      "Epoch 19/20\n",
      "192s - loss: 0.0327 - acc: 0.9890\n",
      "Epoch 20/20\n",
      "195s - loss: 0.0313 - acc: 0.9899\n"
     ]
    },
    {
     "data": {
      "text/plain": [
       "<keras.callbacks.History at 0x1b12c9e8>"
      ]
     },
     "execution_count": 88,
     "metadata": {},
     "output_type": "execute_result"
    }
   ],
   "source": [
    "model7.fit(\n",
    "    traintensor, # Training data\n",
    "    Y_train, # Labels of training data\n",
    "    batch_size=128, # Batch size for the optimizer algorithm\n",
    "    nb_epoch=20, # Number of epochs to run the optimizer algorithm\n",
    "    verbose=2 # Level of verbosity of the log messages\n",
    ")\n"
   ]
  },
  {
   "cell_type": "code",
   "execution_count": 89,
   "metadata": {
    "collapsed": false
   },
   "outputs": [
    {
     "name": "stdout",
     "output_type": "stream",
     "text": [
      "10000/10000 [==============================] - 27s    \n",
      "\n",
      "Test loss 0.0480747123877\n",
      "Test accuracy 0.9848\n"
     ]
    }
   ],
   "source": [
    "score7 = model7.evaluate(testtensor, Y_test)\n",
    "print(\"\")\n",
    "print(\"Test loss\", score7[0])\n",
    "print(\"Test accuracy\", score7[1])"
   ]
  },
  {
   "cell_type": "markdown",
   "metadata": {},
   "source": [
    "<span style=\"color:blue\">Apenas ha habido mejora respecto al modelo 5 de dos capas ocultas con dropout. La *accuracy* ha pasado de 0,9846 a 0,9848.</span>"
   ]
  },
  {
   "cell_type": "markdown",
   "metadata": {},
   "source": [
    "<table>\n",
    " <tr><td><img src=\"img/question.png\" style=\"width:80px;height:80px;\"></td><td>\n",
    "Build and train a convolutional network with the following layers:\n",
    "<ul>\n",
    "     <li>A Convolution layer of 32 channels, kernel size 3 and rectified linear activation</li>\n",
    "     <li>Another Convolution layer of 32 channels, kernel size 3 and rectified linear activation</li>\n",
    "     <li>A MaxPooling layer of size 2</li>\n",
    "     <li>A 25% Dropout</li>\n",
    "     <li>A Flatten layer</li>\n",
    "     <li>A Dense layer with 128 units and rectified linear activation</li>\n",
    "     <li>A 50% Dropout</li>\n",
    "     <li>An output Dense layer with softmax activation</li>\n",
    "</ul>\n",
    "Has the added complexity improved the accuracy results?    \n",
    " </td></tr>\n",
    "</table>"
   ]
  },
  {
   "cell_type": "code",
   "execution_count": 90,
   "metadata": {
    "collapsed": false,
    "scrolled": true
   },
   "outputs": [
    {
     "name": "stdout",
     "output_type": "stream",
     "text": [
      "____________________________________________________________________________________________________\n",
      "Layer (type)                     Output Shape          Param #     Connected to                     \n",
      "====================================================================================================\n",
      "convolution2d_3 (Convolution2D)  (None, 26, 26, 32)    320         convolution2d_input_3[0][0]      \n",
      "____________________________________________________________________________________________________\n",
      "activation_21 (Activation)       (None, 26, 26, 32)    0           convolution2d_3[0][0]            \n",
      "____________________________________________________________________________________________________\n",
      "convolution2d_4 (Convolution2D)  (None, 24, 24, 32)    9248        activation_21[0][0]              \n",
      "____________________________________________________________________________________________________\n",
      "activation_22 (Activation)       (None, 24, 24, 32)    0           convolution2d_4[0][0]            \n",
      "____________________________________________________________________________________________________\n",
      "maxpooling2d_3 (MaxPooling2D)    (None, 12, 12, 32)    0           activation_22[0][0]              \n",
      "____________________________________________________________________________________________________\n",
      "dropout_9 (Dropout)              (None, 12, 12, 32)    0           maxpooling2d_3[0][0]             \n",
      "____________________________________________________________________________________________________\n",
      "flatten_2 (Flatten)              (None, 4608)          0           dropout_9[0][0]                  \n",
      "____________________________________________________________________________________________________\n",
      "dense_19 (Dense)                 (None, 128)           589952      flatten_2[0][0]                  \n",
      "____________________________________________________________________________________________________\n",
      "activation_23 (Activation)       (None, 128)           0           dense_19[0][0]                   \n",
      "____________________________________________________________________________________________________\n",
      "dropout_10 (Dropout)             (None, 128)           0           activation_23[0][0]              \n",
      "____________________________________________________________________________________________________\n",
      "dense_20 (Dense)                 (None, 10)            1290        dropout_10[0][0]                 \n",
      "____________________________________________________________________________________________________\n",
      "activation_24 (Activation)       (None, 10)            0           dense_20[0][0]                   \n",
      "====================================================================================================\n",
      "Total params: 600,810\n",
      "Trainable params: 600,810\n",
      "Non-trainable params: 0\n",
      "____________________________________________________________________________________________________\n"
     ]
    }
   ],
   "source": [
    "####### INSERT YOUR CODE HERE\n",
    "model8 = Sequential()\n",
    "model8.add(Convolution2D(32,\n",
    "                       kernel_size, kernel_size,\n",
    "                       border_mode='valid',\n",
    "                       input_shape=(img_rows,img_cols,1)))\n",
    "model8.add(Activation('relu'))\n",
    "model8.add(Convolution2D(32,\n",
    "                       kernel_size, kernel_size,\n",
    "                       border_mode='valid',\n",
    "                       input_shape=(img_rows,img_cols,1)))\n",
    "model8.add(Activation('relu'))\n",
    "model8.add((MaxPooling2D(pool_size=(pool_size,pool_size))))\n",
    "model8.add(Dropout(0.25))\n",
    "model8.add(Flatten())\n",
    "model8.add(Dense(128))\n",
    "model8.add(Activation('relu'))\n",
    "model8.add(Dropout(0.5))\n",
    "model8.add(Dense(10))\n",
    "model8.add(Activation('softmax'))\n",
    "\n",
    "model8.summary()"
   ]
  },
  {
   "cell_type": "code",
   "execution_count": 91,
   "metadata": {
    "collapsed": true
   },
   "outputs": [],
   "source": [
    "model8.compile(loss='categorical_crossentropy', optimizer='adam', metrics=['accuracy'])"
   ]
  },
  {
   "cell_type": "code",
   "execution_count": 92,
   "metadata": {
    "collapsed": false
   },
   "outputs": [
    {
     "name": "stdout",
     "output_type": "stream",
     "text": [
      "Epoch 1/20\n",
      "824s - loss: 0.2811 - acc: 0.9151\n",
      "Epoch 2/20\n",
      "812s - loss: 0.0981 - acc: 0.9705\n",
      "Epoch 3/20\n",
      "814s - loss: 0.0723 - acc: 0.9786\n",
      "Epoch 4/20\n",
      "830s - loss: 0.0585 - acc: 0.9811\n",
      "Epoch 5/20\n",
      "819s - loss: 0.0517 - acc: 0.9844\n",
      "Epoch 6/20\n",
      "853s - loss: 0.0453 - acc: 0.9857\n",
      "Epoch 7/20\n",
      "862s - loss: 0.0415 - acc: 0.9868\n",
      "Epoch 8/20\n",
      "829s - loss: 0.0380 - acc: 0.9885\n",
      "Epoch 9/20\n",
      "820s - loss: 0.0349 - acc: 0.9885\n",
      "Epoch 10/20\n",
      "814s - loss: 0.0324 - acc: 0.9899\n",
      "Epoch 11/20\n",
      "883s - loss: 0.0299 - acc: 0.9904\n",
      "Epoch 12/20\n",
      "821s - loss: 0.0297 - acc: 0.9906\n",
      "Epoch 13/20\n",
      "824s - loss: 0.0261 - acc: 0.9916\n",
      "Epoch 14/20\n",
      "813s - loss: 0.0252 - acc: 0.9917\n",
      "Epoch 15/20\n",
      "830s - loss: 0.0221 - acc: 0.9928\n",
      "Epoch 16/20\n",
      "840s - loss: 0.0220 - acc: 0.9926\n",
      "Epoch 17/20\n",
      "830s - loss: 0.0222 - acc: 0.9929\n",
      "Epoch 18/20\n",
      "813s - loss: 0.0205 - acc: 0.9929\n",
      "Epoch 19/20\n",
      "839s - loss: 0.0203 - acc: 0.9934\n",
      "Epoch 20/20\n",
      "842s - loss: 0.0192 - acc: 0.9935\n"
     ]
    },
    {
     "data": {
      "text/plain": [
       "<keras.callbacks.History at 0x1b67cfd0>"
      ]
     },
     "execution_count": 92,
     "metadata": {},
     "output_type": "execute_result"
    }
   ],
   "source": [
    "model8.fit(traintensor, # Training data\n",
    "    Y_train, # Labels of training data\n",
    "    batch_size=128, # Batch size for the optimizer algorithm\n",
    "    nb_epoch=20, # Number of epochs to run the optimizer algorithm\n",
    "    verbose=2 # Level of verbosity of the log messages\n",
    ")"
   ]
  },
  {
   "cell_type": "code",
   "execution_count": 93,
   "metadata": {
    "collapsed": false
   },
   "outputs": [
    {
     "name": "stdout",
     "output_type": "stream",
     "text": [
      "10000/10000 [==============================] - 65s    \n",
      "\n",
      "Test loss 0.0287200998663\n",
      "Test accuracy 0.9922\n"
     ]
    }
   ],
   "source": [
    "score8 = model8.evaluate(testtensor, Y_test)\n",
    "print(\"\")\n",
    "print(\"Test loss\", score8[0])\n",
    "print(\"Test accuracy\", score8[1])"
   ]
  },
  {
   "cell_type": "markdown",
   "metadata": {},
   "source": [
    "<span style=\"color:blue\">Las dos capas de convolución han conseguido mejorar la *accuracy*, que ha pasado de 0,9848 a 0,9922.</span>"
   ]
  },
  {
   "cell_type": "markdown",
   "metadata": {},
   "source": [
    "## Final exercise: LeNet"
   ]
  },
  {
   "cell_type": "markdown",
   "metadata": {},
   "source": [
    "<a href=http://yann.lecun.com/exdb/lenet/>LeNet</a> is a particular convolutional neural network definition that has proven to be quite effective. As a final excercise we will build this network and try it on our digits problem."
   ]
  },
  {
   "cell_type": "markdown",
   "metadata": {},
   "source": [
    "<table>\n",
    " <tr><td><img src=\"img/question.png\" style=\"width:80px;height:80px;\"></td><td>\n",
    "Build and train a LeNet network, which is defined by the following layers:\n",
    "<ul>\n",
    "     <li>A Convolution layer of 20 channels, kernel size 5 and rectified linear activation</li>\n",
    "     <li>A MaxPooling layer of size 2 and stride 2 (check <a href=http://keras.io/layers/convolutional/>the docs</a>)</li>\n",
    "     <li>A 25% Dropout</li>\n",
    "     <li>A Convolution layer of 50 channels, kernel size 5 and rectified linear activation</li>\n",
    "     <li>A MaxPooling layer of size 2 and stride 2 (check <a href=http://keras.io/layers/convolutional/>the docs</a>)</li>\n",
    "     <li>A 25% Dropout</li>\n",
    "     <li>A Flatten layer</li>\n",
    "     <li>A Dense layer with 500 units and rectified linear activation</li>\n",
    "     <li>A 50% Dropout</li>\n",
    "     <li>An output Dense layer with softmax activation</li>\n",
    "</ul>\n",
    "Is this the best network so far for the problem?\n",
    " </td></tr>\n",
    "</table>"
   ]
  },
  {
   "cell_type": "code",
   "execution_count": 94,
   "metadata": {
    "collapsed": false,
    "scrolled": true
   },
   "outputs": [
    {
     "name": "stdout",
     "output_type": "stream",
     "text": [
      "____________________________________________________________________________________________________\n",
      "Layer (type)                     Output Shape          Param #     Connected to                     \n",
      "====================================================================================================\n",
      "convolution2d_5 (Convolution2D)  (None, 24, 24, 20)    520         convolution2d_input_4[0][0]      \n",
      "____________________________________________________________________________________________________\n",
      "activation_25 (Activation)       (None, 24, 24, 20)    0           convolution2d_5[0][0]            \n",
      "____________________________________________________________________________________________________\n",
      "maxpooling2d_4 (MaxPooling2D)    (None, 12, 12, 20)    0           activation_25[0][0]              \n",
      "____________________________________________________________________________________________________\n",
      "dropout_11 (Dropout)             (None, 12, 12, 20)    0           maxpooling2d_4[0][0]             \n",
      "____________________________________________________________________________________________________\n",
      "convolution2d_6 (Convolution2D)  (None, 8, 8, 50)      25050       dropout_11[0][0]                 \n",
      "____________________________________________________________________________________________________\n",
      "activation_26 (Activation)       (None, 8, 8, 50)      0           convolution2d_6[0][0]            \n",
      "____________________________________________________________________________________________________\n",
      "maxpooling2d_5 (MaxPooling2D)    (None, 4, 4, 50)      0           activation_26[0][0]              \n",
      "____________________________________________________________________________________________________\n",
      "dropout_12 (Dropout)             (None, 4, 4, 50)      0           maxpooling2d_5[0][0]             \n",
      "____________________________________________________________________________________________________\n",
      "flatten_3 (Flatten)              (None, 800)           0           dropout_12[0][0]                 \n",
      "____________________________________________________________________________________________________\n",
      "dense_21 (Dense)                 (None, 500)           400500      flatten_3[0][0]                  \n",
      "____________________________________________________________________________________________________\n",
      "activation_27 (Activation)       (None, 500)           0           dense_21[0][0]                   \n",
      "____________________________________________________________________________________________________\n",
      "dropout_13 (Dropout)             (None, 500)           0           activation_27[0][0]              \n",
      "____________________________________________________________________________________________________\n",
      "dense_22 (Dense)                 (None, 10)            5010        dropout_13[0][0]                 \n",
      "____________________________________________________________________________________________________\n",
      "activation_28 (Activation)       (None, 10)            0           dense_22[0][0]                   \n",
      "====================================================================================================\n",
      "Total params: 431,080\n",
      "Trainable params: 431,080\n",
      "Non-trainable params: 0\n",
      "____________________________________________________________________________________________________\n"
     ]
    }
   ],
   "source": [
    "####### INSERT YOUR CODE HERE\n",
    "kernel_size = 5\n",
    "pool_size = 2\n",
    "strides = 2\n",
    "img_rows = 28\n",
    "img_cols = 28\n",
    "\n",
    "model_LeNet = Sequential()\n",
    "model_LeNet.add (Convolution2D(20,\n",
    "                      kernel_size, kernel_size,\n",
    "                      border_mode='valid',\n",
    "                      input_shape=(img_rows,img_cols,1)))\n",
    "model_LeNet.add(Activation('relu'))\n",
    "model_LeNet.add(MaxPooling2D(pool_size=(pool_size,pool_size),strides=(strides,strides)))\n",
    "model_LeNet.add(Dropout(0.25))\n",
    "model_LeNet.add(Convolution2D(50,\n",
    "                     kernel_size,kernel_size,\n",
    "                     border_mode='valid',\n",
    "                     input_shape=(img_rows,img_cols,1)))\n",
    "model_LeNet.add(Activation('relu'))\n",
    "model_LeNet.add(MaxPooling2D(pool_size=(pool_size,pool_size),strides=(strides,strides)))\n",
    "model_LeNet.add(Dropout(0.25))\n",
    "model_LeNet.add(Flatten())\n",
    "model_LeNet.add(Dense(500))\n",
    "model_LeNet.add(Activation('relu'))\n",
    "model_LeNet.add(Dropout(0.5))\n",
    "model_LeNet.add(Dense(10))\n",
    "model_LeNet.add(Activation('softmax'))\n",
    "\n",
    "model_LeNet.summary()"
   ]
  },
  {
   "cell_type": "code",
   "execution_count": 95,
   "metadata": {
    "collapsed": true
   },
   "outputs": [],
   "source": [
    "model_LeNet.compile(loss='categorical_crossentropy', optimizer='adam', metrics=['accuracy'])"
   ]
  },
  {
   "cell_type": "code",
   "execution_count": 96,
   "metadata": {
    "collapsed": false
   },
   "outputs": [
    {
     "name": "stdout",
     "output_type": "stream",
     "text": [
      "Epoch 1/20\n",
      "416s - loss: 0.2553 - acc: 0.9209\n",
      "Epoch 2/20\n",
      "405s - loss: 0.0779 - acc: 0.9761\n",
      "Epoch 3/20\n",
      "360s - loss: 0.0576 - acc: 0.9820\n",
      "Epoch 4/20\n",
      "366s - loss: 0.0491 - acc: 0.9844\n",
      "Epoch 5/20\n",
      "361s - loss: 0.0433 - acc: 0.9866\n",
      "Epoch 6/20\n",
      "365s - loss: 0.0384 - acc: 0.9879\n",
      "Epoch 7/20\n",
      "360s - loss: 0.0352 - acc: 0.9890\n",
      "Epoch 8/20\n",
      "360s - loss: 0.0314 - acc: 0.9901\n",
      "Epoch 9/20\n",
      "359s - loss: 0.0295 - acc: 0.9906\n",
      "Epoch 10/20\n",
      "363s - loss: 0.0278 - acc: 0.9910\n",
      "Epoch 11/20\n",
      "361s - loss: 0.0253 - acc: 0.9922\n",
      "Epoch 12/20\n",
      "357s - loss: 0.0247 - acc: 0.9921\n",
      "Epoch 13/20\n",
      "360s - loss: 0.0246 - acc: 0.9921\n",
      "Epoch 14/20\n",
      "363s - loss: 0.0213 - acc: 0.9928\n",
      "Epoch 15/20\n",
      "360s - loss: 0.0198 - acc: 0.9935\n",
      "Epoch 16/20\n",
      "357s - loss: 0.0208 - acc: 0.9935\n",
      "Epoch 17/20\n",
      "358s - loss: 0.0191 - acc: 0.9939\n",
      "Epoch 18/20\n",
      "358s - loss: 0.0181 - acc: 0.9942\n",
      "Epoch 19/20\n",
      "367s - loss: 0.0171 - acc: 0.9943\n",
      "Epoch 20/20\n",
      "368s - loss: 0.0182 - acc: 0.9941\n"
     ]
    },
    {
     "data": {
      "text/plain": [
       "<keras.callbacks.History at 0x1c65be80>"
      ]
     },
     "execution_count": 96,
     "metadata": {},
     "output_type": "execute_result"
    }
   ],
   "source": [
    "model_LeNet.fit(\n",
    "    traintensor, # Training data\n",
    "    Y_train, # Labels of training data\n",
    "    batch_size=128, # Batch size for the optimizer algorithm\n",
    "    nb_epoch=20, # Number of epochs to run the optimizer algorithm\n",
    "    verbose=2 # Level of verbosity of the log messages\n",
    ")"
   ]
  },
  {
   "cell_type": "code",
   "execution_count": 97,
   "metadata": {
    "collapsed": false
   },
   "outputs": [
    {
     "name": "stdout",
     "output_type": "stream",
     "text": [
      "10000/10000 [==============================] - 40s    \n",
      "\n",
      "Test loss 0.0195378797124\n",
      "Test accuracy 0.9946\n"
     ]
    }
   ],
   "source": [
    "score_LeNet = model_LeNet.evaluate(testtensor, Y_test)\n",
    "print(\"\")\n",
    "print(\"Test loss\", score_LeNet[0])\n",
    "print(\"Test accuracy\", score_LeNet[1])"
   ]
  },
  {
   "cell_type": "markdown",
   "metadata": {},
   "source": [
    "<span style=\"color:blue\">La red LeNet es el mejor modelo hasta el momento. Ha conseguido elevar la *accuracy* hasta 0,9946. Solo falla en 54 imágenes de las 10 000 del conjunto de test. Ahora la probabilidad de acertar correctamente un código postal de 9 dígitos es $0,9946^9 = 0,9524. Una probabilidad bastante buena ya.</span>"
   ]
  },
  {
   "cell_type": "markdown",
   "metadata": {},
   "source": [
    "<center>\n",
    "~.~.~.~.~.~.~.~.~.~.~.~.~.~.~.~.~.~.~.~.~.~.~.~.~.~.~.~.~.~.~.~.~.~.~.~.~.~.~.~.~.~.~.~.<br>\n",
    "                          THIS IS THE END OF THE ASSIGNMENT<br>\n",
    "~.~.~.~.~.~.~.~.~.~.~.~.~.~.~.~.~.~.~.~.~.~.~.~.~.~.~.~.~.~.~.~.~.~.~.~.~.~.~.~.~.~.~.~.<br>\n",
    "</center>"
   ]
  },
  {
   "cell_type": "markdown",
   "metadata": {},
   "source": [
    "## Bonus rounds"
   ]
  },
  {
   "cell_type": "markdown",
   "metadata": {},
   "source": [
    "<table>\n",
    " <tr><td><img src=\"img/pro.png\" style=\"width:80px;height:80px;\"></td><td>\n",
    "Rebuild the LeNet network with a larger number of training epochs. What is the best test error you can achieve?\n",
    " </td></tr>\n",
    "</table>"
   ]
  },
  {
   "cell_type": "code",
   "execution_count": 98,
   "metadata": {
    "collapsed": false
   },
   "outputs": [
    {
     "name": "stdout",
     "output_type": "stream",
     "text": [
      "Epoch 1/40\n",
      "364s - loss: 0.0171 - acc: 0.9942\n",
      "Epoch 2/40\n",
      "363s - loss: 0.0158 - acc: 0.9950\n",
      "Epoch 3/40\n",
      "361s - loss: 0.0155 - acc: 0.9950\n",
      "Epoch 4/40\n",
      "361s - loss: 0.0159 - acc: 0.9947\n",
      "Epoch 5/40\n",
      "358s - loss: 0.0140 - acc: 0.9956\n",
      "Epoch 6/40\n",
      "358s - loss: 0.0152 - acc: 0.9950\n",
      "Epoch 7/40\n",
      "358s - loss: 0.0140 - acc: 0.9950\n",
      "Epoch 8/40\n",
      "360s - loss: 0.0138 - acc: 0.9954\n",
      "Epoch 9/40\n",
      "358s - loss: 0.0138 - acc: 0.9953\n",
      "Epoch 10/40\n",
      "366s - loss: 0.0136 - acc: 0.9954\n",
      "Epoch 11/40\n",
      "364s - loss: 0.0141 - acc: 0.9955\n",
      "Epoch 12/40\n",
      "360s - loss: 0.0133 - acc: 0.9955\n",
      "Epoch 13/40\n",
      "361s - loss: 0.0133 - acc: 0.9956\n",
      "Epoch 14/40\n",
      "359s - loss: 0.0130 - acc: 0.9959\n",
      "Epoch 15/40\n",
      "362s - loss: 0.0137 - acc: 0.9952\n",
      "Epoch 16/40\n",
      "359s - loss: 0.0116 - acc: 0.9964\n",
      "Epoch 17/40\n",
      "361s - loss: 0.0102 - acc: 0.9966\n",
      "Epoch 18/40\n",
      "366s - loss: 0.0117 - acc: 0.9963\n",
      "Epoch 19/40\n",
      "364s - loss: 0.0111 - acc: 0.9963\n",
      "Epoch 20/40\n",
      "361s - loss: 0.0117 - acc: 0.9962\n",
      "Epoch 21/40\n",
      "365s - loss: 0.0106 - acc: 0.9963\n",
      "Epoch 22/40\n",
      "360s - loss: 0.0107 - acc: 0.9969\n",
      "Epoch 23/40\n",
      "367s - loss: 0.0112 - acc: 0.9964\n",
      "Epoch 24/40\n",
      "358s - loss: 0.0100 - acc: 0.9967\n",
      "Epoch 25/40\n",
      "391s - loss: 0.0117 - acc: 0.9964\n",
      "Epoch 26/40\n",
      "382s - loss: 0.0111 - acc: 0.9964\n",
      "Epoch 27/40\n",
      "373s - loss: 0.0113 - acc: 0.9964\n",
      "Epoch 28/40\n",
      "375s - loss: 0.0111 - acc: 0.9965\n",
      "Epoch 29/40\n",
      "394s - loss: 0.0099 - acc: 0.9969\n",
      "Epoch 30/40\n",
      "359s - loss: 0.0112 - acc: 0.9965\n",
      "Epoch 31/40\n",
      "364s - loss: 0.0101 - acc: 0.9968\n",
      "Epoch 32/40\n",
      "363s - loss: 0.0114 - acc: 0.9963\n",
      "Epoch 33/40\n",
      "385s - loss: 0.0102 - acc: 0.9965\n",
      "Epoch 34/40\n",
      "381s - loss: 0.0105 - acc: 0.9966\n",
      "Epoch 35/40\n",
      "373s - loss: 0.0121 - acc: 0.9968\n",
      "Epoch 36/40\n",
      "354s - loss: 0.0088 - acc: 0.9972\n",
      "Epoch 37/40\n",
      "382s - loss: 0.0101 - acc: 0.9968\n",
      "Epoch 38/40\n",
      "379s - loss: 0.0101 - acc: 0.9970\n",
      "Epoch 39/40\n",
      "402s - loss: 0.0092 - acc: 0.9969\n",
      "Epoch 40/40\n",
      "357s - loss: 0.0093 - acc: 0.9969\n"
     ]
    },
    {
     "data": {
      "text/plain": [
       "<keras.callbacks.History at 0x1c7b9978>"
      ]
     },
     "execution_count": 98,
     "metadata": {},
     "output_type": "execute_result"
    }
   ],
   "source": [
    "model_LeNet.fit(\n",
    "    traintensor, # Training data\n",
    "    Y_train, # Labels of training data\n",
    "    batch_size=128, # Batch size for the optimizer algorithm\n",
    "    nb_epoch=40, # Number of epochs to run the optimizer algorithm\n",
    "    verbose=2 # Level of verbosity of the log messages\n",
    ")"
   ]
  },
  {
   "cell_type": "code",
   "execution_count": 99,
   "metadata": {
    "collapsed": false
   },
   "outputs": [
    {
     "name": "stdout",
     "output_type": "stream",
     "text": [
      "10000/10000 [==============================] - 40s    \n",
      "\n",
      "Test loss 0.0335501043057\n",
      "Test accuracy 0.9934\n"
     ]
    }
   ],
   "source": [
    "score_LeNet = model_LeNet.evaluate(testtensor, Y_test)\n",
    "print(\"\")\n",
    "print(\"Test loss\", score_LeNet[0])\n",
    "print(\"Test accuracy\", score_LeNet[1])"
   ]
  },
  {
   "cell_type": "markdown",
   "metadata": {},
   "source": [
    "<span style=\"color:blue\">Aumentar el número de *epochs* (40) no ha mejorado la *accuracy*. De hecho, ha habido un ligero empeoramiento respecto del modelo LeNet anterior (20 epochs).</span>"
   ]
  },
  {
   "cell_type": "markdown",
   "metadata": {},
   "source": [
    "<table>\n",
    " <tr><td><img src=\"img/pro.png\" style=\"width:80px;height:80px;\"></td><td>\n",
    "If your PC has a CUDA-compatible GPU card you can take advantage of it to significanly accelerate training times. You are encouraged to configure Keras to make use of your GPU.\n",
    " </td></tr>\n",
    "</table>"
   ]
  }
 ],
 "metadata": {
  "anaconda-cloud": {},
  "kernelspec": {
   "display_name": "Python [default]",
   "language": "python",
   "name": "python3"
  },
  "language_info": {
   "codemirror_mode": {
    "name": "ipython",
    "version": 3
   },
   "file_extension": ".py",
   "mimetype": "text/x-python",
   "name": "python",
   "nbconvert_exporter": "python",
   "pygments_lexer": "ipython3",
   "version": "3.5.2"
  }
 },
 "nbformat": 4,
 "nbformat_minor": 0
}
